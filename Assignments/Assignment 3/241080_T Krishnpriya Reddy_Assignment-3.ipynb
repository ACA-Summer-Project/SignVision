{
 "cells": [
  {
   "cell_type": "code",
   "execution_count": 1,
   "id": "0fb446db-caff-47b5-8461-8f524c0600fd",
   "metadata": {},
   "outputs": [],
   "source": [
    "import torch\n",
    "import torch.nn as nn\n",
    "import torch.nn.functional as F"
   ]
  },
  {
   "cell_type": "code",
   "execution_count": 4,
   "id": "f437e918-0fbc-4924-b1ff-c24c284e53b6",
   "metadata": {},
   "outputs": [],
   "source": [
    "class Model(nn.Module):\n",
    "    def __init__(self, in_features=4, h1=8, h2=8, out_features=3):\n",
    "        super().__init__()\n",
    "        self.fc1=nn.Linear(in_features,h1)\n",
    "        self.fc2=nn.Linear(h1,h2)\n",
    "        self.out=nn.Linear(h2,out_features)\n",
    "    def forward(self,x):\n",
    "        x=F.relu(self.fc1(x))\n",
    "        x=F.relu(self.fc2(x))\n",
    "        x=self.out(x)\n",
    "        return x\n",
    "model=Model()"
   ]
  },
  {
   "cell_type": "code",
   "execution_count": 5,
   "id": "a047baae-25ef-4383-b80e-78ffb4b973a7",
   "metadata": {},
   "outputs": [],
   "source": [
    "import numpy as np\n",
    "import pandas as pd\n",
    "import matplotlib.pyplot as plt"
   ]
  },
  {
   "cell_type": "code",
   "execution_count": 6,
   "id": "f8959505-267d-4e22-8c7f-4ee3bfe90a87",
   "metadata": {},
   "outputs": [],
   "source": [
    "df=pd.read_csv('iris.csv')"
   ]
  },
  {
   "cell_type": "code",
   "execution_count": 8,
   "id": "a48e6433-d870-407c-b1b7-1a6d8859ab0c",
   "metadata": {},
   "outputs": [],
   "source": [
    "df['Species']=df['Species'].replace('Iris-setosa',0.0)\n",
    "df['Species']=df['Species'].replace('Iris-versicolor',1.0)\n",
    "df['Species']=df['Species'].replace('Iris-virginica',2.0)"
   ]
  },
  {
   "cell_type": "code",
   "execution_count": 9,
   "id": "dc6695b8-6e3b-4d2e-95ab-f8f652ddcae4",
   "metadata": {},
   "outputs": [],
   "source": [
    "X=df.drop('Species',axis=1)\n",
    "y=df['Species']"
   ]
  },
  {
   "cell_type": "code",
   "execution_count": 10,
   "id": "0443d8e1-05da-415e-8ec3-f752b6c7c521",
   "metadata": {},
   "outputs": [],
   "source": [
    "X=X.values\n",
    "y=y.values"
   ]
  },
  {
   "cell_type": "code",
   "execution_count": 11,
   "id": "974d9c56-58c7-4172-901c-018cfa9cdb28",
   "metadata": {},
   "outputs": [],
   "source": [
    "from sklearn.model_selection import train_test_split\n",
    "X_train,X_test,y_train,y_test=train_test_split(X,y,test_size=0.2, random_state=1)"
   ]
  },
  {
   "cell_type": "code",
   "execution_count": 12,
   "id": "a5ff8e52-bca3-46ee-9985-bbdb6ede9cd7",
   "metadata": {},
   "outputs": [],
   "source": [
    "X_train=torch.FloatTensor(X_train)\n",
    "X_test=torch.FloatTensor(X_test)\n",
    "y_train=torch.LongTensor(y_train)\n",
    "y_test=torch.LongTensor(y_test)"
   ]
  },
  {
   "cell_type": "code",
   "execution_count": 16,
   "id": "07b993db-80ea-4fae-b3a1-5b56a4898b6c",
   "metadata": {},
   "outputs": [
    {
     "data": {
      "text/plain": [
       "torch.Size([120, 5])"
      ]
     },
     "execution_count": 16,
     "metadata": {},
     "output_type": "execute_result"
    }
   ],
   "source": [
    "X_train.shape"
   ]
  },
  {
   "cell_type": "code",
   "execution_count": 17,
   "id": "d7e2f9a2-38ea-4889-bf2c-bfbbb632e0be",
   "metadata": {},
   "outputs": [],
   "source": [
    "class Model(nn.Module):\n",
    "    def __init__(self):\n",
    "        super(Model, self).__init__()\n",
    "        self.fc1 = nn.Linear(5, 16) \n",
    "        self.fc2 = nn.Linear(16, 8)    \n",
    "        self.out = nn.Linear(8, 3)     \n",
    "    def forward(self, x):\n",
    "        x = F.relu(self.fc1(x))\n",
    "        x = F.relu(self.fc2(x))\n",
    "        x = self.out(x)\n",
    "        return x"
   ]
  },
  {
   "cell_type": "code",
   "execution_count": 18,
   "id": "8aa7063c-db18-42de-b3bf-a70aa45ab964",
   "metadata": {},
   "outputs": [],
   "source": [
    "model=Model()"
   ]
  },
  {
   "cell_type": "code",
   "execution_count": 20,
   "id": "0f1fedd8-0394-4120-87db-d2273103d389",
   "metadata": {},
   "outputs": [
    {
     "name": "stdout",
     "output_type": "stream",
     "text": [
      "Epoch:0 and loss:1.4038892984390259\n",
      "Epoch:10 and loss:0.8516011834144592\n",
      "Epoch:20 and loss:0.6260815858840942\n",
      "Epoch:30 and loss:0.4185355007648468\n",
      "Epoch:40 and loss:0.27698054909706116\n",
      "Epoch:50 and loss:0.18775354325771332\n",
      "Epoch:60 and loss:0.12878303229808807\n",
      "Epoch:70 and loss:0.08555824309587479\n",
      "Epoch:80 and loss:0.0553688183426857\n",
      "Epoch:90 and loss:0.036332305520772934\n"
     ]
    }
   ],
   "source": [
    "criterion=nn.CrossEntropyLoss()\n",
    "optimizer=torch.optim.Adam(model.parameters(),lr=0.01)\n",
    "epochs=100\n",
    "losses=[]\n",
    "for i in range(epochs):\n",
    "    y_pred=model(X_train)\n",
    "    loss=criterion(y_pred,y_train)\n",
    "    losses.append(loss.detach().numpy())\n",
    "    if i%10==0:\n",
    "        print(f'Epoch:{i} and loss:{loss}')\n",
    "    optimizer.zero_grad()\n",
    "    loss.backward()\n",
    "    optimizer.step()"
   ]
  },
  {
   "cell_type": "code",
   "execution_count": 21,
   "id": "1a33a9cd-5ed2-46ed-94f7-b560239220af",
   "metadata": {},
   "outputs": [
    {
     "data": {
      "image/png": "[encoded data removed]",
      "text/plain": [
       "<Figure size 640x480 with 1 Axes>"
      ]
     },
     "metadata": {},
     "output_type": "display_data"
    }
   ],
   "source": [
    "plt.plot(range(epochs),losses)\n",
    "plt.xlabel='Epoch'\n",
    "plt.ylabel='Loss'"
   ]
  },
  {
   "cell_type": "code",
   "execution_count": 25,
   "id": "9d108756-ab67-4fbb-bffe-fe02c2df2e7f",
   "metadata": {},
   "outputs": [
    {
     "name": "stdout",
     "output_type": "stream",
     "text": [
      "Epoch 0:\n",
      "Test Loss: 0.0589\n",
      "Test Acc: 1.0000\n",
      "Epoch 10:\n",
      "Test Loss: 0.0589\n",
      "Test Acc: 1.0000\n",
      "Epoch 20:\n",
      "Test Loss: 0.0589\n",
      "Test Acc: 1.0000\n",
      "Epoch 30:\n",
      "Test Loss: 0.0589\n",
      "Test Acc: 1.0000\n",
      "Epoch 40:\n",
      "Test Loss: 0.0589\n",
      "Test Acc: 1.0000\n",
      "Epoch 50:\n",
      "Test Loss: 0.0589\n",
      "Test Acc: 1.0000\n",
      "Epoch 60:\n",
      "Test Loss: 0.0589\n",
      "Test Acc: 1.0000\n",
      "Epoch 70:\n",
      "Test Loss: 0.0589\n",
      "Test Acc: 1.0000\n",
      "Epoch 80:\n",
      "Test Loss: 0.0589\n",
      "Test Acc: 1.0000\n",
      "Epoch 90:\n",
      "Test Loss: 0.0589\n",
      "Test Acc: 1.0000\n"
     ]
    }
   ],
   "source": [
    "from sklearn.metrics import accuracy_score\n",
    "test_losses=[]\n",
    "test_accuracies = []\n",
    "for epoch in range(epochs):\n",
    "    model.eval()\n",
    "    with torch.no_grad():\n",
    "        y_test_pred = model(X_test)\n",
    "        test_loss = criterion(y_test_pred, y_test)\n",
    "        test_losses.append(test_loss.item())\n",
    "\n",
    "        _, test_predicted = torch.max(y_test_pred, 1)\n",
    "        test_acc = accuracy_score(y_test.cpu(), test_predicted.cpu())\n",
    "        test_accuracies.append(test_acc)\n",
    "\n",
    "    if epoch % 10 == 0:\n",
    "        print(f\"Epoch {epoch}:\")\n",
    "        print(f\"Test Loss: {test_loss.item():.4f}\")\n",
    "        print(f\"Test Acc: {test_acc:.4f}\")"
   ]
  },
  {
   "cell_type": "code",
   "execution_count": 28,
   "id": "0ef36327-3d2b-4282-86ad-22faffb90d17",
   "metadata": {},
   "outputs": [
    {
     "ename": "TypeError",
     "evalue": "'str' object is not callable",
     "output_type": "error",
     "traceback": [
      "\u001b[31m---------------------------------------------------------------------------\u001b[39m",
      "\u001b[31mTypeError\u001b[39m                                 Traceback (most recent call last)",
      "\u001b[36mCell\u001b[39m\u001b[36m \u001b[39m\u001b[32mIn[28]\u001b[39m\u001b[32m, line 6\u001b[39m\n\u001b[32m      4\u001b[39m plt.plot(test_losses, label=\u001b[33m'\u001b[39m\u001b[33mTest Loss\u001b[39m\u001b[33m'\u001b[39m)\n\u001b[32m      5\u001b[39m plt.title(\u001b[33m\"\u001b[39m\u001b[33mLoss vs Epochs\u001b[39m\u001b[33m\"\u001b[39m)\n\u001b[32m----> \u001b[39m\u001b[32m6\u001b[39m \u001b[43mplt\u001b[49m\u001b[43m.\u001b[49m\u001b[43mxlabel\u001b[49m\u001b[43m(\u001b[49m\u001b[33;43m\"\u001b[39;49m\u001b[33;43mEpoch\u001b[39;49m\u001b[33;43m\"\u001b[39;49m\u001b[43m)\u001b[49m\n\u001b[32m      7\u001b[39m plt.ylabel(\u001b[33m\"\u001b[39m\u001b[33mLoss\u001b[39m\u001b[33m\"\u001b[39m)\n\u001b[32m      8\u001b[39m plt.legend()\n",
      "\u001b[31mTypeError\u001b[39m: 'str' object is not callable"
     ]
    },
    {
     "data": {
      "image/png": "[encoded data removed]",
      "text/plain": [
       "<Figure size 1200x400 with 1 Axes>"
      ]
     },
     "metadata": {},
     "output_type": "display_data"
    }
   ],
   "source": [
    "plt.figure(figsize=(12, 4))\n",
    "plt.subplot(1, 2, 1)\n",
    "plt.plot(losses, label='Train Loss')\n",
    "plt.plot(test_losses, label='Test Loss')\n",
    "plt.title(\"Loss vs Epochs\")\n",
    "plt.xlabel(\"Epoch\")\n",
    "plt.ylabel(\"Loss\")\n",
    "plt.legend()\n",
    "\n",
    "plt.subplot(1, 2, 2)\n",
    "plt.plot(train_accuracies, label='Train Accuracy')\n",
    "plt.plot(test_accuracies, label='Test Accuracy')\n",
    "plt.title(\"Accuracy vs Epochs\")\n",
    "plt.xlabel(\"Epoch\")\n",
    "plt.ylabel(\"Accuracy\")\n",
    "plt.legend()\n",
    "\n",
    "plt.tight_layout()\n",
    "plt.show()\n",
    "\n",
    "cm = confusion_matrix(y_test.cpu(), test_predicted.cpu())\n",
    "disp = ConfusionMatrixDisplay(confusion_matrix=cm)\n",
    "disp.plot(cmap=plt.cm.Blues)\n",
    "plt.title(\"Confusion Matrix\")\n",
    "plt.show()\n"
   ]
  },
  {
   "cell_type": "code",
   "execution_count": null,
   "id": "0fbe4d2d-e057-4769-a01c-dcf3a6bfbe7f",
   "metadata": {},
   "outputs": [],
   "source": []
  }
 ],
 "metadata": {
  "kernelspec": {
   "display_name": "Python 3 (ipykernel)",
   "language": "python",
   "name": "python3"
  },
  "language_info": {
   "codemirror_mode": {
    "name": "ipython",
    "version": 3
   },
   "file_extension": ".py",
   "mimetype": "text/x-python",
   "name": "python",
   "nbconvert_exporter": "python",
   "pygments_lexer": "ipython3",
   "version": "3.12.4"
  }
 },
 "nbformat": 4,
 "nbformat_minor": 5
}
