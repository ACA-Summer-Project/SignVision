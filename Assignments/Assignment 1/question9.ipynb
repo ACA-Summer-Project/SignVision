{
 "cells": [
  {
   "cell_type": "code",
   "execution_count": null,
   "id": "9fec73ea",
   "metadata": {
    "vscode": {
     "languageId": "plaintext"
    }
   },
   "outputs": [],
   "source": [
    "import matplotlib.pyplot as plt\n",
    "\n",
    "data = {\n",
    "    'Name': ['Alice', 'Bob', 'Charlie', 'David', 'Eva'],\n",
    "    'Math': [85, 84, 80, 91, 79],\n",
    "    'Science': [90, 78, 92, 88, 76],\n",
    "    'English': [78, 82, 89, 94, 75],\n",
    "    'History': [77, 85, 88, 80, 82]\n",
    "}\n",
    "\n",
    "# Bar chart\n",
    "plt.bar(data['Name'], data['Math'])\n",
    "plt.title('Math Scores by Student')\n",
    "plt.xlabel('Students')\n",
    "plt.ylabel('Scores')\n",
    "plt.show()\n",
    "\n",
    "# Line plot\n",
    "subjects = ['Math', 'Science', 'English', 'History']\n",
    "for subject in subjects:\n",
    "    plt.plot(data['Name'], data[subject], label=subject)\n",
    "plt.title('Subject Comparison')\n",
    "plt.xlabel('Students')\n",
    "plt.ylabel('Scores')\n",
    "plt.legend()\n",
    "plt.show()"
   ]
  },
  {
   "cell_type": "code",
   "execution_count": null,
   "id": "e653c0b7",
   "metadata": {
    "vscode": {
     "languageId": "plaintext"
    }
   },
   "outputs": [],
   "source": []
  },
  {
   "cell_type": "code",
   "execution_count": null,
   "id": "fa1e5e5a",
   "metadata": {
    "vscode": {
     "languageId": "plaintext"
    }
   },
   "outputs": [],
   "source": []
  }
 ],
 "metadata": {
  "language_info": {
   "name": "python"
  }
 },
 "nbformat": 4,
 "nbformat_minor": 5
}
