{
  "nbformat": 4,
  "nbformat_minor": 0,
  "metadata": {
    "colab": {
      "provenance": []
    },
    "kernelspec": {
      "name": "python3",
      "display_name": "Python 3"
    },
    "language_info": {
      "name": "python"
    }
  },
  "cells": [
    {
      "cell_type": "markdown",
      "source": [
        "Question 1: Lists and Loops\n",
        "Write a Python program that performs the following:\n",
        "1. Define the list:\n",
        "numbers = [15, 8, 22, 7, 31, 4, 17]\n",
        "2. Print all even numbers from the list.\n",
        "3. Create a new list containing the square of each odd number.\n",
        "4. Print the new list."
      ],
      "metadata": {
        "id": "jInpyWFXyhcX"
      }
    },
    {
      "cell_type": "code",
      "execution_count": 4,
      "metadata": {
        "colab": {
          "base_uri": "https://localhost:8080/"
        },
        "id": "WFo7vf3CyXFo",
        "outputId": "527ac917-a47a-4e14-f598-f8e9ddc6504a"
      },
      "outputs": [
        {
          "output_type": "stream",
          "name": "stdout",
          "text": [
            "8\n",
            "22\n",
            "4\n",
            "[225, 49, 961, 289]\n"
          ]
        }
      ],
      "source": [
        "#Creating list l\n",
        "l=[15,8,22,7,31,4,17]\n",
        "#to print all even numbers\n",
        "for i in range(len(l)):\n",
        "  if (l[i]%2==0):\n",
        "    print(l[i])\n",
        "#to create a new list containing the square of each odd number\n",
        "new_l=[]\n",
        "for i in range(len(l)):\n",
        "  if (l[i]%2!=0):\n",
        "    new_l.append(l[i]**2)\n",
        "#printing the new list\n",
        "print(new_l)"
      ]
    },
    {
      "cell_type": "markdown",
      "source": [
        "Question 2: Strings and Dictionaries\n",
        "\n",
        "Write a program to count how many times each word appears in a sentence.\n",
        "1. Given the sentence:\n",
        "\"The book was interesting because the book covered many topics and the topics\n",
        "discussed in the book were engaging\"\n",
        "2. Convert the sentence to lowercase and split it into words.\n",
        "3. Create a dictionary where:\n",
        "o Keys are unique words\n",
        "o Values are the word counts\n",
        "4. Print the dictionary."
      ],
      "metadata": {
        "id": "tw74dc-bzZ0y"
      }
    },
    {
      "cell_type": "code",
      "source": [
        "#to write a program to count no of times each word appeared in the sentence\n",
        "\n",
        "string=\"The book was interesting because the book covered many topics and the topics discussed in the book were engaging\"\n",
        "str2=string.lower().split(' ')\n",
        "dictionary={}\n",
        "for i in range(len(str2)):\n",
        "  dictionary.update({str2[i]:str2.count(str2[i])})\n",
        "print(dictionary)"
      ],
      "metadata": {
        "colab": {
          "base_uri": "https://localhost:8080/"
        },
        "id": "VM6mODgjzssb",
        "outputId": "2cc237d2-615d-44d7-c29b-294c4e62ffc6"
      },
      "execution_count": 8,
      "outputs": [
        {
          "output_type": "stream",
          "name": "stdout",
          "text": [
            "{'the': 4, 'book': 3, 'was': 1, 'interesting': 1, 'because': 1, 'covered': 1, 'many': 1, 'topics': 2, 'and': 1, 'discussed': 1, 'in': 1, 'were': 1, 'engaging': 1}\n"
          ]
        }
      ]
    },
    {
      "cell_type": "markdown",
      "source": [
        "Question 3: Functions and Conditional Logic\n",
        "Define a function called is_prime(n) that checks if a number is prime.\n",
        "1. Given the list:\n",
        "nums = [2, 4, 5, 10, 13, 17, 20, 23]\n",
        "2. Use the function to check each number in the list.\n",
        "3. Store and print only the prime numbers in a new list."
      ],
      "metadata": {
        "id": "gL-e6A5g1y3W"
      }
    },
    {
      "cell_type": "code",
      "source": [
        "def is_prime(n):\n",
        "  for i in range(2,n):\n",
        "    if n%(i)==0:\n",
        "      return False\n",
        "  return True\n",
        "nums = [2, 4, 5, 10, 13, 17, 20, 23]\n",
        "new_l=[]\n",
        "for i in range(len(nums)):\n",
        "  if is_prime(nums[i]):\n",
        "    new_l.append(nums[i])\n",
        "print(new_l)"
      ],
      "metadata": {
        "colab": {
          "base_uri": "https://localhost:8080/"
        },
        "id": "3X382gXZ1vD_",
        "outputId": "95e0693b-94d3-4d38-d3ca-ff9af657f498"
      },
      "execution_count": 13,
      "outputs": [
        {
          "output_type": "stream",
          "name": "stdout",
          "text": [
            "[2, 5, 13, 17, 23]\n"
          ]
        }
      ]
    },
    {
      "cell_type": "markdown",
      "source": [
        "Question 4: NumPy Array Operations and Statistics\n",
        "\n",
        "Use NumPy to simulate and analyze student test scores.\n",
        "\n",
        "1. Generate a 2D NumPy array scores of shape (10, 5) representing scores of 10\n",
        "students in 5 subjects, with random integers between 50 and 100.\n",
        "2. Perform the following:\n",
        "\n",
        "\n",
        "*   Compute the average score per student\n",
        "*   Compute the maximum score per subject.\n",
        "*   Add a new column with each student's average score\n",
        "*   Print the final array.\n",
        "\n",
        "\n"
      ],
      "metadata": {
        "id": "AHtz-G8x2uSs"
      }
    },
    {
      "cell_type": "code",
      "source": [
        "import numpy as np\n",
        "scores=np.random.randint(50,100,(10,5))\n",
        "avg_scores=np.mean(scores,axis=1)\n",
        "max_scores=np.max(scores,axis=0)\n",
        "scores=np.hstack((scores,avg_scores.reshape(-1,1)))\n",
        "print(scores)\n"
      ],
      "metadata": {
        "colab": {
          "base_uri": "https://localhost:8080/"
        },
        "id": "G4DjKnd73Fcc",
        "outputId": "6f593b51-b1ff-474e-eafd-211bc7f65a58"
      },
      "execution_count": 4,
      "outputs": [
        {
          "output_type": "stream",
          "name": "stdout",
          "text": [
            "[[84.  98.  66.  92.  78.  83.6]\n",
            " [58.  95.  70.  77.  71.  74.2]\n",
            " [82.  80.  87.  59.  54.  72.4]\n",
            " [54.  71.  50.  53.  91.  63.8]\n",
            " [57.  60.  75.  97.  61.  70. ]\n",
            " [76.  63.  55.  54.  94.  68.4]\n",
            " [91.  59.  72.  88.  89.  79.8]\n",
            " [58.  72.  88.  50.  57.  65. ]\n",
            " [75.  71.  69.  98.  93.  81.2]\n",
            " [83.  56.  97.  85.  92.  82.6]]\n"
          ]
        }
      ]
    },
    {
      "cell_type": "markdown",
      "source": [
        "Question 5: Saving Data to CSV\n",
        "\n",
        "Using the array from Question 4:\n",
        "\n",
        "1. Create a CSV file named student_scores.csv with the following header:\n",
        "\"Subject1,Subject2,Subject3,Subject4,Subject5,Average\"\n",
        "2. Save the data (including the average column) to the file.\n",
        "3. Ensure the file contains:\n",
        "* One row per student\n",
        "* Comma-separated values\n",
        "* The header row at the top"
      ],
      "metadata": {
        "id": "NrIj7Oui1xaW"
      }
    },
    {
      "cell_type": "code",
      "source": [
        "np.savetxt('scores.csv',scores,delimiter=',',header=\"Subject1,Subject2,Subject3,Subject4,Subject5,Average\", comments=' ', fmt='%0.2f')\n",
        "from google.colab import files\n",
        "files.download('scores.csv')\n"
      ],
      "metadata": {
        "colab": {
          "base_uri": "https://localhost:8080/",
          "height": 17
        },
        "id": "f4-W8FnJ14Vw",
        "outputId": "da133c3e-1694-4c17-fe7a-a4e0e03ca324"
      },
      "execution_count": 10,
      "outputs": [
        {
          "output_type": "display_data",
          "data": {
            "text/plain": [
              "<IPython.core.display.Javascript object>"
            ],
            "application/javascript": [
              "\n",
              "    async function download(id, filename, size) {\n",
              "      if (!google.colab.kernel.accessAllowed) {\n",
              "        return;\n",
              "      }\n",
              "      const div = document.createElement('div');\n",
              "      const label = document.createElement('label');\n",
              "      label.textContent = `Downloading \"${filename}\": `;\n",
              "      div.appendChild(label);\n",
              "      const progress = document.createElement('progress');\n",
              "      progress.max = size;\n",
              "      div.appendChild(progress);\n",
              "      document.body.appendChild(div);\n",
              "\n",
              "      const buffers = [];\n",
              "      let downloaded = 0;\n",
              "\n",
              "      const channel = await google.colab.kernel.comms.open(id);\n",
              "      // Send a message to notify the kernel that we're ready.\n",
              "      channel.send({})\n",
              "\n",
              "      for await (const message of channel.messages) {\n",
              "        // Send a message to notify the kernel that we're ready.\n",
              "        channel.send({})\n",
              "        if (message.buffers) {\n",
              "          for (const buffer of message.buffers) {\n",
              "            buffers.push(buffer);\n",
              "            downloaded += buffer.byteLength;\n",
              "            progress.value = downloaded;\n",
              "          }\n",
              "        }\n",
              "      }\n",
              "      const blob = new Blob(buffers, {type: 'application/binary'});\n",
              "      const a = document.createElement('a');\n",
              "      a.href = window.URL.createObjectURL(blob);\n",
              "      a.download = filename;\n",
              "      div.appendChild(a);\n",
              "      a.click();\n",
              "      div.remove();\n",
              "    }\n",
              "  "
            ]
          },
          "metadata": {}
        },
        {
          "output_type": "display_data",
          "data": {
            "text/plain": [
              "<IPython.core.display.Javascript object>"
            ],
            "application/javascript": [
              "download(\"download_699f6814-847e-42aa-af2e-5ba3ef6d190f\", \"scores.csv\", 414)"
            ]
          },
          "metadata": {}
        }
      ]
    },
    {
      "cell_type": "code",
      "source": [
        "#Alternative way using pandas\n",
        "import pandas as pd\n",
        "column=['Subject1','Subject2','Subject3','Subject4','Subject5','Average']\n",
        "df=pd.DataFrame(scores,columns=column)\n",
        "df.to_csv('scores1.csv')\n",
        "from google.colab import files\n",
        "files.download('scores1.csv')"
      ],
      "metadata": {
        "colab": {
          "base_uri": "https://localhost:8080/",
          "height": 17
        },
        "id": "90ehMeth4Rgn",
        "outputId": "60a27e67-9c8b-4a82-f037-78372f83d578"
      },
      "execution_count": 9,
      "outputs": [
        {
          "output_type": "display_data",
          "data": {
            "text/plain": [
              "<IPython.core.display.Javascript object>"
            ],
            "application/javascript": [
              "\n",
              "    async function download(id, filename, size) {\n",
              "      if (!google.colab.kernel.accessAllowed) {\n",
              "        return;\n",
              "      }\n",
              "      const div = document.createElement('div');\n",
              "      const label = document.createElement('label');\n",
              "      label.textContent = `Downloading \"${filename}\": `;\n",
              "      div.appendChild(label);\n",
              "      const progress = document.createElement('progress');\n",
              "      progress.max = size;\n",
              "      div.appendChild(progress);\n",
              "      document.body.appendChild(div);\n",
              "\n",
              "      const buffers = [];\n",
              "      let downloaded = 0;\n",
              "\n",
              "      const channel = await google.colab.kernel.comms.open(id);\n",
              "      // Send a message to notify the kernel that we're ready.\n",
              "      channel.send({})\n",
              "\n",
              "      for await (const message of channel.messages) {\n",
              "        // Send a message to notify the kernel that we're ready.\n",
              "        channel.send({})\n",
              "        if (message.buffers) {\n",
              "          for (const buffer of message.buffers) {\n",
              "            buffers.push(buffer);\n",
              "            downloaded += buffer.byteLength;\n",
              "            progress.value = downloaded;\n",
              "          }\n",
              "        }\n",
              "      }\n",
              "      const blob = new Blob(buffers, {type: 'application/binary'});\n",
              "      const a = document.createElement('a');\n",
              "      a.href = window.URL.createObjectURL(blob);\n",
              "      a.download = filename;\n",
              "      div.appendChild(a);\n",
              "      a.click();\n",
              "      div.remove();\n",
              "    }\n",
              "  "
            ]
          },
          "metadata": {}
        },
        {
          "output_type": "display_data",
          "data": {
            "text/plain": [
              "<IPython.core.display.Javascript object>"
            ],
            "application/javascript": [
              "download(\"download_7f76a44b-88cf-41a0-ba64-ac535ade172e\", \"scores1.csv\", 374)"
            ]
          },
          "metadata": {}
        }
      ]
    },
    {
      "cell_type": "markdown",
      "source": [
        "Question 6: Creating and Exploring a DataFrame\n",
        "\n",
        "Create a Pandas DataFrame with the following structure:\n",
        "\n",
        "* Columns: Product (string), Price (float), Quantity (integer)\n",
        "* Add at least 8 rows of sample data of your choice.\n",
        "Perform the following operations:\n",
        "1. Add a column TotalValue calculated as Price × Quantity.\n",
        "2. Sort the DataFrame in descending order by TotalValue.\n",
        "3. Group the data by Price and compute the average Quantity for each price group."
      ],
      "metadata": {
        "id": "yRPmX7Pw5wYg"
      }
    },
    {
      "cell_type": "code",
      "source": [
        "column=['Product','Price','Quantity']\n",
        "string=['abc','bcd','cde','def','efg','fgh','ghi','hij']\n",
        "price=[10,20,30,40,50,60,70,80]\n",
        "quantity=[1,2,3,4,5,6,7,8]\n",
        "df=pd.DataFrame(columns=column)\n",
        "df['Product']=string\n",
        "df['Price']=price\n",
        "df['Quantity']=quantity\n",
        "df['TotalValue']=df['Price']*df['Quantity']\n",
        "df=df.sort_values(by='TotalValue',ascending=False)\n",
        "df1=df.groupby('Price').mean('quantity')\n",
        "print(df)\n",
        "print(df1)\n"
      ],
      "metadata": {
        "colab": {
          "base_uri": "https://localhost:8080/"
        },
        "id": "8XASKyGc5v7F",
        "outputId": "44b370ae-f723-4687-8617-f48fb6b85b1b"
      },
      "execution_count": 12,
      "outputs": [
        {
          "output_type": "stream",
          "name": "stdout",
          "text": [
            "  Product  Price  Quantity  TotalValue\n",
            "7     hij     80         8         640\n",
            "6     ghi     70         7         490\n",
            "5     fgh     60         6         360\n",
            "4     efg     50         5         250\n",
            "3     def     40         4         160\n",
            "2     cde     30         3          90\n",
            "1     bcd     20         2          40\n",
            "0     abc     10         1          10\n",
            "       Quantity  TotalValue\n",
            "Price                      \n",
            "10          1.0        10.0\n",
            "20          2.0        40.0\n",
            "30          3.0        90.0\n",
            "40          4.0       160.0\n",
            "50          5.0       250.0\n",
            "60          6.0       360.0\n",
            "70          7.0       490.0\n",
            "80          8.0       640.0\n"
          ]
        }
      ]
    },
    {
      "cell_type": "markdown",
      "source": [
        "Question 7: Analysis of a Real-World Dataset (Titanic)\n",
        "Use the Titanic dataset:\n",
        "https://www.kaggle.com/c/titanic/data (Download train.csv)\n",
        "1. Load the dataset using Pandas.\n",
        "2. Display the total number of missing values in each column.\n",
        "3. Filter and display:\n",
        "  * Passengers who are under 18 years old\n",
        "  * Female passengers who survived\n",
        "4. Calculate the average fare paid by passengers in each passenger class (pclass)."
      ],
      "metadata": {
        "id": "CtU_bXPC_Rcn"
      }
    },
    {
      "cell_type": "code",
      "source": [
        "import pandas as pd\n",
        "df=pd.read_csv('train.csv')\n",
        "missing_value=df.isnull().sum()\n",
        "print(missing_value)\n",
        "df1=df.loc[df['Age']<=18,['Name','Age']]\n",
        "df2=df.loc[(df['Sex']=='female') & (df['Survived']==1),['Name','Survived','Sex']]\n",
        "print('Passegers who are under 18 years old:\\n',df1)\n",
        "print('Female passengers who survived:\\n',df2)\n",
        "df3=df.groupby('Pclass')['Fare'].mean()\n",
        "print('Average fare paid by passengers in each passenger class:\\n',df3)\n"
      ],
      "metadata": {
        "colab": {
          "base_uri": "https://localhost:8080/"
        },
        "id": "3ZA_w_ZN_jRR",
        "outputId": "1dd7720a-d64b-442b-a318-69c6d1a6f681"
      },
      "execution_count": 21,
      "outputs": [
        {
          "output_type": "stream",
          "name": "stdout",
          "text": [
            "PassengerId      0\n",
            "Survived         0\n",
            "Pclass           0\n",
            "Name             0\n",
            "Sex              0\n",
            "Age            177\n",
            "SibSp            0\n",
            "Parch            0\n",
            "Ticket           0\n",
            "Fare             0\n",
            "Cabin          687\n",
            "Embarked         2\n",
            "dtype: int64\n",
            "Passegers who are under 18 years old:\n",
            "                                      Name   Age\n",
            "7          Palsson, Master. Gosta Leonard   2.0\n",
            "9     Nasser, Mrs. Nicholas (Adele Achem)  14.0\n",
            "10        Sandstrom, Miss. Marguerite Rut   4.0\n",
            "14   Vestrom, Miss. Hulda Amanda Adolfina  14.0\n",
            "16                   Rice, Master. Eugene   2.0\n",
            "..                                    ...   ...\n",
            "852               Boulos, Miss. Nourelain   9.0\n",
            "853             Lines, Miss. Mary Conover  16.0\n",
            "855            Aks, Mrs. Sam (Leah Rosen)  18.0\n",
            "869       Johnson, Master. Harold Theodor   4.0\n",
            "875      Najib, Miss. Adele Kiamie \"Jane\"  15.0\n",
            "\n",
            "[139 rows x 2 columns]\n",
            "Female passengers who survived:\n",
            "                                                   Name  Survived     Sex\n",
            "1    Cumings, Mrs. John Bradley (Florence Briggs Th...         1  female\n",
            "2                               Heikkinen, Miss. Laina         1  female\n",
            "3         Futrelle, Mrs. Jacques Heath (Lily May Peel)         1  female\n",
            "8    Johnson, Mrs. Oscar W (Elisabeth Vilhelmina Berg)         1  female\n",
            "9                  Nasser, Mrs. Nicholas (Adele Achem)         1  female\n",
            "..                                                 ...       ...     ...\n",
            "874              Abelson, Mrs. Samuel (Hannah Wizosky)         1  female\n",
            "875                   Najib, Miss. Adele Kiamie \"Jane\"         1  female\n",
            "879      Potter, Mrs. Thomas Jr (Lily Alexenia Wilson)         1  female\n",
            "880       Shelley, Mrs. William (Imanita Parrish Hall)         1  female\n",
            "887                       Graham, Miss. Margaret Edith         1  female\n",
            "\n",
            "[233 rows x 3 columns]\n",
            "Average fare paid by passengers in each passenger class:\n",
            " Pclass\n",
            "1    84.154687\n",
            "2    20.662183\n",
            "3    13.675550\n",
            "Name: Fare, dtype: float64\n"
          ]
        }
      ]
    },
    {
      "cell_type": "markdown",
      "source": [],
      "metadata": {
        "id": "bi4tUCwGbbDn"
      }
    },
    {
      "cell_type": "markdown",
      "source": [
        "Question 8: Data Cleaning and Aggregation (Heart Disease Dataset)\n",
        "\n",
        "Use the UCI Heart Disease dataset:\n",
        "\n",
        "https://archive.ics.uci.edu/dataset/45/heart+disease\n",
        "(File: processed.cleveland.data)\n",
        "\n",
        "1. Assign these column names when loading the file:\n",
        "\n",
        "['Age', 'Sex', 'ChestPainType', 'RestingBP', 'Cholesterol', 'FastingBS', 'RestingECG',\n",
        "'MaxHR', 'ExerciseAngina', 'Oldpeak', 'ST_Slope', 'NumVesselsFluoro',\n",
        "'Thalassemia', 'HeartDisease']\n",
        "\n",
        "2. Replace '?' with np.nan and convert relevant columns to numeric.\n",
        "\n",
        "3. Perform the following:\n",
        "\n",
        "* Display the count of missing values in each column.\n",
        "* Replace missing values in NumVesselsFluoro and Thalassemia using the\n",
        "median or mode, whichever is appropriate.\n",
        "* Drop any row where more than two columns have missing values.\n",
        "* Group the data by HeartDisease and compute the average cholesterol level\n",
        "for each group."
      ],
      "metadata": {
        "id": "E4raFIhfaeYa"
      }
    },
    {
      "cell_type": "code",
      "source": [
        "import numpy as np\n",
        "import pandas as pd\n",
        "df=pd.read_csv('/content/processed.cleveland.data')\n",
        "df.columns=['Age', 'Sex', 'ChestPainType', 'RestingBP', 'Cholesterol', 'FastingBS', 'RestingECG', 'MaxHR', 'ExerciseAngina', 'Oldpeak', 'ST_Slope', 'NumVesselsFluoro', 'Thalassemia', 'HeartDisease']\n",
        "print(df)\n",
        "df.replace('?',np.nan,inplace=True)\n",
        "print(df)\n",
        "missing_value=df.isnull().sum()\n",
        "print(missing_value)\n",
        "df.dropna(thresh=2,inplace=True)\n",
        "df['NumVesselsFluoro']=pd.to_numeric(df['NumVesselsFluoro'])\n",
        "df['Thalassemia']=pd.to_numeric(df['Thalassemia'])\n",
        "df['NumVesselsFluoro']=df['NumVesselsFluoro'].fillna((df['NumVesselsFluoro']).mean())\n",
        "df['NumVesselsFluoro'].round(2)\n",
        "df['Thalassemia']=df['Thalassemia'].fillna((df['Thalassemia']).mean())\n",
        "df['Thalassemia'].round(2)\n",
        "df['Cholesterol']=pd.to_numeric(df['Cholesterol'])\n",
        "print(df.groupby('HeartDisease')['Cholesterol'].mean())"
      ],
      "metadata": {
        "colab": {
          "base_uri": "https://localhost:8080/"
        },
        "id": "s3Elf5Z5bbzu",
        "outputId": "a02c6a2f-b41b-4160-a1b4-81c4a2cc50ae"
      },
      "execution_count": 38,
      "outputs": [
        {
          "output_type": "stream",
          "name": "stdout",
          "text": [
            "      Age  Sex  ChestPainType  RestingBP  Cholesterol  FastingBS  RestingECG  \\\n",
            "0    67.0  1.0            4.0      160.0        286.0        0.0         2.0   \n",
            "1    67.0  1.0            4.0      120.0        229.0        0.0         2.0   \n",
            "2    37.0  1.0            3.0      130.0        250.0        0.0         0.0   \n",
            "3    41.0  0.0            2.0      130.0        204.0        0.0         2.0   \n",
            "4    56.0  1.0            2.0      120.0        236.0        0.0         0.0   \n",
            "..    ...  ...            ...        ...          ...        ...         ...   \n",
            "297  45.0  1.0            1.0      110.0        264.0        0.0         0.0   \n",
            "298  68.0  1.0            4.0      144.0        193.0        1.0         0.0   \n",
            "299  57.0  1.0            4.0      130.0        131.0        0.0         0.0   \n",
            "300  57.0  0.0            2.0      130.0        236.0        0.0         2.0   \n",
            "301  38.0  1.0            3.0      138.0        175.0        0.0         0.0   \n",
            "\n",
            "     MaxHR  ExerciseAngina  Oldpeak  ST_Slope NumVesselsFluoro Thalassemia  \\\n",
            "0    108.0             1.0      1.5       2.0              3.0         3.0   \n",
            "1    129.0             1.0      2.6       2.0              2.0         7.0   \n",
            "2    187.0             0.0      3.5       3.0              0.0         3.0   \n",
            "3    172.0             0.0      1.4       1.0              0.0         3.0   \n",
            "4    178.0             0.0      0.8       1.0              0.0         3.0   \n",
            "..     ...             ...      ...       ...              ...         ...   \n",
            "297  132.0             0.0      1.2       2.0              0.0         7.0   \n",
            "298  141.0             0.0      3.4       2.0              2.0         7.0   \n",
            "299  115.0             1.0      1.2       2.0              1.0         7.0   \n",
            "300  174.0             0.0      0.0       2.0              1.0         3.0   \n",
            "301  173.0             0.0      0.0       1.0                ?         3.0   \n",
            "\n",
            "     HeartDisease  \n",
            "0               2  \n",
            "1               1  \n",
            "2               0  \n",
            "3               0  \n",
            "4               0  \n",
            "..            ...  \n",
            "297             1  \n",
            "298             2  \n",
            "299             3  \n",
            "300             1  \n",
            "301             0  \n",
            "\n",
            "[302 rows x 14 columns]\n",
            "      Age  Sex  ChestPainType  RestingBP  Cholesterol  FastingBS  RestingECG  \\\n",
            "0    67.0  1.0            4.0      160.0        286.0        0.0         2.0   \n",
            "1    67.0  1.0            4.0      120.0        229.0        0.0         2.0   \n",
            "2    37.0  1.0            3.0      130.0        250.0        0.0         0.0   \n",
            "3    41.0  0.0            2.0      130.0        204.0        0.0         2.0   \n",
            "4    56.0  1.0            2.0      120.0        236.0        0.0         0.0   \n",
            "..    ...  ...            ...        ...          ...        ...         ...   \n",
            "297  45.0  1.0            1.0      110.0        264.0        0.0         0.0   \n",
            "298  68.0  1.0            4.0      144.0        193.0        1.0         0.0   \n",
            "299  57.0  1.0            4.0      130.0        131.0        0.0         0.0   \n",
            "300  57.0  0.0            2.0      130.0        236.0        0.0         2.0   \n",
            "301  38.0  1.0            3.0      138.0        175.0        0.0         0.0   \n",
            "\n",
            "     MaxHR  ExerciseAngina  Oldpeak  ST_Slope NumVesselsFluoro Thalassemia  \\\n",
            "0    108.0             1.0      1.5       2.0              3.0         3.0   \n",
            "1    129.0             1.0      2.6       2.0              2.0         7.0   \n",
            "2    187.0             0.0      3.5       3.0              0.0         3.0   \n",
            "3    172.0             0.0      1.4       1.0              0.0         3.0   \n",
            "4    178.0             0.0      0.8       1.0              0.0         3.0   \n",
            "..     ...             ...      ...       ...              ...         ...   \n",
            "297  132.0             0.0      1.2       2.0              0.0         7.0   \n",
            "298  141.0             0.0      3.4       2.0              2.0         7.0   \n",
            "299  115.0             1.0      1.2       2.0              1.0         7.0   \n",
            "300  174.0             0.0      0.0       2.0              1.0         3.0   \n",
            "301  173.0             0.0      0.0       1.0              NaN         3.0   \n",
            "\n",
            "     HeartDisease  \n",
            "0               2  \n",
            "1               1  \n",
            "2               0  \n",
            "3               0  \n",
            "4               0  \n",
            "..            ...  \n",
            "297             1  \n",
            "298             2  \n",
            "299             3  \n",
            "300             1  \n",
            "301             0  \n",
            "\n",
            "[302 rows x 14 columns]\n",
            "Age                 0\n",
            "Sex                 0\n",
            "ChestPainType       0\n",
            "RestingBP           0\n",
            "Cholesterol         0\n",
            "FastingBS           0\n",
            "RestingECG          0\n",
            "MaxHR               0\n",
            "ExerciseAngina      0\n",
            "Oldpeak             0\n",
            "ST_Slope            0\n",
            "NumVesselsFluoro    4\n",
            "Thalassemia         2\n",
            "HeartDisease        0\n",
            "dtype: int64\n",
            "HeartDisease\n",
            "0    242.699387\n",
            "1    249.109091\n",
            "2    259.277778\n",
            "3    246.457143\n",
            "4    253.384615\n",
            "Name: Cholesterol, dtype: float64\n"
          ]
        }
      ]
    },
    {
      "cell_type": "markdown",
      "source": [
        "Question 9: Visualizing Student Scores\n",
        "\n",
        "Given this data representing student performance:\n",
        "\n",
        "Name Math Science English History\n",
        "\n",
        "Alice 85 90 78 84\n",
        "\n",
        "Bob 78 82 85 80\n",
        "\n",
        "Charlie 92 89 88 91\n",
        "\n",
        "David 88 94 80 79\n",
        "\n",
        "Eva 76 75 82 77\n",
        "\n",
        "Tasks:\n",
        "1. Create a bar chart showing each student’s Math score.\n",
        "2. Create a line plot comparing all 4 subjects for each student (one line per\n",
        "subject).\n",
        "3. Add proper title, axis labels, and a legend to the plot."
      ],
      "metadata": {
        "id": "LTjg7D9SB-Sj"
      }
    },
    {
      "cell_type": "code",
      "source": [
        "import matplotlib.pyplot as plt\n",
        "\n",
        "students=['Alice','Bob','Charlie','David','Eva']\n",
        "math_scores=[85,78,92,88,76]\n",
        "science_scores=[90,82,89,94,82]\n",
        "english_scores=[78,85,88,80,75]\n",
        "history_scores=[84,80,91,79,82]\n",
        "plt.figure()\n",
        "plt.bar(students,math_scores,color='blue',label='Math')\n",
        "plt.xlabel('Students')\n",
        "plt.ylabel('Scores')\n",
        "plt.title('Student Performance')\n",
        "plt.legend()\n",
        "plt.figure()\n",
        "plt.plot(students,math_scores,color='red',label='Math')\n",
        "plt.plot(students,science_scores,color='blue',label='Science')\n",
        "plt.plot(students,english_scores,color='green',label='English')\n",
        "plt.plot(students,history_scores,color='black',label='History')\n",
        "plt.xlabel('Students')\n",
        "plt.ylabel('Scores')\n",
        "plt.title('Student Performance')\n",
        "plt.grid(True)\n",
        "plt.legend()"
      ],
      "metadata": {
        "colab": {
          "base_uri": "https://localhost:8080/",
          "height": 944
        },
        "id": "7E2Fj0SyCszw",
        "outputId": "7b61819b-1c0d-4cc0-a37a-e0bb319d4c99"
      },
      "execution_count": 9,
      "outputs": [
        {
          "output_type": "execute_result",
          "data": {
            "text/plain": [
              "<matplotlib.legend.Legend at 0x7d4c8092f290>"
            ]
          },
          "metadata": {},
          "execution_count": 9
        },
        {
          "output_type": "display_data",
          "data": {
            "text/plain": [
              "<Figure size 640x480 with 1 Axes>"
            ],
            "image/png": "[encoded data removed]"
          },
          "metadata": {}
        },
        {
          "output_type": "display_data",
          "data": {
            "text/plain": [
              "<Figure size 640x480 with 1 Axes>"
            ],
            "image/png": "[encoded data removed]"
          },
          "metadata": {}
        }
      ]
    },
    {
      "cell_type": "markdown",
      "source": [
        "Question 10: Visualizing Random Data Distribution\n",
        "\n",
        "Use NumPy and Matplotlib to generate and visualize data.\n",
        "1. Generate 1000 random numbers from a normal distribution with mean = 50 and\n",
        "std = 10.\n",
        "2. Plot a histogram of the data.\n",
        "3. Customize the plot with:\n",
        "* 20 bins\n",
        "* A vertical line indicating the mean\n",
        "* Title, axis labels, and grid lines\n",
        "\n"
      ],
      "metadata": {
        "id": "gLrydoxMhH_C"
      }
    },
    {
      "cell_type": "code",
      "source": [
        "import numpy as np\n",
        "import matplotlib.pyplot as plt\n",
        "data = np.random.normal(loc=50, scale=10, size=1000)\n",
        "mean_val = np.mean(data)\n",
        "\n",
        "# Plot the histogram\n",
        "plt.figure(figsize=(10, 6))\n",
        "plt.hist(data, bins=20, color='skyblue', edgecolor='black')\n",
        "\n",
        "# Add vertical line for the mean\n",
        "plt.axvline(mean_val, color='red', linestyle='dashed', linewidth=2, label=f'Mean = {mean_val:.2f}')\n",
        "\n",
        "# Customize the plot\n",
        "plt.title('Histogram of Normally Distributed Data (Mean = 50, Std = 10)')\n",
        "plt.xlabel('Value')\n",
        "plt.ylabel('Frequency')\n",
        "plt.grid(True)\n",
        "plt.legend()\n",
        "\n",
        "# Show the plot\n",
        "plt.show()"
      ],
      "metadata": {
        "colab": {
          "base_uri": "https://localhost:8080/",
          "height": 564
        },
        "id": "59U0vh05hHwh",
        "outputId": "d5946a34-5b31-4b69-90a1-9a34b5e13bd9"
      },
      "execution_count": 3,
      "outputs": [
        {
          "output_type": "display_data",
          "data": {
            "text/plain": [
              "<Figure size 1000x600 with 1 Axes>"
            ],
            "image/png": "[encoded data removed]"
          },
          "metadata": {}
        }
      ]
    }
  ]
}