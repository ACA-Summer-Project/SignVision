{
 "cells": [
  {
   "cell_type": "code",
   "execution_count": null,
   "id": "a80d62c1",
   "metadata": {
    "vscode": {
     "languageId": "plaintext"
    }
   },
   "outputs": [],
   "source": [
    "titanic = pd.read_csv('train.csv')\n",
    "\n",
    "# Analysis\n",
    "print(\"Missing values:\\n\", titanic.isnull().sum())\n",
    "\n",
    "# Filters\n",
    "young = titanic[titanic['Age'] < 18]\n",
    "female_survivors = titanic[(titanic['Sex'] == 'female') & (titanic['Survived'] == 1)]\n",
    "\n",
    "# Average fare by class\n",
    "avg_fare = titanic.groupby('Pclass')['Fare'].mean()"
   ]
  }
 ],
 "metadata": {
  "language_info": {
   "name": "python"
  }
 },
 "nbformat": 4,
 "nbformat_minor": 5
}
