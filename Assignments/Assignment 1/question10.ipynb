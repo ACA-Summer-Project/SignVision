{
 "cells": [
  {
   "cell_type": "code",
   "execution_count": null,
   "id": "0346be33",
   "metadata": {
    "vscode": {
     "languageId": "plaintext"
    }
   },
   "outputs": [],
   "source": [
    "data = np.random.normal(50, 10, 1000)\n",
    "\n",
    "plt.hist(data, bins=20)\n",
    "plt.axvline(data.mean(), color='red', linestyle='dashed')\n",
    "plt.title('Normal Distribution (μ=50, σ=10)')\n",
    "plt.xlabel('Values')\n",
    "plt.ylabel('Frequency')\n",
    "plt.grid(True)\n",
    "plt.show()"
   ]
  }
 ],
 "metadata": {
  "language_info": {
   "name": "python"
  }
 },
 "nbformat": 4,
 "nbformat_minor": 5
}
