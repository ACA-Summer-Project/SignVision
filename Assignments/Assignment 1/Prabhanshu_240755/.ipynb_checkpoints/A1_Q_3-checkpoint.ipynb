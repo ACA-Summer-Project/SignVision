{
 "cells": [
  {
   "cell_type": "code",
   "execution_count": 1,
   "id": "85c5c6fc-c407-4eb2-bc7c-4897bdc27c59",
   "metadata": {},
   "outputs": [],
   "source": [
    "import numpy as np"
   ]
  },
  {
   "cell_type": "markdown",
   "id": "5ed1d9e9-1fb4-4aa5-8963-bcd3e2be15cd",
   "metadata": {},
   "source": [
    "# 1. Genarating a 2-D NumPy Array of size (10,5)"
   ]
  },
  {
   "cell_type": "code",
   "execution_count": 5,
   "id": "0c34b87c-8285-4654-a1fb-ebfcebced238",
   "metadata": {},
   "outputs": [],
   "source": [
    "marks = [[60,70,80,65,81],[55,64,78,82,91],[57,54,67,74,88],[58,92,77,64,56], [57,86,54,67,78], [64,75,83,69,84] , [64,70,89,63,89], [61,71,80,62,87], [67,70,83,66,81] , [60,74,87,62,84]]"
   ]
  },
  {
   "cell_type": "code",
   "execution_count": 6,
   "id": "bb386cfe-574c-4cf6-9d46-8e078d5cf1dd",
   "metadata": {},
   "outputs": [],
   "source": [
    "scores = np.array(marks)"
   ]
  },
  {
   "cell_type": "code",
   "execution_count": 9,
   "id": "f38ab713-0709-43ef-8495-f1b80e6a3ff7",
   "metadata": {},
   "outputs": [
    {
     "name": "stdout",
     "output_type": "stream",
     "text": [
      "(10, 5)\n"
     ]
    }
   ],
   "source": [
    "print(scores.shape)"
   ]
  },
  {
   "cell_type": "markdown",
   "id": "7766d557-8cbe-40c7-8104-b9629849b653",
   "metadata": {},
   "source": [
    "# 2.1 Computing the average score per student "
   ]
  },
  {
   "cell_type": "code",
   "execution_count": 10,
   "id": "cbcfbeb3-60a8-4b20-b067-14d46d3dbfed",
   "metadata": {},
   "outputs": [],
   "source": [
    "a = scores.sum(axis=1)"
   ]
  },
  {
   "cell_type": "code",
   "execution_count": 14,
   "id": "ad83270b-ed57-4a81-bec0-1f2dc52e2bec",
   "metadata": {},
   "outputs": [],
   "source": [
    "average = a/5"
   ]
  },
  {
   "cell_type": "code",
   "execution_count": 15,
   "id": "05e2c59d-256a-49c8-b5d1-06e2061d53ff",
   "metadata": {},
   "outputs": [
    {
     "name": "stdout",
     "output_type": "stream",
     "text": [
      "[71.2 74.  68.  69.4 68.4 75.  75.  72.2 73.4 73.4]\n"
     ]
    }
   ],
   "source": [
    "print(average)"
   ]
  },
  {
   "cell_type": "markdown",
   "id": "113ee83a-fd89-4749-8dac-4d239bfa1c2f",
   "metadata": {},
   "source": [
    "# 2.2 Computing the maximum score per subject"
   ]
  },
  {
   "cell_type": "code",
   "execution_count": 19,
   "id": "8cf6d007-d95e-4a2d-a0b5-7b1086608e20",
   "metadata": {},
   "outputs": [],
   "source": [
    "max_scores = scores.max(axis=0)"
   ]
  },
  {
   "cell_type": "code",
   "execution_count": 20,
   "id": "465c0e78-3040-40db-80bb-accd614491b3",
   "metadata": {},
   "outputs": [
    {
     "name": "stdout",
     "output_type": "stream",
     "text": [
      "[67 92 89 82 91]\n"
     ]
    }
   ],
   "source": [
    "print(max_scores)"
   ]
  },
  {
   "cell_type": "markdown",
   "id": "36a7db82-caa3-46a2-a1f4-1672e61735b6",
   "metadata": {},
   "source": [
    "# 2.3 Adding the average column to each student"
   ]
  },
  {
   "cell_type": "code",
   "execution_count": 50,
   "id": "e00add60-f0f4-4192-962c-e86e67e26bad",
   "metadata": {},
   "outputs": [],
   "source": [
    "av = average.reshape(10,1)"
   ]
  },
  {
   "cell_type": "code",
   "execution_count": 53,
   "id": "d8ed2e14-6558-4980-b982-85e30ee4d5f3",
   "metadata": {},
   "outputs": [],
   "source": [
    "new = np.append(scores , av, axis = 1)"
   ]
  },
  {
   "cell_type": "code",
   "execution_count": 56,
   "id": "94b8dcc3-5de8-4058-be57-ce13c73476e7",
   "metadata": {},
   "outputs": [
    {
     "name": "stdout",
     "output_type": "stream",
     "text": [
      "[[60.  70.  80.  65.  81.  71.2]\n",
      " [55.  64.  78.  82.  91.  74. ]\n",
      " [57.  54.  67.  74.  88.  68. ]\n",
      " [58.  92.  77.  64.  56.  69.4]\n",
      " [57.  86.  54.  67.  78.  68.4]\n",
      " [64.  75.  83.  69.  84.  75. ]\n",
      " [64.  70.  89.  63.  89.  75. ]\n",
      " [61.  71.  80.  62.  87.  72.2]\n",
      " [67.  70.  83.  66.  81.  73.4]\n",
      " [60.  74.  87.  62.  84.  73.4]]\n"
     ]
    }
   ],
   "source": [
    "print(new)"
   ]
  }
 ],
 "metadata": {
  "kernelspec": {
   "display_name": "Python [conda env:base] *",
   "language": "python",
   "name": "conda-base-py"
  },
  "language_info": {
   "codemirror_mode": {
    "name": "ipython",
    "version": 3
   },
   "file_extension": ".py",
   "mimetype": "text/x-python",
   "name": "python",
   "nbconvert_exporter": "python",
   "pygments_lexer": "ipython3",
   "version": "3.12.7"
  }
 },
 "nbformat": 4,
 "nbformat_minor": 5
}
