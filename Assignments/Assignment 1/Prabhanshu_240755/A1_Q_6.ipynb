{
 "cells": [
  {
   "cell_type": "code",
   "execution_count": 146,
   "id": "b824f0ab-f023-4e31-8149-a1be9ef74f50",
   "metadata": {},
   "outputs": [],
   "source": [
    "import pandas as pd\n",
    "import numpy as np"
   ]
  },
  {
   "cell_type": "markdown",
   "id": "ea4c860a-4126-40b5-b667-8e6ccf67f4c9",
   "metadata": {},
   "source": [
    "# 6.1 Creating Pandas DataFrame with given Structure"
   ]
  },
  {
   "cell_type": "code",
   "execution_count": 147,
   "id": "b07eb755-81f8-42ef-95c2-0d764e667c20",
   "metadata": {},
   "outputs": [
    {
     "data": {
      "text/html": [
       "<div>\n",
       "<style scoped>\n",
       "    .dataframe tbody tr th:only-of-type {\n",
       "        vertical-align: middle;\n",
       "    }\n",
       "\n",
       "    .dataframe tbody tr th {\n",
       "        vertical-align: top;\n",
       "    }\n",
       "\n",
       "    .dataframe thead th {\n",
       "        text-align: right;\n",
       "    }\n",
       "</style>\n",
       "<table border=\"1\" class=\"dataframe\">\n",
       "  <thead>\n",
       "    <tr style=\"text-align: right;\">\n",
       "      <th></th>\n",
       "      <th>Product</th>\n",
       "      <th>Price</th>\n",
       "      <th>Quantity</th>\n",
       "    </tr>\n",
       "  </thead>\n",
       "  <tbody>\n",
       "    <tr>\n",
       "      <th>0</th>\n",
       "      <td>Sneakers</td>\n",
       "      <td>2955</td>\n",
       "      <td>6</td>\n",
       "    </tr>\n",
       "    <tr>\n",
       "      <th>1</th>\n",
       "      <td>Bottle</td>\n",
       "      <td>1049</td>\n",
       "      <td>24</td>\n",
       "    </tr>\n",
       "    <tr>\n",
       "      <th>2</th>\n",
       "      <td>Cricket Bat</td>\n",
       "      <td>2400</td>\n",
       "      <td>5</td>\n",
       "    </tr>\n",
       "    <tr>\n",
       "      <th>3</th>\n",
       "      <td>Water Purifier</td>\n",
       "      <td>7200</td>\n",
       "      <td>2</td>\n",
       "    </tr>\n",
       "    <tr>\n",
       "      <th>4</th>\n",
       "      <td>Cooler</td>\n",
       "      <td>8560</td>\n",
       "      <td>3</td>\n",
       "    </tr>\n",
       "    <tr>\n",
       "      <th>5</th>\n",
       "      <td>Backpack</td>\n",
       "      <td>1343</td>\n",
       "      <td>9</td>\n",
       "    </tr>\n",
       "    <tr>\n",
       "      <th>6</th>\n",
       "      <td>Mattress</td>\n",
       "      <td>4028</td>\n",
       "      <td>4</td>\n",
       "    </tr>\n",
       "    <tr>\n",
       "      <th>7</th>\n",
       "      <td>iPhone 16</td>\n",
       "      <td>79900</td>\n",
       "      <td>5</td>\n",
       "    </tr>\n",
       "  </tbody>\n",
       "</table>\n",
       "</div>"
      ],
      "text/plain": [
       "          Product  Price  Quantity\n",
       "0        Sneakers   2955         6\n",
       "1          Bottle   1049        24\n",
       "2     Cricket Bat   2400         5\n",
       "3  Water Purifier   7200         2\n",
       "4          Cooler   8560         3\n",
       "5        Backpack   1343         9\n",
       "6        Mattress   4028         4\n",
       "7       iPhone 16  79900         5"
      ]
     },
     "execution_count": 147,
     "metadata": {},
     "output_type": "execute_result"
    }
   ],
   "source": [
    "arr = [['Sneakers' , 2955 , 6] , ['Bottle' , 1049 , 24] , ['Cricket Bat' , 2400 , 5] , ['Water Purifier' , 7200 , 2] , ['Cooler' , 8560 , 3], ['Backpack', 1343, 9], ['Mattress', 4028 , 4], ['iPhone 16', 79900, 5]]\n",
    "df = pd.DataFrame(arr , columns = ['Product' , 'Price' , 'Quantity'])\n",
    "df"
   ]
  },
  {
   "cell_type": "markdown",
   "id": "d8a0e2c3-eecd-48b2-8b76-9561e2bb55a6",
   "metadata": {},
   "source": [
    "# 6.2 Adding TotalValue column to the DataFrame"
   ]
  },
  {
   "cell_type": "code",
   "execution_count": 148,
   "id": "c2e27a22-42df-46d7-a3cc-2bf3f79f23f3",
   "metadata": {},
   "outputs": [],
   "source": [
    "a = np.array(arr)"
   ]
  },
  {
   "cell_type": "code",
   "execution_count": 149,
   "id": "675c921a-6928-4fe5-9d2b-6cb740692b60",
   "metadata": {},
   "outputs": [],
   "source": [
    "Total_ = df['Price'] * df['Quantity']\n",
    "Total = np.array(Total_)\n",
    "Total_Value = Total.reshape(8,1)"
   ]
  },
  {
   "cell_type": "code",
   "execution_count": 150,
   "id": "4adb95a8-9a0e-4b5c-b677-cbcfb3dd5e0d",
   "metadata": {},
   "outputs": [],
   "source": [
    "new = np.append(a , Total_Value , axis=1)"
   ]
  },
  {
   "cell_type": "code",
   "execution_count": 151,
   "id": "6c1ecefe-9c73-4b31-ae07-0a326819f086",
   "metadata": {},
   "outputs": [
    {
     "data": {
      "text/html": [
       "<div>\n",
       "<style scoped>\n",
       "    .dataframe tbody tr th:only-of-type {\n",
       "        vertical-align: middle;\n",
       "    }\n",
       "\n",
       "    .dataframe tbody tr th {\n",
       "        vertical-align: top;\n",
       "    }\n",
       "\n",
       "    .dataframe thead th {\n",
       "        text-align: right;\n",
       "    }\n",
       "</style>\n",
       "<table border=\"1\" class=\"dataframe\">\n",
       "  <thead>\n",
       "    <tr style=\"text-align: right;\">\n",
       "      <th></th>\n",
       "      <th>Product</th>\n",
       "      <th>Price</th>\n",
       "      <th>Quantity</th>\n",
       "      <th>Total Value</th>\n",
       "    </tr>\n",
       "  </thead>\n",
       "  <tbody>\n",
       "    <tr>\n",
       "      <th>0</th>\n",
       "      <td>Sneakers</td>\n",
       "      <td>2955</td>\n",
       "      <td>6</td>\n",
       "      <td>17730</td>\n",
       "    </tr>\n",
       "    <tr>\n",
       "      <th>1</th>\n",
       "      <td>Bottle</td>\n",
       "      <td>1049</td>\n",
       "      <td>24</td>\n",
       "      <td>25176</td>\n",
       "    </tr>\n",
       "    <tr>\n",
       "      <th>2</th>\n",
       "      <td>Cricket Bat</td>\n",
       "      <td>2400</td>\n",
       "      <td>5</td>\n",
       "      <td>12000</td>\n",
       "    </tr>\n",
       "    <tr>\n",
       "      <th>3</th>\n",
       "      <td>Water Purifier</td>\n",
       "      <td>7200</td>\n",
       "      <td>2</td>\n",
       "      <td>14400</td>\n",
       "    </tr>\n",
       "    <tr>\n",
       "      <th>4</th>\n",
       "      <td>Cooler</td>\n",
       "      <td>8560</td>\n",
       "      <td>3</td>\n",
       "      <td>25680</td>\n",
       "    </tr>\n",
       "    <tr>\n",
       "      <th>5</th>\n",
       "      <td>Backpack</td>\n",
       "      <td>1343</td>\n",
       "      <td>9</td>\n",
       "      <td>12087</td>\n",
       "    </tr>\n",
       "    <tr>\n",
       "      <th>6</th>\n",
       "      <td>Mattress</td>\n",
       "      <td>4028</td>\n",
       "      <td>4</td>\n",
       "      <td>16112</td>\n",
       "    </tr>\n",
       "    <tr>\n",
       "      <th>7</th>\n",
       "      <td>iPhone 16</td>\n",
       "      <td>79900</td>\n",
       "      <td>5</td>\n",
       "      <td>399500</td>\n",
       "    </tr>\n",
       "  </tbody>\n",
       "</table>\n",
       "</div>"
      ],
      "text/plain": [
       "          Product  Price Quantity Total Value\n",
       "0        Sneakers   2955        6       17730\n",
       "1          Bottle   1049       24       25176\n",
       "2     Cricket Bat   2400        5       12000\n",
       "3  Water Purifier   7200        2       14400\n",
       "4          Cooler   8560        3       25680\n",
       "5        Backpack   1343        9       12087\n",
       "6        Mattress   4028        4       16112\n",
       "7       iPhone 16  79900        5      399500"
      ]
     },
     "execution_count": 151,
     "metadata": {},
     "output_type": "execute_result"
    }
   ],
   "source": [
    "df = pd.DataFrame(new , columns = ['Product' , 'Price' , 'Quantity', 'Total Value'])\n",
    "df"
   ]
  },
  {
   "cell_type": "markdown",
   "id": "1fdab5f4-6bcb-4044-a390-dc9be0268a84",
   "metadata": {},
   "source": [
    "# 6.3 Sorting the given DataFrame by TotalValue"
   ]
  },
  {
   "cell_type": "code",
   "execution_count": 152,
   "id": "260a6d29-248d-409e-9234-4de7b9cc719b",
   "metadata": {},
   "outputs": [],
   "source": [
    "df = df.sort_values(by = 'Total Value', ascending = False)"
   ]
  },
  {
   "cell_type": "code",
   "execution_count": 153,
   "id": "5a9eea5e-ebc1-417d-9357-d92274b84eee",
   "metadata": {},
   "outputs": [
    {
     "data": {
      "text/html": [
       "<div>\n",
       "<style scoped>\n",
       "    .dataframe tbody tr th:only-of-type {\n",
       "        vertical-align: middle;\n",
       "    }\n",
       "\n",
       "    .dataframe tbody tr th {\n",
       "        vertical-align: top;\n",
       "    }\n",
       "\n",
       "    .dataframe thead th {\n",
       "        text-align: right;\n",
       "    }\n",
       "</style>\n",
       "<table border=\"1\" class=\"dataframe\">\n",
       "  <thead>\n",
       "    <tr style=\"text-align: right;\">\n",
       "      <th></th>\n",
       "      <th>Product</th>\n",
       "      <th>Price</th>\n",
       "      <th>Quantity</th>\n",
       "      <th>Total Value</th>\n",
       "    </tr>\n",
       "  </thead>\n",
       "  <tbody>\n",
       "    <tr>\n",
       "      <th>7</th>\n",
       "      <td>iPhone 16</td>\n",
       "      <td>79900</td>\n",
       "      <td>5</td>\n",
       "      <td>399500</td>\n",
       "    </tr>\n",
       "    <tr>\n",
       "      <th>4</th>\n",
       "      <td>Cooler</td>\n",
       "      <td>8560</td>\n",
       "      <td>3</td>\n",
       "      <td>25680</td>\n",
       "    </tr>\n",
       "    <tr>\n",
       "      <th>1</th>\n",
       "      <td>Bottle</td>\n",
       "      <td>1049</td>\n",
       "      <td>24</td>\n",
       "      <td>25176</td>\n",
       "    </tr>\n",
       "    <tr>\n",
       "      <th>0</th>\n",
       "      <td>Sneakers</td>\n",
       "      <td>2955</td>\n",
       "      <td>6</td>\n",
       "      <td>17730</td>\n",
       "    </tr>\n",
       "    <tr>\n",
       "      <th>6</th>\n",
       "      <td>Mattress</td>\n",
       "      <td>4028</td>\n",
       "      <td>4</td>\n",
       "      <td>16112</td>\n",
       "    </tr>\n",
       "    <tr>\n",
       "      <th>3</th>\n",
       "      <td>Water Purifier</td>\n",
       "      <td>7200</td>\n",
       "      <td>2</td>\n",
       "      <td>14400</td>\n",
       "    </tr>\n",
       "    <tr>\n",
       "      <th>5</th>\n",
       "      <td>Backpack</td>\n",
       "      <td>1343</td>\n",
       "      <td>9</td>\n",
       "      <td>12087</td>\n",
       "    </tr>\n",
       "    <tr>\n",
       "      <th>2</th>\n",
       "      <td>Cricket Bat</td>\n",
       "      <td>2400</td>\n",
       "      <td>5</td>\n",
       "      <td>12000</td>\n",
       "    </tr>\n",
       "  </tbody>\n",
       "</table>\n",
       "</div>"
      ],
      "text/plain": [
       "          Product  Price Quantity Total Value\n",
       "7       iPhone 16  79900        5      399500\n",
       "4          Cooler   8560        3       25680\n",
       "1          Bottle   1049       24       25176\n",
       "0        Sneakers   2955        6       17730\n",
       "6        Mattress   4028        4       16112\n",
       "3  Water Purifier   7200        2       14400\n",
       "5        Backpack   1343        9       12087\n",
       "2     Cricket Bat   2400        5       12000"
      ]
     },
     "execution_count": 153,
     "metadata": {},
     "output_type": "execute_result"
    }
   ],
   "source": [
    "df"
   ]
  },
  {
   "cell_type": "markdown",
   "id": "cf6935d4-bf0f-4e2c-a435-a0049b519feb",
   "metadata": {},
   "source": [
    "# Grouping the data by Price and computing the average Quantity for each price group."
   ]
  },
  {
   "cell_type": "code",
   "execution_count": 154,
   "id": "a27b68cf-7e6f-4043-a7d0-8704d7f0048a",
   "metadata": {},
   "outputs": [
    {
     "data": {
      "text/html": [
       "<div>\n",
       "<style scoped>\n",
       "    .dataframe tbody tr th:only-of-type {\n",
       "        vertical-align: middle;\n",
       "    }\n",
       "\n",
       "    .dataframe tbody tr th {\n",
       "        vertical-align: top;\n",
       "    }\n",
       "\n",
       "    .dataframe thead th {\n",
       "        text-align: right;\n",
       "    }\n",
       "</style>\n",
       "<table border=\"1\" class=\"dataframe\">\n",
       "  <thead>\n",
       "    <tr style=\"text-align: right;\">\n",
       "      <th></th>\n",
       "      <th>Product</th>\n",
       "      <th>Price</th>\n",
       "      <th>Quantity</th>\n",
       "      <th>Total Value</th>\n",
       "      <th>Range</th>\n",
       "    </tr>\n",
       "  </thead>\n",
       "  <tbody>\n",
       "    <tr>\n",
       "      <th>7</th>\n",
       "      <td>iPhone 16</td>\n",
       "      <td>79900</td>\n",
       "      <td>5</td>\n",
       "      <td>399500</td>\n",
       "      <td>(10000, 100000]</td>\n",
       "    </tr>\n",
       "    <tr>\n",
       "      <th>4</th>\n",
       "      <td>Cooler</td>\n",
       "      <td>8560</td>\n",
       "      <td>3</td>\n",
       "      <td>25680</td>\n",
       "      <td>(5000, 10000]</td>\n",
       "    </tr>\n",
       "    <tr>\n",
       "      <th>1</th>\n",
       "      <td>Bottle</td>\n",
       "      <td>1049</td>\n",
       "      <td>24</td>\n",
       "      <td>25176</td>\n",
       "      <td>(0, 2000]</td>\n",
       "    </tr>\n",
       "    <tr>\n",
       "      <th>0</th>\n",
       "      <td>Sneakers</td>\n",
       "      <td>2955</td>\n",
       "      <td>6</td>\n",
       "      <td>17730</td>\n",
       "      <td>(2000, 5000]</td>\n",
       "    </tr>\n",
       "    <tr>\n",
       "      <th>6</th>\n",
       "      <td>Mattress</td>\n",
       "      <td>4028</td>\n",
       "      <td>4</td>\n",
       "      <td>16112</td>\n",
       "      <td>(2000, 5000]</td>\n",
       "    </tr>\n",
       "    <tr>\n",
       "      <th>3</th>\n",
       "      <td>Water Purifier</td>\n",
       "      <td>7200</td>\n",
       "      <td>2</td>\n",
       "      <td>14400</td>\n",
       "      <td>(5000, 10000]</td>\n",
       "    </tr>\n",
       "    <tr>\n",
       "      <th>5</th>\n",
       "      <td>Backpack</td>\n",
       "      <td>1343</td>\n",
       "      <td>9</td>\n",
       "      <td>12087</td>\n",
       "      <td>(0, 2000]</td>\n",
       "    </tr>\n",
       "    <tr>\n",
       "      <th>2</th>\n",
       "      <td>Cricket Bat</td>\n",
       "      <td>2400</td>\n",
       "      <td>5</td>\n",
       "      <td>12000</td>\n",
       "      <td>(2000, 5000]</td>\n",
       "    </tr>\n",
       "  </tbody>\n",
       "</table>\n",
       "</div>"
      ],
      "text/plain": [
       "          Product  Price  Quantity Total Value            Range\n",
       "7       iPhone 16  79900         5      399500  (10000, 100000]\n",
       "4          Cooler   8560         3       25680    (5000, 10000]\n",
       "1          Bottle   1049        24       25176        (0, 2000]\n",
       "0        Sneakers   2955         6       17730     (2000, 5000]\n",
       "6        Mattress   4028         4       16112     (2000, 5000]\n",
       "3  Water Purifier   7200         2       14400    (5000, 10000]\n",
       "5        Backpack   1343         9       12087        (0, 2000]\n",
       "2     Cricket Bat   2400         5       12000     (2000, 5000]"
      ]
     },
     "execution_count": 154,
     "metadata": {},
     "output_type": "execute_result"
    }
   ],
   "source": [
    "df['Price'] = pd.to_numeric(df['Price'])\n",
    "df['Quantity'] = pd.to_numeric(df['Quantity'])\n",
    "df['Range'] = pd.cut(df['Price'] , bins= [0,2000,5000,10000,100000])\n",
    "df"
   ]
  },
  {
   "cell_type": "code",
   "execution_count": 156,
   "id": "94bcfd7d-a790-440a-955c-f61422148eb2",
   "metadata": {},
   "outputs": [
    {
     "name": "stderr",
     "output_type": "stream",
     "text": [
      "/var/folders/mt/rpdwshfn4zq0s3rrfk2d1g2m0000gn/T/ipykernel_61382/1567023007.py:1: FutureWarning: The default of observed=False is deprecated and will be changed to True in a future version of pandas. Pass observed=False to retain current behavior or observed=True to adopt the future default and silence this warning.\n",
      "  average_value = df.groupby('Range')['Quantity'].mean()\n"
     ]
    }
   ],
   "source": [
    "average_value = df.groupby('Range')['Quantity'].mean()"
   ]
  },
  {
   "cell_type": "code",
   "execution_count": 163,
   "id": "6ee8515d-e81e-4243-9e76-8689ee862dae",
   "metadata": {},
   "outputs": [
    {
     "name": "stdout",
     "output_type": "stream",
     "text": [
      "Range\n",
      "(0, 2000]          16.5\n",
      "(2000, 5000]        5.0\n",
      "(5000, 10000]       2.5\n",
      "(10000, 100000]     5.0\n",
      "Name: Quantity, dtype: float64\n"
     ]
    }
   ],
   "source": [
    "print(average_value)"
   ]
  }
 ],
 "metadata": {
  "kernelspec": {
   "display_name": "Python [conda env:base] *",
   "language": "python",
   "name": "conda-base-py"
  },
  "language_info": {
   "codemirror_mode": {
    "name": "ipython",
    "version": 3
   },
   "file_extension": ".py",
   "mimetype": "text/x-python",
   "name": "python",
   "nbconvert_exporter": "python",
   "pygments_lexer": "ipython3",
   "version": "3.12.7"
  }
 },
 "nbformat": 4,
 "nbformat_minor": 5
}
