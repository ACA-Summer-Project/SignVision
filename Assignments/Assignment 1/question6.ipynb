{
 "cells": [
  {
   "cell_type": "code",
   "execution_count": null,
   "id": "4d9a5d38",
   "metadata": {
    "vscode": {
     "languageId": "plaintext"
    }
   },
   "outputs": [],
   "source": [
    "data = {\n",
    "    'Product': ['A', 'B', 'C', 'D', 'E', 'F', 'G', 'H'],\n",
    "    'Price': [10.5, 25.0, 15.0, 30.0, 12.5, 18.0, 22.0, 9.5],\n",
    "    'Quantity': [5, 3, 7, 2, 8, 4, 6, 10]\n",
    "}\n",
    "df = pd.DataFrame(data)\n",
    "\n",
    "# Operations\n",
    "df['TotalValue'] = df['Price'] * df['Quantity']\n",
    "df_sorted = df.sort_values('TotalValue', ascending=False)\n",
    "grouped = df.groupby('Price')['Quantity'].mean()\n",
    "\n",
    "print(\"Sorted DataFrame:\\n\", df_sorted)\n",
    "print(\"\\nGrouped averages:\\n\", grouped)"
   ]
  }
 ],
 "metadata": {
  "language_info": {
   "name": "python"
  }
 },
 "nbformat": 4,
 "nbformat_minor": 5
}
