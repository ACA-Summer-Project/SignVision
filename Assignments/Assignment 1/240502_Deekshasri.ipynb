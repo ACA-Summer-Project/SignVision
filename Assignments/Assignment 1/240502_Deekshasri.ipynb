{
  "nbformat": 4,
  "nbformat_minor": 0,
  "metadata": {
    "colab": {
      "provenance": []
    },
    "kernelspec": {
      "name": "python3",
      "display_name": "Python 3"
    },
    "language_info": {
      "name": "python"
    }
  },
  "cells": [
    {
      "cell_type": "code",
      "source": [
        "# Q1 : Lists and Loops\n",
        "# 1.1: Define the list\n",
        "numbers = [15, 8, 22, 7, 31, 4, 17]\n",
        "\n",
        "# 1.2: Print all even numbers from the list\n",
        "print(\"Even numbers:\")\n",
        "for num in numbers:\n",
        "    if num % 2 == 0:\n",
        "        print(num)\n",
        "\n",
        "# 1.3: Create a new list containing the square of each odd number\n",
        "squared_odds = []\n",
        "for num in numbers:\n",
        "    if num % 2 != 0:\n",
        "        squared_odds.append(num ** 2)\n",
        "\n",
        "# 1.4: Print the new list\n",
        "print(\"Squares of odd numbers:\")\n",
        "print(squared_odds)"
      ],
      "metadata": {
        "id": "nsbZ8DC1KmbF"
      },
      "execution_count": null,
      "outputs": []
    },
    {
      "cell_type": "code",
      "source": [
        "# Q2 : Strings and Dictionaries\n",
        "# 2.1: Given sentence\n",
        "sentence = \"The book was interesting because the book covered many topics and the topics discussed in the book were engaging\"\n",
        "\n",
        "# 2.2: Convert to lowercase and split into words\n",
        "words = sentence.lower().split()\n",
        "\n",
        "# 2.3: Count word occurrences using a dictionary\n",
        "word_counts = {}\n",
        "for word in words:\n",
        "    if word in word_counts:\n",
        "        word_counts[word] += 1\n",
        "    else:\n",
        "        word_counts[word] = 1\n",
        "\n",
        "# 2.4: Print the dictionary\n",
        "print(\"Word counts:\")\n",
        "print(word_counts)"
      ],
      "metadata": {
        "id": "s1ilCFc4Kyuv"
      },
      "execution_count": null,
      "outputs": []
    },
    {
      "cell_type": "code",
      "source": [
        "# Q3 : Functions and Conditional logic\n",
        "# 3.1: Define the function to check for prime\n",
        "def is_prime(n):\n",
        "    if n < 2:\n",
        "        return False\n",
        "    for i in range(2, int(n**0.5) + 1):\n",
        "        if n % i == 0:\n",
        "            return False\n",
        "    return True\n",
        "\n",
        "# 3.2: Given list\n",
        "nums = [2, 4, 5, 10, 13, 17, 20, 23]\n",
        "\n",
        "# 3.3: Check each number and store primes in a new list\n",
        "prime_nums = []\n",
        "for num in nums:\n",
        "    if is_prime(num):\n",
        "        prime_nums.append(num)\n",
        "\n",
        "# 3.4: Print the list of prime numbers\n",
        "print(\"Prime numbers:\")\n",
        "print(prime_nums)"
      ],
      "metadata": {
        "id": "1o4itgMHK9v_"
      },
      "execution_count": null,
      "outputs": []
    },
    {
      "cell_type": "code",
      "source": [
        "# Q4 : NumPy Array Operations and Statistics\n",
        "import numpy as np\n",
        "\n",
        "# 4.1: Generate a 2D array of shape (10, 5) with random integers between 50 and 100\n",
        "np.random.seed(0)  # For reproducibility\n",
        "scores = np.random.randint(50, 101, size=(10, 5))\n",
        "\n",
        "# 4.2.1: Compute the average score per student (across subjects)\n",
        "student_averages = np.mean(scores, axis=1)\n",
        "\n",
        "# 4.2.2: Compute the maximum score per subject (down each column)\n",
        "max_per_subject = np.max(scores, axis=0)\n",
        "\n",
        "# 4.2.3: Add a new column with each student's average score\n",
        "final_array = np.column_stack((scores, student_averages))\n",
        "\n",
        "# 4.2.4: Print the final array\n",
        "print(\"Final Scores Array (Last column = Student Average):\")\n",
        "print(final_array)\n",
        "\n",
        "print(\"\\nMaximum score per subject:\")\n",
        "print(max_per_subject)"
      ],
      "metadata": {
        "id": "ofCotPlvLDDE"
      },
      "execution_count": null,
      "outputs": []
    },
    {
      "cell_type": "code",
      "source": [
        "# Q5 : Saving Data to CSV\n",
        "import numpy as np\n",
        "import csv\n",
        "\n",
        "# Assume scores and student_averages were already created (from Question 4)\n",
        "np.random.seed(0)\n",
        "scores = np.random.randint(50, 101, size=(10, 5))\n",
        "student_averages = np.mean(scores, axis=1)\n",
        "final_array = np.column_stack((scores, student_averages))\n",
        "\n",
        "# 5.1: Define the header\n",
        "header = [\"Subject1\", \"Subject2\", \"Subject3\", \"Subject4\", \"Subject5\", \"Average\"]\n",
        "\n",
        "# 5.2: Save to CSV\n",
        "with open(\"student_scores.csv\", mode=\"w\", newline=\"\") as file:\n",
        "    writer = csv.writer(file)\n",
        "    writer.writerow(header)         # Write header\n",
        "    writer.writerows(final_array)   # Write student data\n",
        "\n",
        "print(\"Data saved to student_scores.csv successfully.\")"
      ],
      "metadata": {
        "id": "hcx0--C6LHBq"
      },
      "execution_count": null,
      "outputs": []
    },
    {
      "cell_type": "code",
      "source": [
        "# Q6 : Creating and Exploring a DataFrame\n",
        "import pandas as pd\n",
        "\n",
        "# 6.0: Create a DataFrame with sample data\n",
        "data = {\n",
        "    'Product': ['Pen', 'Notebook', 'Eraser', 'Pencil', 'Marker', 'Ruler', 'Sharpener', 'Highlighter'],\n",
        "    'Price': [1.5, 3.0, 0.5, 1.0, 2.5, 1.2, 0.8, 2.0],\n",
        "    'Quantity': [100, 50, 200, 150, 60, 80, 120, 90]\n",
        "}\n",
        "\n",
        "df = pd.DataFrame(data)\n",
        "\n",
        "# 6.1: Add a column TotalValue = Price * Quantity\n",
        "df['TotalValue'] = df['Price'] * df['Quantity']\n",
        "\n",
        "# 6.2: Sort the DataFrame in descending order by TotalValue\n",
        "df_sorted = df.sort_values(by='TotalValue', ascending=False)\n",
        "\n",
        "# 6.3: Group by Price and compute average Quantity\n",
        "avg_quantity_by_price = df.groupby('Price')['Quantity'].mean()\n",
        "\n",
        "# Print results\n",
        "print(\"DataFrame with TotalValue and sorted:\")\n",
        "print(df_sorted)\n",
        "\n",
        "print(\"\\nAverage Quantity by Price:\")\n",
        "print(avg_quantity_by_price)"
      ],
      "metadata": {
        "id": "hU_PHljHLLKR"
      },
      "execution_count": null,
      "outputs": []
    },
    {
      "cell_type": "code",
      "source": [
        "# Q7 : Analysis of a Real-World Dataset (Titanic)\n",
        "import pandas as pd\n",
        "\n",
        "# 7.1: Load the dataset\n",
        "df = pd.read_csv('train.csv')\n",
        "\n",
        "# 7.2: Display total number of missing values in each column\n",
        "print(\"Missing values per column:\")\n",
        "print(df.isnull().sum())\n",
        "\n",
        "# 7.3.1: Passengers who are under 18 years old\n",
        "print(\"\\nPassengers under 18:\")\n",
        "print(df[df['Age'] < 18])\n",
        "\n",
        "# 7.3.2: Female passengers who survived\n",
        "print(\"\\nFemale passengers who survived:\")\n",
        "print(df[(df['Sex'] == 'female') & (df['Survived'] == 1)])\n",
        "\n",
        "# 7.4: Average fare paid by passengers in each class\n",
        "avg_fare_by_class = df.groupby('Pclass')['Fare'].mean()\n",
        "print(\"\\nAverage fare by passenger class:\")\n",
        "print(avg_fare_by_class)"
      ],
      "metadata": {
        "id": "1UsH6iiSLPQe"
      },
      "execution_count": null,
      "outputs": []
    },
    {
      "cell_type": "code",
      "source": [
        "# Q8 : Data Cleaning and Aggregation (Heart Disease Dataset)\n",
        "import pandas as pd\n",
        "import numpy as np\n",
        "\n",
        "# 8.1: Load the dataset with given column names\n",
        "column_names = ['Age', 'Sex', 'Chest PainType', 'RestingBP', 'Cholesterol', 'FastingBS',\n",
        "                'RestingECG', 'MaxHR', 'Exercise Angina', 'Oldpeak', 'ST_Slope',\n",
        "                'NumVessels Fluoro', 'Thalassemia', 'Heart Disease']\n",
        "\n",
        "df = pd.read_csv('processed.cleveland.data', names=column_names)\n",
        "\n",
        "# 8.2: Replace '?' with np.nan and convert relevant columns to numeric\n",
        "df.replace('?', np.nan, inplace=True)\n",
        "\n",
        "# Convert numeric columns\n",
        "numeric_cols = ['Age', 'RestingBP', 'Cholesterol', 'FastingBS', 'MaxHR', 'Oldpeak',\n",
        "                'NumVessels Fluoro', 'Heart Disease']\n",
        "for col in numeric_cols:\n",
        "    df[col] = pd.to_numeric(df[col], errors='coerce')\n",
        "\n",
        "# 8.3.1: Display count of missing values\n",
        "print(\"Missing values per column:\")\n",
        "print(df.isnull().sum())\n",
        "\n",
        "# 8.3.2: Replace missing values\n",
        "# NumVessels Fluoro is numeric — use median\n",
        "df['NumVessels Fluoro'].fillna(df['NumVessels Fluoro'].median(), inplace=True)\n",
        "\n",
        "# Thalassemia is categorical — use mode\n",
        "df['Thalassemia'].fillna(df['Thalassemia'].mode()[0], inplace=True)\n",
        "\n",
        "# 8.3.3: Drop rows with more than 2 missing values\n",
        "df = df[df.isnull().sum(axis=1) <= 2]\n",
        "\n",
        "# 8.3.4: Group by Heart Disease and compute average cholesterol\n",
        "# Note: Heart Disease = 0 means no disease; >0 indicates presence\n",
        "avg_cholesterol = df.groupby('Heart Disease')['Cholesterol'].mean()\n",
        "\n",
        "# Display the result\n",
        "print(\"\\nAverage cholesterol by heart disease status:\")\n",
        "print(avg_cholesterol)"
      ],
      "metadata": {
        "id": "enkYEAKQLTYS"
      },
      "execution_count": null,
      "outputs": []
    },
    {
      "cell_type": "code",
      "source": [
        "# Q9 : Visualizing Student Scores\n",
        "import pandas as pd\n",
        "import matplotlib.pyplot as plt\n",
        "\n",
        "# 9.1: Create the DataFrame\n",
        "data = {\n",
        "    'Name': ['Alice', 'Bob', 'Charlie', 'David', 'Eva'],\n",
        "    'Math': [85, 78, 92, 88, 76],\n",
        "    'Science': [90, 82, 89, 94, 75],\n",
        "    'English': [78, 85, 88, 80, 82],\n",
        "    'History': [84, 80, 91, 79, 77]\n",
        "}\n",
        "df = pd.DataFrame(data)\n",
        "\n",
        "# 9.2: Bar chart for Math scores\n",
        "plt.figure(figsize=(8, 5))\n",
        "plt.bar(df['Name'], df['Math'], color='skyblue')\n",
        "plt.title('Math Scores of Students')\n",
        "plt.xlabel('Student Name')\n",
        "plt.ylabel('Math Score')\n",
        "plt.tight_layout()\n",
        "plt.show()\n",
        "\n",
        "# 9.3: Line plot for all subjects\n",
        "plt.figure(figsize=(10, 6))\n",
        "subjects = ['Math', 'Science', 'English', 'History']\n",
        "for subject in subjects:\n",
        "    plt.plot(df['Name'], df[subject], marker='o', label=subject)\n",
        "\n",
        "plt.title('Student Performance Across Subjects')\n",
        "plt.xlabel('Student Name')\n",
        "plt.ylabel('Score')\n",
        "plt.legend()\n",
        "plt.grid(True)\n",
        "plt.tight_layout()\n",
        "plt.show()"
      ],
      "metadata": {
        "id": "uBHFOwOCLZbz"
      },
      "execution_count": null,
      "outputs": []
    },
    {
      "cell_type": "code",
      "source": [
        "# Q10 : Visualizing Random Data Distribution\n",
        "import numpy as np\n",
        "import matplotlib.pyplot as plt\n",
        "\n",
        "# 10.1: Generate 1000 random numbers from a normal distribution\n",
        "mean = 50\n",
        "std_dev = 10\n",
        "data = np.random.normal(loc=mean, scale=std_dev, size=1000)\n",
        "\n",
        "# 10.2 & 10.3: Plot histogram with customization\n",
        "plt.figure(figsize=(10, 6))\n",
        "plt.hist(data, bins=20, color='skyblue', edgecolor='black')\n",
        "\n",
        "# Add vertical line for the mean\n",
        "plt.axvline(mean, color='red', linestyle='dashed', linewidth=2, label=f'Mean = {mean}')\n",
        "\n",
        "# Add title, labels, and grid\n",
        "plt.title('Histogram of Normally Distributed Data')\n",
        "plt.xlabel('Value')\n",
        "plt.ylabel('Frequency')\n",
        "plt.legend()\n",
        "plt.grid(True)\n",
        "plt.tight_layout()\n",
        "plt.show()"
      ],
      "metadata": {
        "id": "n1Rc3TniLdqq"
      },
      "execution_count": null,
      "outputs": []
    }
  ]
}