{
 "cells": [
  {
   "cell_type": "code",
   "execution_count": null,
   "id": "86a850f7",
   "metadata": {},
   "outputs": [],
   "source": [
    "# Question 1: Lists and Loops\n",
    "numbers = [15, 8, 22, 7, 31, 4, 17]\n",
    "even_numbers = [num for num in numbers if num % 2 == 0]\n",
    "print(\"Even numbers:\", even_numbers)\n",
    "squared_odds = [num**2 for num in numbers if num % 2 != 0]\n",
    "print(\"Squared odd numbers:\", squared_odds)\n"
   ]
  },
  {
   "cell_type": "code",
   "execution_count": null,
   "id": "c76d83c2",
   "metadata": {},
   "outputs": [],
   "source": [
    "# Question 2: Strings and Dictionaries\n",
    "sentence = \"The book was interesting because the book covered many topics and the topics discussed in the book were engaging\"\n",
    "words = sentence.lower().split()\n",
    "word_count = {}\n",
    "for word in words:\n",
    "    word_count[word] = word_count.get(word, 0) + 1\n",
    "print(\"Word counts:\", word_count)\n"
   ]
  },
  {
   "cell_type": "code",
   "execution_count": null,
   "id": "58584df9",
   "metadata": {},
   "outputs": [],
   "source": [
    "# Question 3: Functions and Conditional Logic\n",
    "def is_prime(n):\n",
    "    if n <= 1:\n",
    "        return False\n",
    "    for i in range(2, int(n**0.5)+1):\n",
    "        if n % i == 0:\n",
    "            return False\n",
    "    return True\n",
    "nums = [2, 4, 5, 10, 13, 17, 20, 23]\n",
    "prime_nums = [n for n in nums if is_prime(n)]\n",
    "print(\"Prime numbers:\", prime_nums)\n"
   ]
  },
  {
   "cell_type": "code",
   "execution_count": null,
   "id": "c223d29e",
   "metadata": {},
   "outputs": [],
   "source": [
    "# Question 4: NumPy Array Operations and Statistics\n",
    "import numpy as np\n",
    "np.random.seed(42)\n",
    "scores = np.random.randint(50, 101, size=(10, 5))\n",
    "average_scores = scores.mean(axis=1)\n",
    "max_scores = scores.max(axis=0)\n",
    "scores_with_avg = np.hstack((scores, average_scores.reshape(-1, 1)))\n",
    "print(\"Scores with average column:\\n\", scores_with_avg)\n"
   ]
  },
  {
   "cell_type": "code",
   "execution_count": null,
   "id": "94150705",
   "metadata": {},
   "outputs": [],
   "source": [
    "# Question 5: Saving Data to CSV\n",
    "import csv\n",
    "header = [\"Subject1\", \"Subject2\", \"Subject3\", \"Subject4\", \"Subject5\", \"Average\"]\n",
    "with open(\"student_scores.csv\", \"w\", newline=\"\") as f:\n",
    "    writer = csv.writer(f)\n",
    "    writer.writerow(header)\n",
    "    writer.writerows(scores_with_avg)\n",
    "print(\"Data saved to student_scores.csv\")\n"
   ]
  },
  {
   "cell_type": "code",
   "execution_count": null,
   "id": "6b7415f0",
   "metadata": {},
   "outputs": [],
   "source": [
    "# Question 6: Creating and Exploring a DataFrame\n",
    "import pandas as pd\n",
    "data = {\n",
    "    'Product': ['A', 'B', 'C', 'D', 'E', 'F', 'G', 'H'],\n",
    "    'Price': [10.5, 20.0, 10.5, 15.0, 20.0, 25.0, 10.5, 15.0],\n",
    "    'Quantity': [5, 2, 3, 4, 1, 6, 7, 2]\n",
    "}\n",
    "df = pd.DataFrame(data)\n",
    "df['TotalValue'] = df['Price'] * df['Quantity']\n",
    "print(df.sort_values(by='TotalValue', ascending=False))\n",
    "print(df.groupby('Price')['Quantity'].mean())\n"
   ]
  },
  {
   "cell_type": "code",
   "execution_count": null,
   "id": "90cd94d6",
   "metadata": {},
   "outputs": [],
   "source": [
    "# Question 7: Titanic Dataset\n",
    "%pip install pandas\n",
    "import pandas as pd\n",
    "titanic = pd.read_csv(\"train.csv\")\n",
    "print(\"Missing values:\\n\", titanic.isnull().sum())\n",
    "print(\"Passengers under 18:\\n\", titanic[titanic['Age'] < 18])\n",
    "print(\"Female survivors:\\n\", titanic[(titanic['Sex'] == 'female') & (titanic['Survived'] == 1)])\n",
    "print(\"Average fare by class:\\n\", titanic.groupby('Pclass')['Fare'].mean())\n"
   ]
  },
  {
   "cell_type": "code",
   "execution_count": null,
   "id": "142a159c",
   "metadata": {},
   "outputs": [],
   "source": [
    "# Question 8: Heart Disease Dataset\n",
    "columns = ['Age', 'Sex', 'ChestPainType', 'RestingBP', 'Cholesterol', 'FastingBS', 'RestingECG',\n",
    "           'MaxHR', 'ExerciseAngina', 'Oldpeak', 'ST_Slope', 'NumVesselsFluoro',\n",
    "           'Thalassemia', 'HeartDisease']\n",
    "df_heart = pd.read_csv(\"processed.cleveland.data\", names=columns)\n",
    "df_heart.replace('?', np.nan, inplace=True)\n",
    "df_heart['NumVesselsFluoro'] = pd.to_numeric(df_heart['NumVesselsFluoro'], errors='coerce')\n",
    "df_heart['Thalassemia'] = pd.to_numeric(df_heart['Thalassemia'], errors='coerce')\n",
    "print(\"Missing values:\\n\", df_heart.isnull().sum())\n",
    "df_heart['NumVesselsFluoro'].fillna(df_heart['NumVesselsFluoro'].median(), inplace=True)\n",
    "df_heart['Thalassemia'].fillna(df_heart['Thalassemia'].mode()[0], inplace=True)\n",
    "df_heart = df_heart[df_heart.isnull().sum(axis=1) <= 2]\n",
    "print(df_heart.groupby('HeartDisease')['Cholesterol'].mean())\n"
   ]
  },
  {
   "cell_type": "code",
   "execution_count": null,
   "id": "eb24d6c7",
   "metadata": {},
   "outputs": [],
   "source": [
    "# Question 9: Visualizing Student Scores\n",
    "import matplotlib.pyplot as plt\n",
    "names = ['Alice', 'Bob', 'Charlie', 'David', 'Eva']\n",
    "math = [85, 78, 92, 88, 76]\n",
    "science = [90, 82, 89, 94, 75]\n",
    "english = [78, 85, 88, 80, 82]\n",
    "history = [84, 80, 91, 79, 77]\n",
    "plt.figure(figsize=(6, 4))\n",
    "plt.bar(names, math)\n",
    "plt.title(\"Math Scores\")\n",
    "plt.xlabel(\"Student\")\n",
    "plt.ylabel(\"Score\")\n",
    "plt.grid(axis='y')\n",
    "plt.show()\n",
    "plt.figure(figsize=(8, 5))\n",
    "plt.plot(names, math, label=\"Math\", marker='o')\n",
    "plt.plot(names, science, label=\"Science\", marker='o')\n",
    "plt.plot(names, english, label=\"English\", marker='o')\n",
    "plt.plot(names, history, label=\"History\", marker='o')\n",
    "plt.title(\"Scores in All Subjects\")\n",
    "plt.xlabel(\"Student\")\n",
    "plt.ylabel(\"Score\")\n",
    "plt.legend()\n",
    "plt.grid()\n",
    "plt.show()\n"
   ]
  },
  {
   "cell_type": "code",
   "execution_count": null,
   "id": "acbd388d",
   "metadata": {},
   "outputs": [],
   "source": [
    "# Question 10: Visualizing Random Data Distribution\n",
    "data = np.random.normal(loc=50, scale=10, size=1000)\n",
    "plt.figure(figsize=(7,5))\n",
    "plt.hist(data, bins=20, color='skyblue', edgecolor='black')\n",
    "plt.axvline(data.mean(), color='red', linestyle='--', linewidth=1)\n",
    "plt.title(\"Histogram of Normally Distributed Data\")\n",
    "plt.xlabel(\"Value\")\n",
    "plt.ylabel(\"Frequency\")\n",
    "plt.grid()\n",
    "plt.show()\n"
   ]
  }
 ],
 "metadata": {
  "kernelspec": {
   "display_name": "Python 3",
   "language": "python",
   "name": "python3"
  },
  "language_info": {
   "codemirror_mode": {
    "name": "ipython",
    "version": 3
   },
   "file_extension": ".py",
   "mimetype": "text/x-python",
   "name": "python",
   "nbconvert_exporter": "python",
   "pygments_lexer": "ipython3",
   "version": "3.11.5"
  }
 },
 "nbformat": 4,
 "nbformat_minor": 5
}
