{
 "cells": [
  {
   "cell_type": "code",
   "execution_count": null,
   "id": "53d1b410",
   "metadata": {
    "vscode": {
     "languageId": "plaintext"
    }
   },
   "outputs": [],
   "source": [
    "import numpy as np\n",
    "\n",
    "# Generate scores\n",
    "scores = np.random.randint(50, 100, size=(10, 5))\n",
    "\n",
    "# Calculations\n",
    "avg_scores = np.mean(scores, axis=1)\n",
    "max_subjects = np.max(scores, axis=0)\n",
    "final_array = np.column_stack((scores, avg_scores))\n",
    "\n",
    "print(\"Final array:\\n\", final_array)"
   ]
  }
 ],
 "metadata": {
  "language_info": {
   "name": "python"
  }
 },
 "nbformat": 4,
 "nbformat_minor": 5
}
