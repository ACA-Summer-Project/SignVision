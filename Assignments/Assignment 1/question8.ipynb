{
 "cells": [
  {
   "cell_type": "code",
   "execution_count": null,
   "id": "6c89bf5c",
   "metadata": {
    "vscode": {
     "languageId": "plaintext"
    }
   },
   "outputs": [],
   "source": [
    "columns = ['Age', 'Sex', 'ChestPainType', 'RestingBP', 'Cholesterol', 'FastingBS', \n",
    "           'RestingECG', 'MaxHR', 'ExerciseAngina', 'Oldpeak', 'ST_Slope', \n",
    "           'NumVesselsFluoro', 'Thalassemia', 'HeartDisease']\n",
    "heart = pd.read_csv('processed.cleveland.data', names=columns, na_values='?')\n",
    "\n",
    "\n",
    "print(\"Missing values before:\\n\", heart.isnull().sum())\n",
    "\n",
    "\n",
    "heart['NumVesselsFluoro'].fillna(heart['NumVesselsFluoro'].median(), inplace=True)\n",
    "heart['Thalassemia'].fillna(heart['Thalassemia'].mode()[0], inplace=True)\n",
    "\n",
    "# Final analysis\n",
    "heart_clean = heart.dropna(thresh=len(heart.columns)-2)\n",
    "chol_by_disease = heart_clean.groupby('HeartDisease')['Cholesterol'].mean()"
   ]
  }
 ],
 "metadata": {
  "language_info": {
   "name": "python"
  }
 },
 "nbformat": 4,
 "nbformat_minor": 5
}
