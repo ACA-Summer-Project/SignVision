{
 "cells": [
  {
   "cell_type": "code",
   "execution_count": 59,
   "id": "51342961-3e58-4917-afe8-7519cc56dc42",
   "metadata": {},
   "outputs": [],
   "source": [
    "import os\n",
    "import torch\n",
    "import torch.nn as nn\n",
    "import torch.optim as optim\n",
    "from torchvision import datasets, transforms\n",
    "from torch.utils.data import DataLoader\n",
    "\n",
    "\n",
    "# Device config\n",
    "device = torch.device('cuda' if torch.cuda.is_available() else 'cpu')\n",
    "\n",
    "\n",
    "\n"
   ]
  },
  {
   "cell_type": "code",
   "execution_count": 60,
   "id": "489b04ab-0640-421d-bcfa-cef5c7903982",
   "metadata": {
    "scrolled": true
   },
   "outputs": [],
   "source": [
    "batch_size = 32\n",
    "img_size = 64\n",
    "epochs = 10\n",
    "num_classes = 29  # 26 letters + [space, delete, nothing] if present\n",
    "\n",
    "# 1. Data transforms\n",
    "transform = transforms.Compose([\n",
    "    transforms.Resize((img_size, img_size)),\n",
    "    transforms.ToTensor(),\n",
    "    transforms.Normalize([0.5], [0.5])  # Normalizing to [-1, 1]\n",
    "])\n",
    "\n",
    "# 2. Load dataset\n",
    "dataset = datasets.ImageFolder(root=r'C:\\Users\\jhana\\Downloads\\archive(4)\\asl_alphabet_train\\asl_alphabet_train', transform=transform)\n",
    "train_size = int(0.8 * len(dataset))\n",
    "test_size=len(dataset)-train_size\n",
    "train_ds, test_ds = torch.utils.data.random_split(dataset, [train_size, test_size])\n",
    "\n",
    "train_loader = DataLoader(train_ds, batch_size=batch_size,  num_workers=4,\n",
    "    pin_memory=True,shuffle=True)\n",
    "test_loader = DataLoader(test_ds, batch_size=batch_size, num_workers=4,\n",
    "    pin_memory=True,shuffle=False)\n",
    "#Preprocessing done"
   ]
  },
  {
   "cell_type": "code",
   "execution_count": 61,
   "id": "1a99cdc0-5a01-4ca4-8b89-7c8b3b62885f",
   "metadata": {},
   "outputs": [],
   "source": [
    "# 3. Define CNN model\n",
    "class ASLCNN(nn.Module):\n",
    "    def __init__(self):\n",
    "        super( ASLCNN,self).__init__()\n",
    "        self.model = nn.Sequential(\n",
    "            nn.Conv2d(3, 32, kernel_size=3, padding=1),  # (B, 3, 64, 64) -> (B, 32, 64, 64)\n",
    "            nn.ReLU(),\n",
    "            nn.MaxPool2d(2, 2),                         # -> (B, 32, 32, 32)\n",
    "\n",
    "            nn.Conv2d(32, 64, kernel_size=3, padding=1), # -> (B, 64, 32, 32)\n",
    "            nn.ReLU(),\n",
    "            nn.MaxPool2d(2, 2),                         # -> (B, 64, 16, 16)\n",
    "\n",
    "            nn.Conv2d(64, 128, kernel_size=3, padding=1),\n",
    "            nn.ReLU(),\n",
    "            nn.MaxPool2d(2, 2),                         # -> (B, 128, 8, 8)\n",
    "\n",
    "            nn.Flatten(),                               # -> (B, 128*8*8)\n",
    "            nn.Linear(128 * 8 * 8, 256),\n",
    "            nn.ReLU(),\n",
    "            nn.Dropout(0.5),\n",
    "            nn.Linear(256, num_classes)\n",
    "        )\n",
    "\n",
    "    def forward(self, x):\n",
    "        return self.model(x)"
   ]
  },
  {
   "cell_type": "code",
   "execution_count": 68,
   "id": "5e6a7c66-b693-43e3-9462-b7c1b124934c",
   "metadata": {},
   "outputs": [
    {
     "name": "stdout",
     "output_type": "stream",
     "text": [
      "Training loss for every epoch:\n"
     ]
    }
   ],
   "source": [
    "model = ASLCNN().to(device)\n",
    "\n",
    "\n",
    "# 4. Loss and optimizer\n",
    "criterion = nn.CrossEntropyLoss()\n",
    "optimizer = optim.Adam(model.parameters(), lr=0.001)\n",
    "print(\"Training loss for every epoch:\")\n",
    "\n",
    "# 5. Training loop\n"
   ]
  },
  {
   "cell_type": "code",
   "execution_count": 19,
   "id": "72bc581c-dbe6-48ed-90cb-c25994caf456",
   "metadata": {},
   "outputs": [
    {
     "name": "stdout",
     "output_type": "stream",
     "text": [
      "Epoch [1/10], Loss: 0.8306\n",
      "Epoch [2/10], Loss: 0.1798\n",
      "Epoch [3/10], Loss: 0.1098\n",
      "Epoch [4/10], Loss: 0.0848\n",
      "Epoch [5/10], Loss: 0.0614\n",
      "Epoch [6/10], Loss: 0.0547\n",
      "Epoch [7/10], Loss: 0.0481\n",
      "Epoch [8/10], Loss: 0.0443\n",
      "Epoch [9/10], Loss: 0.0376\n",
      "Epoch [10/10], Loss: 0.0347\n"
     ]
    }
   ],
   "source": [
    "for epoch in range(epochs):  \n",
    "    model.train()  \n",
    "    running_loss = 0.0  \n",
    "\n",
    "    for images, labels in train_loader:  \n",
    "        images, labels = images.to(device), labels.to(device)  \n",
    "        optimizer.zero_grad()\n",
    "\n",
    "        outputs = model(images)  \n",
    "        loss = criterion(outputs, labels)  \n",
    "\n",
    "        loss.backward()  \n",
    "        optimizer.step()  \n",
    "\n",
    "        running_loss += loss \n",
    "\n",
    "    avg_loss = running_loss / len(train_loader)\n",
    "    print(f\"Epoch [{epoch+1}/{epochs}], Loss: {avg_loss:.4f}\")  \n"
   ]
  },
  {
   "cell_type": "code",
   "execution_count": 66,
   "id": "f063023b-f528-4853-ac66-3634cabf68bc",
   "metadata": {},
   "outputs": [
    {
     "name": "stdout",
     "output_type": "stream",
     "text": [
      "Confusion Matrix:\n",
      " [[  0 504 109   0   0   0   0   0   0   0   0   0   0   0   0   0   0   0\n",
      "    0   0   0   0   0   0   0   0   0   0   0]\n",
      " [  0 504  76   0   0   0   0   0   0   0   0   0   0   0   0   0   0   0\n",
      "    0   0   0   0   0   0   0   0   0   0   0]\n",
      " [  0 545  89   0   0   0   0   0   0   0   0   0   0   0   0   0   0   0\n",
      "    0   0   0   0   0   0   0   0   0   0   0]\n",
      " [  0 536  85   0   0   0   0   0   0   0   0   0   0   0   0   0   0   0\n",
      "    0   0   0   0   0   0   0   0   0   0   0]\n",
      " [  0 502  97   0   0   0   0   0   0   0   0   0   0   0   0   0   0   0\n",
      "    0   0   0   0   0   0   0   0   0   0   0]\n",
      " [  0 568  28   0   0   0   0   0   0   0   0   0   0   0   0   0   0   0\n",
      "    0   0   0   0   0   0   0   0   0   0   0]\n",
      " [  0 496  97   0   0   0   0   0   0   0   0   0   0   0   0   0   0   0\n",
      "    0   0   0   0   0   0   0   0   0   0   0]\n",
      " [  0 541  31   0   0   0   0   0   0   0   0   0   0   0   0   0   0   0\n",
      "    0   0   0   0   0   0   0   0   0   0   0]\n",
      " [  0 560  39   0   0   0   0   0   0   0   0   0   0   0   0   0   0   0\n",
      "    0   0   0   0   0   0   0   0   0   0   0]\n",
      " [  0 541  32   0   0   0   0   0   0   0   1   0   0   0   0   0   0   0\n",
      "    0   0   0   0   0   0   0   0   0   0   0]\n",
      " [  0 447 164   0   0   0   0   0   0   0   0   0   0   0   0   0   0   0\n",
      "    0   0   0   0   0   0   0   0   0   0   0]\n",
      " [  0 526  90   0   0   0   0   0   0   0   0   0   0   0   0   0   0   0\n",
      "    0   0   0   0   0   0   0   0   0   0   0]\n",
      " [  0 546  79   0   0   0   0   0   0   0   2   0   0   0   0   0   0   0\n",
      "    0   0   0   0   0   0   0   0   0   0   0]\n",
      " [  0 564  53   0   0   0   0   0   0   0   7   0   0   0   0   0   0   0\n",
      "    0   0   0   0   0   0   0   0   0   0   0]\n",
      " [  0 538 105   0   0   0   0   0   0   0   0   0   0   0   0   0   0   0\n",
      "    0   0   0   0   0   0   0   0   0   0   0]\n",
      " [  0 538  24   0   0   0   0   0   0   0   5   0   0   0   0   0   0   0\n",
      "    0   0   0   0   0   0   0   0   0   0   0]\n",
      " [  0 553  24   0   0   0   0   0   0   0   2   0   0   0   0   0   0   0\n",
      "    0   0   0   0   0   0   0   0   0   0   0]\n",
      " [  0 468 119   0   0   0   0   0   0   0   0   0   0   0   0   0   0   0\n",
      "    0   0   0   0   0   0   0   0   0   0   0]\n",
      " [  0 465  73   0   0   0   0   0   0   0  10   0   0   0   0   0   0   0\n",
      "    0   0   0   0   0   0   0   0   0   0   0]\n",
      " [  0 581  31   0   0   0   0   0   0   0   0   0   0   0   0   0   0   0\n",
      "    0   0   0   0   0   0   0   0   0   0   0]\n",
      " [  0 501 125   0   0   0   0   0   0   0   0   0   0   0   0   0   0   0\n",
      "    0   0   0   0   0   0   0   0   0   0   0]\n",
      " [  0 477 119   0   0   0   0   0   0   0   0   0   0   0   0   0   0   0\n",
      "    0   0   0   0   0   0   0   0   0   0   0]\n",
      " [  0 529  83   0   0   0   0   0   0   0   0   0   0   0   0   0   0   0\n",
      "    0   0   0   0   0   0   0   0   0   0   0]\n",
      " [  0 527  98   0   0   0   0   0   0   0   0   0   0   0   0   0   0   0\n",
      "    0   0   0   0   0   0   0   0   0   0   0]\n",
      " [  0 508  65   0   0   0   0   0   0   0   1   0   0   0   0   0   0   0\n",
      "    0   0   0   0   0   0   0   0   0   0   0]\n",
      " [  0 526  64   0   0   0   0   0   0   0   0   0   0   0   0   0   0   0\n",
      "    0   0   0   0   0   0   0   0   0   0   0]\n",
      " [  0 526  78   0   0   0   0   0   0   0   0   0   0   0   0   0   0   0\n",
      "    0   0   0   0   0   0   0   0   0   0   0]\n",
      " [  0 548  21   0   0   0   0   0   0   0  27   0   0   0   0   0   0   0\n",
      "    0   0   0   0   0   0   0   0   0   0   0]\n",
      " [  0 504  77   0   0   0   0   0   0   0   1   0   0   0   0   0   0   0\n",
      "    0   0   0   0   0   0   0   0   0   0   0]]\n"
     ]
    }
   ],
   "source": [
    "#Testing model\n",
    "model.eval()\n",
    "all_preds, all_labels = [], []\n",
    "\n",
    "with torch.no_grad():\n",
    "    for images, labels in test_loader:\n",
    "        images, labels = images.to(device), labels.to(device)\n",
    "        outputs = model(images)\n",
    "        _, preds = torch.max(outputs, 1)\n",
    "        all_preds.extend(preds.cpu().numpy())\n",
    "        all_labels.extend(labels.cpu().numpy())\n",
    "from sklearn.metrics import confusion_matrix\n",
    "import numpy as np\n",
    "\n",
    "\n",
    "conf_mat = confusion_matrix(all_labels, all_preds)\n",
    "accuracy = np.trace(conf_mat) / np.sum(conf_mat) * 100\n",
    "print(\"Confusion Matrix:\\n\", conf_mat)\n"
   ]
  },
  {
   "cell_type": "code",
   "execution_count": 25,
   "id": "7c4b9595-9540-4d21-9d2f-111b0bfbdbe9",
   "metadata": {},
   "outputs": [],
   "source": [
    "from sklearn.metrics import accuracy_score, precision_score, recall_score, f1_score, confusion_matrix\n",
    "\n",
    "prec = precision_score(all_labels, all_preds, average='macro')  \n",
    "rec = recall_score(all_labels, all_preds, average='macro')  \n",
    "f1 = f1_score(all_labels, all_preds, average='macro')"
   ]
  },
  {
   "cell_type": "code",
   "execution_count": 65,
   "id": "f0d7fe8f-e3f7-4e31-adb7-1841ddcbf99d",
   "metadata": {},
   "outputs": [
    {
     "name": "stdout",
     "output_type": "stream",
     "text": [
      "Performance of the model:\n",
      "Test Accuracy: 99.91%\n",
      "Precision:0.9991\n",
      "Recall:0.9991\n",
      "F1-score:0.9991\n"
     ]
    }
   ],
   "source": [
    "print(\"Performance of the model:\")\n",
    "print(f\"Test Accuracy: {accuracy:.2f}%\")\n",
    "print(f'Precision:{prec:.4f}')\n",
    "print(f'Recall:{rec:.4f}')\n",
    "print(f'F1-score:{f1:.4f}')"
   ]
  },
  {
   "cell_type": "code",
   "execution_count": 40,
   "id": "dd9a5dfe-4d35-4203-be99-aae4bcb61fc9",
   "metadata": {
    "scrolled": true
   },
   "outputs": [],
   "source": [
    "from PIL import Image\n",
    "image_path = r'C:\\Users\\jhana\\Downloads\\archive(4)\\asl_alphabet_test\\asl_alphabet_test\\J_test.jpg'\n",
    "\n"
   ]
  },
  {
   "cell_type": "code",
   "execution_count": 64,
   "id": "0ce9698a-b10c-4176-a785-471cdf38dc26",
   "metadata": {},
   "outputs": [
    {
     "name": "stdout",
     "output_type": "stream",
     "text": [
      "Sample testing\n",
      "Predicted Class: B\n"
     ]
    }
   ],
   "source": [
    "#Testing on a file\n",
    "print(\"Sample testing\")\n",
    "img = Image.open(image_path)\n",
    "img = transform(img)\n",
    "img = img.unsqueeze(0) \n",
    "img = img.to(device)  \n",
    "model.eval()\n",
    "with torch.no_grad():\n",
    "    output = model(img)\n",
    "    _, pred = torch.max(output, 1)  \n",
    "    predicted_class = dataset.classes[pred.item()]  \n",
    "\n",
    "print(f\"Predicted Class: {predicted_class}\")\n",
    "    \n",
    "\n"
   ]
  },
  {
   "cell_type": "code",
   "execution_count": 58,
   "id": "6e45ed6e-3d3b-4e62-be98-1aeaa5e4a988",
   "metadata": {},
   "outputs": [
    {
     "data": {
      "image/png": "[encoded data removed]",
      "text/plain": [
       "<Figure size 640x480 with 2 Axes>"
      ]
     },
     "metadata": {},
     "output_type": "display_data"
    }
   ],
   "source": [
    "from sklearn.metrics import confusion_matrix, ConfusionMatrixDisplay\n",
    "import matplotlib.pyplot as plt\n",
    "\n",
    "# After collecting all_labels and all_preds lists/tensors\n",
    "cm = confusion_matrix(all_labels, all_preds, normalize=None)  # or 'true' to normalize per row\n",
    "\n",
    "disp = ConfusionMatrixDisplay(confusion_matrix=cm)\n",
    "disp.plot(cmap=plt.cm.Blues, values_format='d')  # 'd' for integer format\n",
    "plt.xticks()\n",
    "plt.title(\"Confusion Matrix\")\n",
    "plt.xlabel(\"Predicted\")\n",
    "plt.ylabel(\"Actual\")\n",
    "plt.show()\n"
   ]
  },
  {
   "cell_type": "code",
   "execution_count": null,
   "id": "a96bd592-64e9-4ad1-aab3-91322a10326e",
   "metadata": {},
   "outputs": [],
   "source": []
  }
 ],
 "metadata": {
  "kernelspec": {
   "display_name": "Python (myenv)",
   "language": "python",
   "name": "myenv"
  },
  "language_info": {
   "codemirror_mode": {
    "name": "ipython",
    "version": 3
   },
   "file_extension": ".py",
   "mimetype": "text/x-python",
   "name": "python",
   "nbconvert_exporter": "python",
   "pygments_lexer": "ipython3",
   "version": "3.13.5"
  }
 },
 "nbformat": 4,
 "nbformat_minor": 5
}
