{
  "nbformat": 4,
  "nbformat_minor": 0,
  "metadata": {
    "colab": {
      "provenance": [],
      "gpuType": "T4"
    },
    "kernelspec": {
      "name": "python3",
      "display_name": "Python 3"
    },
    "language_info": {
      "name": "python"
    },
    "accelerator": "GPU"
  },
  "cells": [
    {
      "cell_type": "code",
      "execution_count": null,
      "metadata": {
        "id": "vPfApWnfJhiR"
      },
      "outputs": [],
      "source": [
        "import matplotlib.pyplot as plt\n",
        "import numpy as np\n",
        "import torch\n",
        "import torch.nn as nn\n",
        "import torch.optim as optim\n",
        "import torchvision.transforms as transforms\n",
        "from torch.utils.data import DataLoader, Dataset, random_split\n",
        "from torchvision.datasets import ImageFolder\n",
        "from sklearn.metrics import precision_score, recall_score, f1_score, confusion_matrix\n",
        "import zipfile\n",
        "import os\n",
        "from google.colab import files"
      ]
    },
    {
      "cell_type": "code",
      "source": [
        "# Set device configuration\n",
        "device = torch.device(\"cuda\" if torch.cuda.is_available() else \"cpu\")\n",
        "print(f\"Using device: {device}\")"
      ],
      "metadata": {
        "colab": {
          "base_uri": "https://localhost:8080/"
        },
        "id": "fiQH4BFtL2l4",
        "outputId": "1964973a-13b6-4ef6-a147-e5d0be664f00"
      },
      "execution_count": null,
      "outputs": [
        {
          "output_type": "stream",
          "name": "stdout",
          "text": [
            "Using device: cuda\n"
          ]
        }
      ]
    },
    {
      "cell_type": "code",
      "source": [
        "from google.colab import drive\n",
        "drive.mount('/content/drive')\n"
      ],
      "metadata": {
        "colab": {
          "base_uri": "https://localhost:8080/"
        },
        "id": "MMFXhbshL4r8",
        "outputId": "d59300be-092f-4082-e1e5-d5c24c89568d"
      },
      "execution_count": null,
      "outputs": [
        {
          "output_type": "stream",
          "name": "stdout",
          "text": [
            "Mounted at /content/drive\n"
          ]
        }
      ]
    },
    {
      "cell_type": "code",
      "source": [
        "import zipfile\n",
        "\n",
        "zip_path = \"/content/drive/My Drive/asl_alphabet_train.zip\"\n",
        "extract_to = \"/content/asl_alphabet_train\"\n",
        "\n",
        "with zipfile.ZipFile(zip_path, 'r') as zip_ref:\n",
        "    zip_ref.extractall(extract_to)\n"
      ],
      "metadata": {
        "id": "LbNn9P63SHJT"
      },
      "execution_count": null,
      "outputs": []
    },
    {
      "cell_type": "code",
      "source": [
        "# Data preprocessingg\n",
        "train_transform = transforms.Compose([\n",
        "    transforms.Resize((224, 224)),\n",
        "    transforms.RandomRotation(10),\n",
        "    transforms.RandomHorizontalFlip(p=0.1),\n",
        "    transforms.ColorJitter(brightness=0.2, contrast=0.2),\n",
        "    transforms.ToTensor(),\n",
        "    transforms.Normalize(mean=[0.485, 0.456, 0.406], std=[0.229, 0.224, 0.225])\n",
        "])\n",
        "val_transform = transforms.Compose([\n",
        "    transforms.Resize((224, 224)),\n",
        "    transforms.ToTensor(),\n",
        "    transforms.Normalize(mean=[0.485, 0.456, 0.406], std=[0.229, 0.224, 0.225])\n",
        "])"
      ],
      "metadata": {
        "id": "dzmEH6UgSpkW"
      },
      "execution_count": null,
      "outputs": []
    },
    {
      "cell_type": "code",
      "source": [
        "from torchvision import datasets, transforms\n",
        "dataset = datasets.ImageFolder(\"/content/asl_alphabet_train/asl_alphabet_train\", transform=train_transform)\n"
      ],
      "metadata": {
        "id": "rZhzFZvSVH4J"
      },
      "execution_count": null,
      "outputs": []
    },
    {
      "cell_type": "code",
      "source": [
        "from torch.utils.data import DataLoader\n",
        "train_size = int(0.8 * len(dataset))\n",
        "val_size = len(dataset) - train_size\n",
        "train_dataset, val_dataset = random_split(dataset, [train_size, val_size])\n",
        "\n",
        "#4Create DataLoaders\n",
        "train_loader = DataLoader(train_dataset, batch_size=32, shuffle=True)\n",
        "val_loader = DataLoader(val_dataset, batch_size=32, shuffle=False)\n",
        "print(\"Classes:\", dataset.classes)\n",
        "class_names = dataset.classes\n",
        "print(\"Detected classes:\", class_names)\n",
        "print(\"Classes found:\", dataset.classes)\n",
        "print(\"Number of classes:\", len(dataset.classes))\n"
      ],
      "metadata": {
        "colab": {
          "base_uri": "https://localhost:8080/"
        },
        "id": "K4WV-sEIXDFZ",
        "outputId": "3c56c232-5643-4742-9921-162edaa23fbf"
      },
      "execution_count": null,
      "outputs": [
        {
          "output_type": "stream",
          "name": "stdout",
          "text": [
            "Classes: ['A', 'B', 'C', 'D', 'E', 'F', 'G', 'H', 'I', 'J', 'K', 'L', 'M', 'N', 'O', 'P', 'Q', 'R', 'S', 'T', 'U', 'V', 'W', 'X', 'Y', 'Z', 'del', 'nothing', 'space']\n",
            "Detected classes: ['A', 'B', 'C', 'D', 'E', 'F', 'G', 'H', 'I', 'J', 'K', 'L', 'M', 'N', 'O', 'P', 'Q', 'R', 'S', 'T', 'U', 'V', 'W', 'X', 'Y', 'Z', 'del', 'nothing', 'space']\n",
            "Classes found: ['A', 'B', 'C', 'D', 'E', 'F', 'G', 'H', 'I', 'J', 'K', 'L', 'M', 'N', 'O', 'P', 'Q', 'R', 'S', 'T', 'U', 'V', 'W', 'X', 'Y', 'Z', 'del', 'nothing', 'space']\n",
            "Number of classes: 29\n"
          ]
        }
      ]
    },
    {
      "cell_type": "code",
      "source": [
        "#Define CNN Model\n",
        "class ASLClassifier(nn.Module):\n",
        "    def __init__(self):\n",
        "        super(ASLClassifier, self).__init__()\n",
        "        self.conv = nn.Sequential(\n",
        "            nn.Conv2d(3, 32, 3, padding=1), nn.ReLU(), nn.MaxPool2d(2),\n",
        "            nn.Conv2d(32, 64, 3, padding=1), nn.ReLU(), nn.MaxPool2d(2),\n",
        "            nn.Conv2d(64, 128, 3, padding=1), nn.ReLU(), nn.MaxPool2d(2),\n",
        "            nn.Conv2d(128, 256, 3, padding=1), nn.ReLU(), nn.MaxPool2d(2)\n",
        "        )\n",
        "        self.fc = nn.Sequential(\n",
        "            nn.Flatten(),\n",
        "            nn.Linear(256 * 14 * 14, 512),\n",
        "            nn.ReLU(),\n",
        "            nn.Dropout(0.5),\n",
        "            nn.Linear(512, len(class_names))\n",
        "        )\n",
        "\n",
        "    def forward(self, x):\n",
        "        return self.fc(self.conv(x))\n",
        "\n",
        "model = ASLClassifier().to(device)\n",
        "criterion = nn.CrossEntropyLoss()\n",
        "optimizer = optim.Adam(model.parameters(), lr=0.001)\n"
      ],
      "metadata": {
        "id": "wSIGE-Y8XvT_"
      },
      "execution_count": null,
      "outputs": []
    },
    {
      "cell_type": "code",
      "source": [
        "#Train & Evaluate Functions\n",
        "def train(model, loader):\n",
        "    model.train()\n",
        "    total_loss = 0\n",
        "    for images, labels in loader:\n",
        "        images, labels = images.to(device), labels.to(device)\n",
        "        optimizer.zero_grad()\n",
        "        outputs = model(images)\n",
        "        loss = criterion(outputs, labels)\n",
        "        loss.backward()\n",
        "        optimizer.step()\n",
        "        total_loss += loss.item()\n",
        "    return total_loss / len(loader)\n",
        "\n",
        "def evaluate(model, loader):\n",
        "    model.eval()\n",
        "    y_true, y_pred = [], []\n",
        "    with torch.no_grad():\n",
        "        for images, labels in loader:\n",
        "            images = images.to(device)\n",
        "            outputs = model(images)\n",
        "            _, preds = torch.max(outputs, 1)\n",
        "            y_true.extend(labels.cpu().numpy())\n",
        "            y_pred.extend(preds.cpu().numpy())\n",
        "    return y_true, y_pred"
      ],
      "metadata": {
        "id": "ZF9rVmv-X35k"
      },
      "execution_count": null,
      "outputs": []
    },
    {
      "cell_type": "code",
      "source": [
        "#Train the Model\n",
        "epochs = 15\n",
        "for epoch in range(epochs):\n",
        "    loss = train (model, train_loader)\n",
        "    print(f\"Epoch {epoch+1}/{epochs}, Loss: {loss:.4f}\")"
      ],
      "metadata": {
        "colab": {
          "base_uri": "https://localhost:8080/"
        },
        "id": "H-JiqBS6YlIz",
        "outputId": "cd020e63-1ea7-4899-8913-36793f282dea"
      },
      "execution_count": null,
      "outputs": [
        {
          "output_type": "stream",
          "name": "stdout",
          "text": [
            "Epoch 1/15, Loss: 1.4419\n",
            "Epoch 2/15, Loss: 0.5284\n",
            "Epoch 3/15, Loss: 0.3451\n",
            "Epoch 4/15, Loss: 0.2587\n",
            "Epoch 5/15, Loss: 0.2100\n",
            "Epoch 6/15, Loss: 0.1845\n",
            "Epoch 7/15, Loss: 0.1672\n",
            "Epoch 8/15, Loss: 0.1458\n",
            "Epoch 9/15, Loss: 0.1396\n",
            "Epoch 10/15, Loss: 0.1325\n",
            "Epoch 11/15, Loss: 0.1202\n",
            "Epoch 12/15, Loss: 0.1228\n",
            "Epoch 13/15, Loss: 0.1084\n",
            "Epoch 14/15, Loss: 0.1111\n",
            "Epoch 15/15, Loss: 0.0992\n"
          ]
        }
      ]
    },
    {
      "cell_type": "code",
      "source": [
        "#Evaluate on validation set\n",
        "val_true, val_pred = evaluate(model, val_loader)\n",
        "\n",
        "from sklearn.metrics import classification_report\n",
        "print(\"\\nValidation Performance:\")\n",
        "print(classification_report(val_true, val_pred, target_names=class_names))"
      ],
      "metadata": {
        "id": "OpqlRPnYYqnm",
        "colab": {
          "base_uri": "https://localhost:8080/"
        },
        "outputId": "7f9185f8-e840-40ef-b32a-3947c77429b6"
      },
      "execution_count": null,
      "outputs": [
        {
          "output_type": "stream",
          "name": "stdout",
          "text": [
            "\n",
            "Validation Performance:\n",
            "              precision    recall  f1-score   support\n",
            "\n",
            "           A       0.99      0.97      0.98       628\n",
            "           B       0.99      0.98      0.99       577\n",
            "           C       1.00      1.00      1.00       581\n",
            "           D       0.99      0.99      0.99       597\n",
            "           E       0.97      0.97      0.97       636\n",
            "           F       1.00      1.00      1.00       634\n",
            "           G       0.99      0.97      0.98       602\n",
            "           H       0.97      0.99      0.98       596\n",
            "           I       0.97      1.00      0.98       609\n",
            "           J       0.99      0.99      0.99       599\n",
            "           K       0.99      0.98      0.99       599\n",
            "           L       1.00      0.99      1.00       566\n",
            "           M       0.99      0.96      0.97       579\n",
            "           N       0.96      0.99      0.98       591\n",
            "           O       1.00      0.99      1.00       640\n",
            "           P       0.99      0.99      0.99       600\n",
            "           Q       0.99      1.00      0.99       592\n",
            "           R       0.99      0.97      0.98       586\n",
            "           S       0.96      1.00      0.98       593\n",
            "           T       0.99      1.00      0.99       616\n",
            "           U       0.99      0.96      0.98       604\n",
            "           V       0.97      0.99      0.98       615\n",
            "           W       1.00      0.96      0.98       571\n",
            "           X       0.97      0.99      0.98       602\n",
            "           Y       1.00      0.99      0.99       615\n",
            "           Z       0.99      0.99      0.99       592\n",
            "         del       1.00      0.99      1.00       595\n",
            "     nothing       0.99      1.00      1.00       583\n",
            "       space       0.99      1.00      0.99       602\n",
            "\n",
            "    accuracy                           0.99     17400\n",
            "   macro avg       0.99      0.99      0.99     17400\n",
            "weighted avg       0.99      0.99      0.99     17400\n",
            "\n"
          ]
        }
      ]
    },
    {
      "cell_type": "code",
      "source": [
        "zip_path = \"/content/drive/MyDrive/asl_alphabet_test.zip\"\n",
        "extract_to = \"/content/asl_alphabet_test/asl_alphabet_test\"\n",
        "\n",
        "with zipfile.ZipFile(zip_path, 'r') as zip_ref:\n",
        "    zip_ref.extractall(extract_to)\n",
        "print(\"Extracted to:\", extract_to)\n",
        "from PIL import Image\n",
        "test_images = []\n",
        "test_labels = []\n",
        "class_to_idx = {class_name: idx for idx, class_name in enumerate(class_names)}\n",
        "\n",
        "test_transform = transforms.Compose([\n",
        "    transforms.Resize((224, 224)),\n",
        "    transforms.ToTensor(),\n",
        "    transforms.Normalize(mean=[0.485, 0.456, 0.406],\n",
        "                         std=[0.229, 0.224, 0.225])\n",
        "])\n",
        "\n",
        "for filename in os.listdir(extract_to):\n",
        "    if filename.endswith(\".jpg\"):\n",
        "        label_char = filename.split(\"_\")[0]\n",
        "        label = class_to_idx.get(label_char)\n",
        "        if label is None:\n",
        "            continue\n",
        "        image_path = os.path.join(extract_to, filename)\n",
        "        image = Image.open(image_path).convert('RGB')\n",
        "        image_tensor = test_transform(image)\n",
        "        test_images.append(image_tensor)\n",
        "        test_labels.append(label)\n",
        "\n",
        "test_images = torch.stack(test_images).to(device)\n",
        "test_labels = torch.tensor(test_labels).to(device)\n",
        "\n",
        "print(\"Test images:\", test_images.shape)\n",
        "print(\"Test labels:\", test_labels)"
      ],
      "metadata": {
        "id": "Da5Rj2aBnnkz",
        "colab": {
          "base_uri": "https://localhost:8080/"
        },
        "outputId": "a8f6249b-7948-41ba-f633-4f11f22806df"
      },
      "execution_count": null,
      "outputs": [
        {
          "output_type": "stream",
          "name": "stdout",
          "text": [
            "Extracted to: /content/asl_alphabet_test/asl_alphabet_test\n",
            "Test images: torch.Size([28, 3, 224, 224])\n",
            "Test labels: tensor([15,  2, 27, 24, 16,  9,  1, 19, 28, 14,  8, 21,  0, 12, 17,  6, 13,  3,\n",
            "        25, 10,  4, 11, 20,  7, 22, 18, 23,  5], device='cuda:0')\n"
          ]
        }
      ]
    },
    {
      "cell_type": "code",
      "source": [
        "del_index = class_names.index(\"del\")\n",
        "unique_test_indices = np.unique(test_labels.cpu().numpy())\n",
        "filtered_class_names = [class_names[i] for i in unique_test_indices]"
      ],
      "metadata": {
        "id": "3FNJcm94GR52"
      },
      "execution_count": null,
      "outputs": []
    },
    {
      "cell_type": "code",
      "source": [
        "from sklearn.metrics import (\n",
        "    accuracy_score, precision_score, recall_score,\n",
        "    f1_score, classification_report, confusion_matrix\n",
        ")\n",
        "test_true = test_labels.cpu().numpy()\n",
        "print(\"\\nTest Set Performance (28 classes only):\")\n",
        "print(classification_report(test_true, test_pred, target_names=filtered_class_names))\n",
        "\n",
        "#metrics\n",
        "accuracy = accuracy_score(test_true, test_pred)\n",
        "precision = precision_score(test_true, test_pred, average='macro')\n",
        "recall = recall_score(test_true, test_pred, average='macro')\n",
        "f1 = f1_score(test_true, test_pred, average='macro')\n",
        "\n",
        "print(f\"Accuracy:  {accuracy:.4f}\")\n",
        "print(f\"Precision: {precision:.4f}\")\n",
        "print(f\"Recall:    {recall:.4f}\")\n",
        "print(f\"F1-Score:  {f1:.4f}\")\n"
      ],
      "metadata": {
        "colab": {
          "base_uri": "https://localhost:8080/"
        },
        "id": "JJN00kBzcSXT",
        "outputId": "7bff1b61-0da3-4f0f-83dd-8b475350ec9e"
      },
      "execution_count": null,
      "outputs": [
        {
          "output_type": "stream",
          "name": "stdout",
          "text": [
            "\n",
            "Test Set Performance (28 classes only):\n",
            "              precision    recall  f1-score   support\n",
            "\n",
            "           A       1.00      1.00      1.00         1\n",
            "           B       1.00      1.00      1.00         1\n",
            "           C       1.00      1.00      1.00         1\n",
            "           D       1.00      1.00      1.00         1\n",
            "           E       1.00      1.00      1.00         1\n",
            "           F       1.00      1.00      1.00         1\n",
            "           G       1.00      1.00      1.00         1\n",
            "           H       1.00      1.00      1.00         1\n",
            "           I       1.00      1.00      1.00         1\n",
            "           J       1.00      1.00      1.00         1\n",
            "           K       1.00      1.00      1.00         1\n",
            "           L       1.00      1.00      1.00         1\n",
            "           M       1.00      1.00      1.00         1\n",
            "           N       1.00      1.00      1.00         1\n",
            "           O       1.00      1.00      1.00         1\n",
            "           P       1.00      1.00      1.00         1\n",
            "           Q       1.00      1.00      1.00         1\n",
            "           R       1.00      1.00      1.00         1\n",
            "           S       1.00      1.00      1.00         1\n",
            "           T       1.00      1.00      1.00         1\n",
            "           U       1.00      1.00      1.00         1\n",
            "           V       1.00      1.00      1.00         1\n",
            "           W       1.00      1.00      1.00         1\n",
            "           X       1.00      1.00      1.00         1\n",
            "           Y       1.00      1.00      1.00         1\n",
            "           Z       1.00      1.00      1.00         1\n",
            "     nothing       1.00      1.00      1.00         1\n",
            "       space       1.00      1.00      1.00         1\n",
            "\n",
            "    accuracy                           1.00        28\n",
            "   macro avg       1.00      1.00      1.00        28\n",
            "weighted avg       1.00      1.00      1.00        28\n",
            "\n",
            "Accuracy:  1.0000\n",
            "Precision: 1.0000\n",
            "Recall:    1.0000\n",
            "F1-Score:  1.0000\n"
          ]
        }
      ]
    },
    {
      "cell_type": "code",
      "source": [
        "#confusion matrix\n",
        "conf_mat = confusion_matrix(test_true, test_pred)\n",
        "plt.figure(figsize=(14, 12))\n",
        "sns.heatmap(conf_mat, annot=True, fmt='d', cmap=\"Blues\",\n",
        "            xticklabels=filtered_class_names, yticklabels=filtered_class_names)\n",
        "plt.title(\"Confusion Matrix (Test Set, 28 Classes)\")\n",
        "plt.xlabel(\"Predicted\")\n",
        "plt.ylabel(\"Actual\")\n",
        "plt.show()\n"
      ],
      "metadata": {
        "colab": {
          "base_uri": "https://localhost:8080/",
          "height": 1000
        },
        "id": "EFEEXblrcSz_",
        "outputId": "b4d7ff78-5708-481e-84d0-90c1b9493bee"
      },
      "execution_count": null,
      "outputs": [
        {
          "output_type": "display_data",
          "data": {
            "text/plain": [
              "<Figure size 1400x1200 with 2 Axes>"
            ],
            "image/png": "[encoded data removed]"
          },
          "metadata": {}
        }
      ]
    },
    {
      "cell_type": "code",
      "source": [],
      "metadata": {
        "id": "IH_I5S3ffvsS"
      },
      "execution_count": null,
      "outputs": []
    }
  ]
}