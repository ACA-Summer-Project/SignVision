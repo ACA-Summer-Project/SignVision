{
  "cells": [
    {
      "cell_type": "code",
      "execution_count": null,
      "metadata": {
        "id": "yCta2-RTJWDO"
      },
      "outputs": [],
      "source": [
        "import torch \n",
        "import torch.nn as nn  \n",
        "import torch.optim as optim  \n",
        "from torchvision import datasets, transforms \n",
        "from torch.utils.data import DataLoader \n",
        "import matplotlib.pyplot as plt  \n",
        "import numpy as np  \n"
      ]
    },
    {
      "cell_type": "code",
      "execution_count": null,
      "metadata": {
        "colab": {
          "base_uri": "https://localhost:8080/"
        },
        "id": "rxmDlcQRU7ta",
        "outputId": "cea55b80-c96c-42d5-8464-f56269a80039"
      },
      "outputs": [
        {
          "name": "stdout",
          "output_type": "stream",
          "text": [
            "Device: cuda\n"
          ]
        }
      ],
      "source": [
        "device = torch.device(\"cuda\" if torch.cuda.is_available() else \"cpu\") \n",
        "print(\"Device:\", device) \n"
      ]
    },
    {
      "cell_type": "code",
      "execution_count": null,
      "metadata": {
        "colab": {
          "base_uri": "https://localhost:8080/"
        },
        "id": "kPB-iM-TU9db",
        "outputId": "d75aa722-74c2-45e3-d834-2c37eb2dd3eb"
      },
      "outputs": [],
      "source": [
        "transform = transforms.Compose([  \n",
        "    transforms.Resize((64, 64)),  \n",
        "    transforms.ToTensor(),  \n",
        "    transforms.Normalize((0.5,), (0.5,))  \n",
        "])\n",
        "\n",
        "\n",
        "\n",
        "\n",
        "dataset_path = r'C:\\Users\\deepa\\OneDrive\\Desktop\\asl_alphabet_train\\asl_alphabet_train'"
      ]
    },
    {
      "cell_type": "code",
      "execution_count": null,
      "metadata": {
        "colab": {
          "base_uri": "https://localhost:8080/"
        },
        "id": "QD_23rakeLV5",
        "outputId": "f9a6734c-9b02-4ea2-9d08-d5cc1f1e930f"
      },
      "outputs": [],
      "source": [
        "\n",
        "\n",
        "train_data = datasets.ImageFolder(root=dataset_path, transform=transform)\n",
        "test_data = datasets.ImageFolder(root=dataset_path, transform=transform)\n",
        "\n",
        "\n",
        "full_dataset = datasets.ImageFolder(root=dataset_path, transform=transform)\n",
        "\n",
        "train_size = int(0.8 * len(full_dataset))\n",
        "test_size = len(full_dataset) - train_size\n",
        "\n",
        "train_data, test_data = torch.utils.data.random_split(full_dataset, [train_size, test_size])\n",
        "\n",
        "# DataLoaders\n",
        "train_loader = DataLoader(train_data, batch_size=32, shuffle=True)\n",
        "test_loader = DataLoader(test_data, batch_size=32, shuffle=False)\n"
      ]
    },
    {
      "cell_type": "code",
      "execution_count": null,
      "metadata": {
        "colab": {
          "base_uri": "https://localhost:8080/"
        },
        "id": "Ysexng4nU9mx",
        "outputId": "cf16789c-9b0d-4cb4-f707-e5d0d5edc3b1"
      },
      "outputs": [
        {
          "name": "stdout",
          "output_type": "stream",
          "text": [
            "Classes: ['A', 'B', 'C', 'D', 'E', 'F', 'G', 'H', 'I', 'J', 'K', 'L', 'M', 'N', 'O', 'P', 'Q', 'R', 'S', 'T', 'U', 'V', 'W', 'X', 'Y', 'Z', 'del', 'nothing', 'space']\n"
          ]
        }
      ],
      "source": [
        "print(\"Classes:\", full_dataset.classes)\n"
      ]
    },
    {
      "cell_type": "code",
      "execution_count": null,
      "metadata": {
        "id": "05w7XJuWwvWW"
      },
      "outputs": [],
      "source": [
        "import torch.nn as nn  \n",
        "import torch.nn.functional as F \n",
        "\n",
        "class ASLClassifier(nn.Module):\n",
        "    def __init__(self):\n",
        "        super(ASLClassifier, self).__init__()\n",
        "\n",
        "        # 1st Convolutional Layer: 3 input channels (RGB), 16 output channels, 3x3 kernel\n",
        "        self.conv1 = nn.Conv2d(3, 16, 3, padding=1)\n",
        "\n",
        "        self.conv2 = nn.Conv2d(16, 32, 3, padding=1)\n",
        "        self.conv3 = nn.Conv2d(32, 64, 3, padding=1)\n",
        "\n",
        "        self.fc1 = nn.Linear(64 * 8 * 8, 128) \n",
        "\n",
        "        self.fc2 = nn.Linear(128, 29)\n",
        "\n",
        "    def forward(self, x):\n",
        "        x = F.relu(self.conv1(x)) \n",
        "        x = F.max_pool2d(x, 2, 2)  \n",
        "\n",
        "        x = F.relu(self.conv2(x))  \n",
        "        x = F.max_pool2d(x, 2, 2)  \n",
        "\n",
        "        x = F.relu(self.conv3(x)) \n",
        "        x = F.max_pool2d(x, 2, 2) \n",
        "\n",
        "        x = x.view(-1, 64 * 8 * 8)  \n",
        "\n",
        "        x = F.relu(self.fc1(x)) \n",
        "        x = self.fc2(x) \n",
        "\n",
        "        return x\n"
      ]
    },
    {
      "cell_type": "code",
      "execution_count": 7,
      "metadata": {
        "colab": {
          "base_uri": "https://localhost:8080/"
        },
        "id": "3jPbqgtjw16c",
        "outputId": "0dc8a317-5618-4b65-af2f-60fce8411455"
      },
      "outputs": [
        {
          "name": "stdout",
          "output_type": "stream",
          "text": [
            "ASLClassifier(\n",
            "  (conv1): Conv2d(3, 16, kernel_size=(3, 3), stride=(1, 1), padding=(1, 1))\n",
            "  (conv2): Conv2d(16, 32, kernel_size=(3, 3), stride=(1, 1), padding=(1, 1))\n",
            "  (conv3): Conv2d(32, 64, kernel_size=(3, 3), stride=(1, 1), padding=(1, 1))\n",
            "  (fc1): Linear(in_features=4096, out_features=128, bias=True)\n",
            "  (fc2): Linear(in_features=128, out_features=29, bias=True)\n",
            ")\n"
          ]
        }
      ],
      "source": [
        "model = ASLClassifier()\n",
        "print(model)"
      ]
    },
    {
      "cell_type": "code",
      "execution_count": 19,
      "metadata": {
        "colab": {
          "base_uri": "https://localhost:8080/",
          "height": 469
        },
        "id": "iSAuBKyrU9sq",
        "outputId": "e83c2448-6363-4e79-a14d-9d185e0c2cf4"
      },
      "outputs": [
        {
          "name": "stderr",
          "output_type": "stream",
          "text": [
            "Clipping input data to the valid range for imshow with RGB data ([0..1] for floats or [0..255] for integers). Got range [-0.92156863..0.99215686].\n"
          ]
        },
        {
          "data": {
            "image/png": "[encoded data removed]",
            "text/plain": [
              "<Figure size 640x480 with 1 Axes>"
            ]
          },
          "metadata": {},
          "output_type": "display_data"
        }
      ],
      "source": [
        "import numpy as np\n",
        "\n",
        "img, label = full_dataset[3] \n",
        "\n",
        "plt.imshow(np.transpose(img, (1, 2, 0)))  \n",
        "plt.title(f\"Label: {full_dataset.classes[label]}\")  \n",
        "plt.show()\n"
      ]
    },
    {
      "cell_type": "code",
      "execution_count": null,
      "metadata": {
        "id": "72FLSz2fbniO"
      },
      "outputs": [],
      "source": [
        "import torch.optim as optim \n",
        "\n",
        "device = torch.device(\"cuda\" if torch.cuda.is_available() else \"cpu\")  \n",
        "\n",
        "model = ASLClassifier().to(device) \n",
        "\n",
        "criterion = nn.CrossEntropyLoss()  \n",
        "optimizer = optim.Adam(model.parameters(), lr=0.001)  \n",
        "\n"
      ]
    },
    {
      "cell_type": "code",
      "execution_count": null,
      "metadata": {
        "colab": {
          "base_uri": "https://localhost:8080/"
        },
        "id": "zPuK6xT2U9yK",
        "outputId": "e4ed77ff-cd52-4bce-893c-17679ffd7ddf"
      },
      "outputs": [
        {
          "name": "stdout",
          "output_type": "stream",
          "text": [
            "Epoch [1/10], Loss: 0.6471\n",
            "Epoch [2/10], Loss: 0.0967\n",
            "Epoch [3/10], Loss: 0.0574\n",
            "Epoch [4/10], Loss: 0.0398\n",
            "Epoch [5/10], Loss: 0.0315\n",
            "Epoch [6/10], Loss: 0.0281\n",
            "Epoch [7/10], Loss: 0.0208\n",
            "Epoch [8/10], Loss: 0.0215\n",
            "Epoch [9/10], Loss: 0.0202\n",
            "Epoch [10/10], Loss: 0.0136\n"
          ]
        }
      ],
      "source": [
        "num_epochs = 10  \n",
        "for epoch in range(num_epochs):  \n",
        "    model.train()  \n",
        "    running_loss = 0.0 \n",
        "\n",
        "\n",
        "    for images, labels in train_loader:  \n",
        "        images, labels = images.to(device), labels.to(device)  \n",
        "\n",
        "        optimizer.zero_grad()  \n",
        "\n",
        "        outputs = model(images) \n",
        "        loss = criterion(outputs, labels) \n",
        "\n",
        "        loss.backward()  \n",
        "        optimizer.step()  \n",
        "\n",
        "        running_loss += loss.item()  \n",
        "\n",
        "    avg_loss = running_loss / len(train_loader) \n",
        "    print(f\"Epoch [{epoch+1}/{num_epochs}], Loss: {avg_loss:.4f}\") \n",
        "\n",
        "\n",
        "\n",
        "torch.save(model.state_dict(), 'asl_classifier.pth')\n",
        "\n",
        "\n"
      ]
    },
    {
      "cell_type": "code",
      "execution_count": null,
      "metadata": {
        "id": "GbYWXdyPU91o"
      },
      "outputs": [],
      "source": [
        "from sklearn.metrics import accuracy_score, precision_score, recall_score, f1_score, confusion_matrix\n",
        "\n",
        "model.eval()  \n",
        "\n",
        "all_preds = [] \n",
        "all_labels = [] \n",
        "\n"
      ]
    },
    {
      "cell_type": "code",
      "execution_count": null,
      "metadata": {
        "id": "SZ746fiwbpC9"
      },
      "outputs": [],
      "source": [
        "with torch.no_grad():  \n",
        "    for images, labels in test_loader:  \n",
        "        images, labels = images.to(device), labels.to(device)  \n",
        "\n",
        "        outputs = model(images) \n",
        "        _, predicted = torch.max(outputs, 1) \n",
        "\n",
        "        all_preds.extend(predicted.cpu().numpy()) \n",
        "        all_labels.extend(labels.cpu().numpy())  \n"
      ]
    },
    {
      "cell_type": "code",
      "execution_count": null,
      "metadata": {
        "colab": {
          "base_uri": "https://localhost:8080/"
        },
        "id": "HlM7JmDjbo_d",
        "outputId": "2b2edacf-7777-4eaa-8743-c969b92261be"
      },
      "outputs": [
        {
          "name": "stdout",
          "output_type": "stream",
          "text": [
            "Accuracy: 0.9993\n",
            "Precision: 0.9993\n",
            "Recall: 0.9993\n",
            "F1-Score: 0.9993\n"
          ]
        }
      ],
      "source": [
        "acc = accuracy_score(all_labels, all_preds)  \n",
        "prec = precision_score(all_labels, all_preds, average='macro')  \n",
        "rec = recall_score(all_labels, all_preds, average='macro') \n",
        "f1 = f1_score(all_labels, all_preds, average='macro')  \n",
        "\n",
        "print(f'Accuracy: {acc:.4f}')\n",
        "print(f'Precision: {prec:.4f}')\n",
        "print(f'Recall: {rec:.4f}')\n",
        "print(f'F1-Score: {f1:.4f}')\n"
      ]
    },
    {
      "cell_type": "markdown",
      "metadata": {
        "id": "-X4kPLPYPZfP"
      },
      "source": []
    },
    {
      "cell_type": "code",
      "execution_count": null,
      "metadata": {
        "colab": {
          "base_uri": "https://localhost:8080/"
        },
        "id": "JlrNljMibo8q",
        "outputId": "fa0210d2-aeb3-47a9-f34f-399352a68909"
      },
      "outputs": [
        {
          "name": "stdout",
          "output_type": "stream",
          "text": [
            "Confusion Matrix:\n",
            " [[639   0   0   0   0   0   0   0   0   0   0   0   0   0   0   0   0   0\n",
            "    0   1   0   0   0   0   0   0   0   0   0]\n",
            " [  0 609   0   0   2   0   0   0   0   0   0   0   0   0   0   0   0   0\n",
            "    0   0   0   0   0   0   0   0   0   0   0]\n",
            " [  0   0 598   0   0   0   0   0   0   0   0   0   0   0   0   0   0   0\n",
            "    0   0   0   0   0   0   0   0   0   0   0]\n",
            " [  0   0   0 581   0   0   0   0   0   0   0   0   0   0   0   0   0   0\n",
            "    0   0   0   0   0   0   0   0   0   0   0]\n",
            " [  0   0   0   0 611   0   0   0   0   0   0   0   0   0   0   0   0   0\n",
            "    0   0   0   0   0   0   0   0   0   0   0]\n",
            " [  0   0   0   0   0 609   0   0   0   0   0   0   0   0   0   0   0   0\n",
            "    0   0   0   0   0   0   0   0   0   0   0]\n",
            " [  0   0   0   0   0   0 595   0   0   0   0   0   0   0   0   0   0   0\n",
            "    0   0   0   0   0   0   0   0   0   0   0]\n",
            " [  0   0   0   0   0   0   0 633   0   0   0   0   0   0   0   0   0   0\n",
            "    0   0   0   0   0   0   0   0   0   0   0]\n",
            " [  0   0   0   0   0   0   0   0 613   0   0   0   0   0   0   0   0   0\n",
            "    0   0   0   0   0   0   0   0   0   0   0]\n",
            " [  0   0   0   0   0   0   0   0   0 588   0   0   0   0   0   0   0   0\n",
            "    0   0   0   0   0   0   0   0   0   0   0]\n",
            " [  0   0   0   0   0   0   0   0   0   0 615   0   0   0   0   0   0   1\n",
            "    0   0   0   0   0   0   0   1   0   0   0]\n",
            " [  0   0   0   0   0   0   0   0   0   0   0 607   0   0   0   0   0   0\n",
            "    0   1   0   0   0   0   0   0   0   0   0]\n",
            " [  0   0   0   0   0   0   0   0   0   0   0   0 568   1   0   0   0   0\n",
            "    0   0   0   0   0   0   0   0   0   0   0]\n",
            " [  0   0   0   0   0   0   0   0   0   0   0   0   0 557   0   0   0   0\n",
            "    0   0   0   0   0   0   0   0   0   0   0]\n",
            " [  0   0   0   0   0   0   0   0   0   0   0   0   0   0 571   0   0   0\n",
            "    0   0   0   0   0   0   0   0   0   0   0]\n",
            " [  0   0   0   0   0   0   0   0   0   0   0   0   0   0   0 585   0   0\n",
            "    0   0   0   0   0   0   0   0   0   0   0]\n",
            " [  0   0   0   0   0   0   0   0   0   0   0   0   0   0   0   0 601   0\n",
            "    0   0   0   0   0   0   0   0   0   0   0]\n",
            " [  0   0   0   0   0   0   0   0   0   0   0   0   0   0   0   0   0 593\n",
            "    0   0   2   0   0   0   0   0   0   0   0]\n",
            " [  0   0   0   0   0   0   0   0   0   0   0   0   0   0   0   0   0   0\n",
            "  610   1   0   0   0   0   0   0   0   0   0]\n",
            " [  0   0   0   0   0   0   0   0   0   0   0   0   0   0   0   0   0   0\n",
            "    0 603   0   0   0   0   0   0   0   0   0]\n",
            " [  0   0   0   0   0   0   0   0   0   0   0   0   0   0   0   0   0   0\n",
            "    0   0 601   0   0   0   0   0   0   0   0]\n",
            " [  0   0   0   0   0   0   0   0   0   0   0   0   0   0   0   0   0   0\n",
            "    0   0   0 614   1   0   0   0   0   0   0]\n",
            " [  0   0   0   0   0   0   0   0   0   0   0   0   0   0   0   0   0   0\n",
            "    0   0   2   0 590   0   0   0   0   0   0]\n",
            " [  0   0   0   0   0   0   0   0   0   0   0   0   0   0   0   0   0   0\n",
            "    0   0   0   0   0 601   0   0   0   0   0]\n",
            " [  0   0   0   0   0   0   0   0   0   0   0   0   0   0   0   0   0   0\n",
            "    0   0   0   0   0   0 609   0   0   0   0]\n",
            " [  0   0   0   0   0   0   0   0   0   0   0   0   0   0   0   0   0   0\n",
            "    0   0   0   0   0   0   0 572   0   0   0]\n",
            " [  0   0   0   0   0   0   0   0   0   0   0   0   0   0   0   0   0   0\n",
            "    0   0   0   0   0   0   0   0 605   0   0]\n",
            " [  0   0   0   0   0   0   0   0   0   0   0   0   0   0   0   0   0   0\n",
            "    0   0   0   0   0   0   0   0   0 584   0]\n",
            " [  0   0   0   0   0   0   0   0   0   0   0   0   0   0   0   0   0   0\n",
            "    0   0   0   0   0   0   0   0   0   0 625]]\n"
          ]
        }
      ],
      "source": [
        "cm = confusion_matrix(all_labels, all_preds) \n",
        "print(\"Confusion Matrix:\\n\", cm)\n"
      ]
    },
    {
      "cell_type": "code",
      "execution_count": null,
      "metadata": {
        "colab": {
          "base_uri": "https://localhost:8080/"
        },
        "id": "tDmXnL71bo5_",
        "outputId": "f71829b5-1dc8-43ef-e3a1-add4a4f20b64"
      },
      "outputs": [
        {
          "name": "stdout",
          "output_type": "stream",
          "text": [
            "Predicted Class: A\n"
          ]
        }
      ],
      "source": [
        "from PIL import Image\n",
        "import torch\n",
        "import torchvision.transforms as transforms\n",
        "\n",
        "img_path = r'C:\\Users\\deepa\\OneDrive\\Desktop\\asl_alphabet_train\\asl_alphabet_train/A/A1000.jpg'  \n",
        "\n",
        "img = Image.open(img_path)  \n",
        "\n",
        "transform = transforms.Compose([\n",
        "    transforms.Resize((64, 64)),\n",
        "    transforms.ToTensor(),\n",
        "    transforms.Normalize((0.5, 0.5, 0.5), (0.5, 0.5, 0.5))\n",
        "])\n",
        "\n",
        "img = transform(img)  \n",
        "img = img.unsqueeze(0)  \n",
        "img = img.to(device) \n",
        "\n",
        "model.eval() \n",
        "\n",
        "with torch.no_grad():\n",
        "    output = model(img)\n",
        "    _, pred = torch.max(output, 1)  \n",
        "    predicted_class = full_dataset.classes[pred.item()] \n",
        "\n",
        "print(f\"Predicted Class: {predicted_class}\")\n",
        "\n",
        "\n"
      ]
    }
  ],
  "metadata": {
    "colab": {
      "provenance": []
    },
    "kernelspec": {
      "display_name": "deeplearning",
      "language": "python",
      "name": "python3"
    },
    "language_info": {
      "codemirror_mode": {
        "name": "ipython",
        "version": 3
      },
      "file_extension": ".py",
      "mimetype": "text/x-python",
      "name": "python",
      "nbconvert_exporter": "python",
      "pygments_lexer": "ipython3",
      "version": "3.13.5"
    }
  },
  "nbformat": 4,
  "nbformat_minor": 0
}
