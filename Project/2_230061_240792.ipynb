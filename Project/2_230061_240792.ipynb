{
 "cells": [
  {
   "cell_type": "code",
   "execution_count": 1,
   "id": "7edcd1aa-a545-4ab4-8483-10a36f369a68",
   "metadata": {
    "scrolled": true
   },
   "outputs": [
    {
     "name": "stderr",
     "output_type": "stream",
     "text": [
      "Epoch 1: 100%|█████████████████████████████████████████████████████████████████████| 2719/2719 [12:29<00:00,  3.63it/s]\n"
     ]
    },
    {
     "name": "stdout",
     "output_type": "stream",
     "text": [
      "Epoch 1, Loss: 4537.4280, Accuracy: 47.72%\n"
     ]
    },
    {
     "name": "stderr",
     "output_type": "stream",
     "text": [
      "Epoch 2: 100%|█████████████████████████████████████████████████████████████████████| 2719/2719 [13:18<00:00,  3.40it/s]\n"
     ]
    },
    {
     "name": "stdout",
     "output_type": "stream",
     "text": [
      "Epoch 2, Loss: 1863.7286, Accuracy: 76.75%\n"
     ]
    },
    {
     "name": "stderr",
     "output_type": "stream",
     "text": [
      "Epoch 3: 100%|█████████████████████████████████████████████████████████████████████| 2719/2719 [11:53<00:00,  3.81it/s]\n"
     ]
    },
    {
     "name": "stdout",
     "output_type": "stream",
     "text": [
      "Epoch 3, Loss: 1261.3766, Accuracy: 84.05%\n"
     ]
    },
    {
     "name": "stderr",
     "output_type": "stream",
     "text": [
      "Epoch 4: 100%|█████████████████████████████████████████████████████████████████████| 2719/2719 [10:57<00:00,  4.14it/s]\n"
     ]
    },
    {
     "name": "stdout",
     "output_type": "stream",
     "text": [
      "Epoch 4, Loss: 988.2166, Accuracy: 87.53%\n"
     ]
    },
    {
     "name": "stderr",
     "output_type": "stream",
     "text": [
      "Epoch 5: 100%|███████████████████████████████████████████████████████████████████| 2719/2719 [1:06:30<00:00,  1.47s/it]\n"
     ]
    },
    {
     "name": "stdout",
     "output_type": "stream",
     "text": [
      "Epoch 5, Loss: 827.2588, Accuracy: 89.51%\n"
     ]
    },
    {
     "name": "stderr",
     "output_type": "stream",
     "text": [
      "Epoch 6: 100%|█████████████████████████████████████████████████████████████████████| 2719/2719 [17:44<00:00,  2.55it/s]\n"
     ]
    },
    {
     "name": "stdout",
     "output_type": "stream",
     "text": [
      "Epoch 6, Loss: 707.5383, Accuracy: 91.13%\n"
     ]
    },
    {
     "name": "stderr",
     "output_type": "stream",
     "text": [
      "Epoch 7: 100%|█████████████████████████████████████████████████████████████████████| 2719/2719 [11:45<00:00,  3.86it/s]\n"
     ]
    },
    {
     "name": "stdout",
     "output_type": "stream",
     "text": [
      "Epoch 7, Loss: 652.4090, Accuracy: 91.73%\n"
     ]
    },
    {
     "name": "stderr",
     "output_type": "stream",
     "text": [
      "Epoch 8: 100%|█████████████████████████████████████████████████████████████████████| 2719/2719 [10:06<00:00,  4.48it/s]\n"
     ]
    },
    {
     "name": "stdout",
     "output_type": "stream",
     "text": [
      "Epoch 8, Loss: 582.0702, Accuracy: 92.72%\n"
     ]
    },
    {
     "name": "stderr",
     "output_type": "stream",
     "text": [
      "Epoch 9: 100%|█████████████████████████████████████████████████████████████████████| 2719/2719 [09:55<00:00,  4.56it/s]\n"
     ]
    },
    {
     "name": "stdout",
     "output_type": "stream",
     "text": [
      "Epoch 9, Loss: 535.6568, Accuracy: 93.38%\n"
     ]
    },
    {
     "name": "stderr",
     "output_type": "stream",
     "text": [
      "Epoch 10: 100%|████████████████████████████████████████████████████████████████████| 2719/2719 [20:15<00:00,  2.24it/s]\n"
     ]
    },
    {
     "name": "stdout",
     "output_type": "stream",
     "text": [
      "Epoch 10, Loss: 479.0550, Accuracy: 94.06%\n",
      "\n",
      "Classification Report:\n"
     ]
    },
    {
     "ename": "ValueError",
     "evalue": "Number of classes, 28, does not match size of target_names, 29. Try specifying the labels parameter",
     "output_type": "error",
     "traceback": [
      "\u001b[1;31m---------------------------------------------------------------------------\u001b[0m",
      "\u001b[1;31mValueError\u001b[0m                                Traceback (most recent call last)",
      "Cell \u001b[1;32mIn[1], line 130\u001b[0m\n\u001b[0;32m    128\u001b[0m \u001b[38;5;66;03m# Print classification results\u001b[39;00m\n\u001b[0;32m    129\u001b[0m \u001b[38;5;28mprint\u001b[39m(\u001b[38;5;124m\"\u001b[39m\u001b[38;5;130;01m\\n\u001b[39;00m\u001b[38;5;124mClassification Report:\u001b[39m\u001b[38;5;124m\"\u001b[39m)\n\u001b[1;32m--> 130\u001b[0m \u001b[38;5;28mprint\u001b[39m(classification_report(y_true, y_pred, target_names \u001b[38;5;241m=\u001b[39m classes))\n\u001b[0;32m    132\u001b[0m \u001b[38;5;66;03m# Plot the confusion matrix\u001b[39;00m\n\u001b[0;32m    133\u001b[0m cm \u001b[38;5;241m=\u001b[39m confusion_matrix(y_true, y_pred)\n",
      "File \u001b[1;32m~\\anaconda3\\Lib\\site-packages\\sklearn\\utils\\_param_validation.py:213\u001b[0m, in \u001b[0;36mvalidate_params.<locals>.decorator.<locals>.wrapper\u001b[1;34m(*args, **kwargs)\u001b[0m\n\u001b[0;32m    207\u001b[0m \u001b[38;5;28;01mtry\u001b[39;00m:\n\u001b[0;32m    208\u001b[0m     \u001b[38;5;28;01mwith\u001b[39;00m config_context(\n\u001b[0;32m    209\u001b[0m         skip_parameter_validation\u001b[38;5;241m=\u001b[39m(\n\u001b[0;32m    210\u001b[0m             prefer_skip_nested_validation \u001b[38;5;129;01mor\u001b[39;00m global_skip_validation\n\u001b[0;32m    211\u001b[0m         )\n\u001b[0;32m    212\u001b[0m     ):\n\u001b[1;32m--> 213\u001b[0m         \u001b[38;5;28;01mreturn\u001b[39;00m func(\u001b[38;5;241m*\u001b[39margs, \u001b[38;5;241m*\u001b[39m\u001b[38;5;241m*\u001b[39mkwargs)\n\u001b[0;32m    214\u001b[0m \u001b[38;5;28;01mexcept\u001b[39;00m InvalidParameterError \u001b[38;5;28;01mas\u001b[39;00m e:\n\u001b[0;32m    215\u001b[0m     \u001b[38;5;66;03m# When the function is just a wrapper around an estimator, we allow\u001b[39;00m\n\u001b[0;32m    216\u001b[0m     \u001b[38;5;66;03m# the function to delegate validation to the estimator, but we replace\u001b[39;00m\n\u001b[0;32m    217\u001b[0m     \u001b[38;5;66;03m# the name of the estimator by the name of the function in the error\u001b[39;00m\n\u001b[0;32m    218\u001b[0m     \u001b[38;5;66;03m# message to avoid confusion.\u001b[39;00m\n\u001b[0;32m    219\u001b[0m     msg \u001b[38;5;241m=\u001b[39m re\u001b[38;5;241m.\u001b[39msub(\n\u001b[0;32m    220\u001b[0m         \u001b[38;5;124mr\u001b[39m\u001b[38;5;124m\"\u001b[39m\u001b[38;5;124mparameter of \u001b[39m\u001b[38;5;124m\\\u001b[39m\u001b[38;5;124mw+ must be\u001b[39m\u001b[38;5;124m\"\u001b[39m,\n\u001b[0;32m    221\u001b[0m         \u001b[38;5;124mf\u001b[39m\u001b[38;5;124m\"\u001b[39m\u001b[38;5;124mparameter of \u001b[39m\u001b[38;5;132;01m{\u001b[39;00mfunc\u001b[38;5;241m.\u001b[39m\u001b[38;5;18m__qualname__\u001b[39m\u001b[38;5;132;01m}\u001b[39;00m\u001b[38;5;124m must be\u001b[39m\u001b[38;5;124m\"\u001b[39m,\n\u001b[0;32m    222\u001b[0m         \u001b[38;5;28mstr\u001b[39m(e),\n\u001b[0;32m    223\u001b[0m     )\n",
      "File \u001b[1;32m~\\anaconda3\\Lib\\site-packages\\sklearn\\metrics\\_classification.py:2648\u001b[0m, in \u001b[0;36mclassification_report\u001b[1;34m(y_true, y_pred, labels, target_names, sample_weight, digits, output_dict, zero_division)\u001b[0m\n\u001b[0;32m   2642\u001b[0m         warnings\u001b[38;5;241m.\u001b[39mwarn(\n\u001b[0;32m   2643\u001b[0m             \u001b[38;5;124m\"\u001b[39m\u001b[38;5;124mlabels size, \u001b[39m\u001b[38;5;132;01m{0}\u001b[39;00m\u001b[38;5;124m, does not match size of target_names, \u001b[39m\u001b[38;5;132;01m{1}\u001b[39;00m\u001b[38;5;124m\"\u001b[39m\u001b[38;5;241m.\u001b[39mformat(\n\u001b[0;32m   2644\u001b[0m                 \u001b[38;5;28mlen\u001b[39m(labels), \u001b[38;5;28mlen\u001b[39m(target_names)\n\u001b[0;32m   2645\u001b[0m             )\n\u001b[0;32m   2646\u001b[0m         )\n\u001b[0;32m   2647\u001b[0m     \u001b[38;5;28;01melse\u001b[39;00m:\n\u001b[1;32m-> 2648\u001b[0m         \u001b[38;5;28;01mraise\u001b[39;00m \u001b[38;5;167;01mValueError\u001b[39;00m(\n\u001b[0;32m   2649\u001b[0m             \u001b[38;5;124m\"\u001b[39m\u001b[38;5;124mNumber of classes, \u001b[39m\u001b[38;5;132;01m{0}\u001b[39;00m\u001b[38;5;124m, does not match size of \u001b[39m\u001b[38;5;124m\"\u001b[39m\n\u001b[0;32m   2650\u001b[0m             \u001b[38;5;124m\"\u001b[39m\u001b[38;5;124mtarget_names, \u001b[39m\u001b[38;5;132;01m{1}\u001b[39;00m\u001b[38;5;124m. Try specifying the labels \u001b[39m\u001b[38;5;124m\"\u001b[39m\n\u001b[0;32m   2651\u001b[0m             \u001b[38;5;124m\"\u001b[39m\u001b[38;5;124mparameter\u001b[39m\u001b[38;5;124m\"\u001b[39m\u001b[38;5;241m.\u001b[39mformat(\u001b[38;5;28mlen\u001b[39m(labels), \u001b[38;5;28mlen\u001b[39m(target_names))\n\u001b[0;32m   2652\u001b[0m         )\n\u001b[0;32m   2653\u001b[0m \u001b[38;5;28;01mif\u001b[39;00m target_names \u001b[38;5;129;01mis\u001b[39;00m \u001b[38;5;28;01mNone\u001b[39;00m:\n\u001b[0;32m   2654\u001b[0m     target_names \u001b[38;5;241m=\u001b[39m [\u001b[38;5;124m\"\u001b[39m\u001b[38;5;132;01m%s\u001b[39;00m\u001b[38;5;124m\"\u001b[39m \u001b[38;5;241m%\u001b[39m l \u001b[38;5;28;01mfor\u001b[39;00m l \u001b[38;5;129;01min\u001b[39;00m labels]\n",
      "\u001b[1;31mValueError\u001b[0m: Number of classes, 28, does not match size of target_names, 29. Try specifying the labels parameter"
     ]
    }
   ],
   "source": [
    "# Import required libraries\n",
    "import os\n",
    "import numpy as np\n",
    "import torch\n",
    "import torch.nn as nn\n",
    "import torch.nn.functional as F\n",
    "import torchvision.transforms as T\n",
    "import torchvision\n",
    "from torch.utils.data import DataLoader, Dataset\n",
    "from sklearn.metrics import classification_report, confusion_matrix\n",
    "import matplotlib.pyplot as plt\n",
    "from PIL import Image\n",
    "from tqdm import tqdm  # for progress bars\n",
    "\n",
    "# Set the paths to training and test image folders\n",
    "train_dir = r\"C:\\Users\\Dell\\Desktop\\asl_alphabet_train\"\n",
    "test_dir = r\"C:\\Users\\Dell\\Desktop\\asl_alphabet_test\"\n",
    "\n",
    "# Define image transformations\n",
    "transform = T.Compose([\n",
    "    T.Resize((100, 100)),\n",
    "    T.ToTensor()\n",
    "])\n",
    "\n",
    "# Load training dataset using ImageFolder \n",
    "train_ds = torchvision.datasets.ImageFolder(root = train_dir, transform = transform)\n",
    "\n",
    "# Get list of class names \n",
    "classes = train_ds.classes\n",
    "\n",
    "# Create mappings between label strings and numeric indices\n",
    "lbl2idx = {lbl.upper(): i for i, lbl in enumerate(classes)}\n",
    "idx2lbl = {i: lbl for lbl, i in lbl2idx.items()}\n",
    "\n",
    "# Define a custom dataset for the test folder (flat images, not in folders)\n",
    "class ASLTestDS(Dataset):\n",
    "    def __init__(self, folder, transform = None):\n",
    "        self.path = folder\n",
    "        self.tf = transform\n",
    "        # Only include files with valid labels in the filename\n",
    "        self.files = [f for f in os.listdir(folder)\n",
    "                      if f.lower().endswith(('.jpg', '.png')) and f.split('_')[0].upper() in lbl2idx]\n",
    "        self.labels = [self.get_lbl(f) for f in self.files]\n",
    "\n",
    "    # Extract label from filename \n",
    "    def get_lbl(self, fname):\n",
    "        lbl = fname.split('_')[0].upper()\n",
    "        return lbl2idx[lbl]\n",
    "\n",
    "    def __len__(self):\n",
    "        return len(self.files)\n",
    "\n",
    "    def __getitem__(self, i):\n",
    "        img = Image.open(os.path.join(self.path, self.files[i])).convert(\"RGB\")\n",
    "        lbl = self.labels[i]\n",
    "        if self.tf:\n",
    "            img = self.tf(img)\n",
    "        return img, lbl\n",
    "\n",
    "# Load the test dataset using our custom dataset class\n",
    "test_ds = ASLTestDS(test_dir, transform)\n",
    "\n",
    "# Create DataLoaders to batch and shuffle the data\n",
    "train_dl = DataLoader(train_ds, batch_size = 32, shuffle = True, num_workers = 2)\n",
    "test_dl = DataLoader(test_ds, batch_size = 32, shuffle = False)\n",
    "\n",
    "# Define the CNN model for ASL image classification\n",
    "class ASLNet(nn.Module):\n",
    "    def __init__(self):\n",
    "        super().__init__()\n",
    "        self.conv1 = nn.Conv2d(3, 27, 5, padding = 2)\n",
    "        self.pool1 = nn.MaxPool2d(4, 4)\n",
    "        self.conv2 = nn.Conv2d(27, 27, 5, padding = 2)\n",
    "        self.pool2 = nn.MaxPool2d(2, 2)\n",
    "        self.fc1 = nn.Linear(27 * 12 * 12, 270)\n",
    "        self.drop = nn.Dropout(0.5)\n",
    "        self.fc2 = nn.Linear(270, len(classes))  # Output layer\n",
    "\n",
    "    def forward(self, x):\n",
    "        x = F.relu(self.conv1(x))   # Convolution + ReLU\n",
    "        x = self.pool1(x)           # Max pooling\n",
    "        x = F.relu(self.conv2(x))\n",
    "        x = self.pool2(x)\n",
    "        x = x.view(x.size(0), -1)   # Flatten\n",
    "        x = self.drop(self.fc1(x)) # Fully connected + Dropout\n",
    "        return self.fc2(x)\n",
    "\n",
    "# Set up device (here CPU is being used)\n",
    "dev = torch.device(\"cuda\" if torch.cuda.is_available() else \"cpu\")\n",
    "\n",
    "# Initialize model, loss function, and optimizer\n",
    "model = ASLNet().to(dev)\n",
    "loss_fn = nn.CrossEntropyLoss()\n",
    "opt = torch.optim.Adam(model.parameters(), lr = 0.001)\n",
    "\n",
    "# Model training\n",
    "for ep in range(10):\n",
    "    model.train()\n",
    "    total, correct, run_loss = 0, 0, 0.0\n",
    "    for x, y in tqdm(train_dl, desc = f\"Epoch {ep+1}\"):\n",
    "        x, y = x.to(dev), y.to(dev)\n",
    "        out = model(x)\n",
    "        loss = loss_fn(out, y)\n",
    "\n",
    "        opt.zero_grad()\n",
    "        loss.backward()\n",
    "        opt.step()\n",
    "\n",
    "        run_loss += loss.item()\n",
    "        preds = out.argmax(dim = 1)\n",
    "        total += y.size(0)\n",
    "        correct += (preds == y).sum().item()\n",
    "\n",
    "    acc = 100 * correct / total\n",
    "    print(f\"Epoch {ep + 1}, Loss: {run_loss:.4f}, Accuracy: {acc:.2f}%\")\n",
    "\n",
    "# Evaluate the model on the test set\n",
    "model.eval()\n",
    "y_true, y_pred = [], []\n",
    "with torch.no_grad():\n",
    "    for x, y in test_dl:\n",
    "        x = x.to(dev)\n",
    "        out = model(x)\n",
    "        preds = out.argmax(dim = 1)\n",
    "        y_true += y.numpy().tolist()\n",
    "        y_pred += preds.cpu().numpy().tolist()\n",
    "\n",
    "# Print classification results\n",
    "print(\"\\nClassification Report:\")\n",
    "print(classification_report(y_true, y_pred, target_names = classes))\n",
    "\n",
    "# Plot the confusion matrix\n",
    "cm = confusion_matrix(y_true, y_pred)\n",
    "plt.figure(figsize = (15, 9))\n",
    "plt.imshow(cm, interpolation = 'nearest', cmap = plt.cm.Blues)\n",
    "plt.title('Confusion Matrix')\n",
    "plt.colorbar()\n",
    "ticks = np.arange(len(classes))\n",
    "plt.xticks(ticks, classes, rotation = 90)\n",
    "plt.yticks(ticks, classes)\n",
    "plt.ylabel('True')\n",
    "plt.xlabel('Predicted')\n",
    "plt.tight_layout()\n",
    "plt.savefig(\"conf_matrix.png\")\n",
    "plt.show()\n",
    "\n",
    "# Define the Grad-CAM class for visualizing model attention\n",
    "class GradCAM:\n",
    "    def __init__(self, model, target_layer):\n",
    "        self.model = model\n",
    "        self.layer = target_layer\n",
    "        self.grad = None\n",
    "        self.act = None\n",
    "        self.layer.register_forward_hook(self.save_act)\n",
    "        self.layer.register_full_backward_hook(self.save_grad)\n",
    "\n",
    "    def save_act(self, module, inp, out):\n",
    "        self.act = out\n",
    "\n",
    "    def save_grad(self, module, grad_in, grad_out):\n",
    "        self.grad = grad_out[0]\n",
    "\n",
    "    def generate(self, x, cls_idx):\n",
    "        self.model.eval()\n",
    "        x.requires_grad_()\n",
    "        self.model.zero_grad()\n",
    "        out = self.model(x)\n",
    "        out[0, cls_idx].backward()\n",
    "\n",
    "        grad = self.grad[0]\n",
    "        act = self.act[0]\n",
    "        wts = torch.mean(grad, dim = [1, 2])\n",
    "\n",
    "        for i in range(act.size(0)):\n",
    "            act[i] *= wts[i]\n",
    "\n",
    "        heat = torch.mean(act, dim = 0).cpu().numpy()\n",
    "        heat = np.maximum(heat, 0)\n",
    "        heat /= np.max(heat)\n",
    "        return heat\n",
    "\n",
    "# Apply Grad-CAM to one image from the test set\n",
    "img, lbl = test_ds[0]\n",
    "inp = img.unsqueeze(0).to(dev)\n",
    "pred = model(inp).argmax().item()\n",
    "\n",
    "# Generate heatmap\n",
    "cam = GradCAM(model, model.conv2)\n",
    "heatmap = cam.generate(inp, pred)\n",
    "\n",
    "# Display original image with heatmap overlay\n",
    "plt.imshow(np.transpose(img.numpy(), (1, 2, 0)))\n",
    "plt.imshow(heatmap, cmap = 'jet', alpha = 0.5)\n",
    "plt.title(f\"Grad-CAM: {idx2lbl[pred]}\")\n",
    "plt.axis('off')\n",
    "plt.savefig(\"gradcam.png\")\n",
    "plt.show()"
   ]
  },
  {
   "cell_type": "code",
   "execution_count": 1,
   "id": "df69aef9-ca46-489a-8a47-f65d7de994a2",
   "metadata": {},
   "outputs": [
    {
     "name": "stderr",
     "output_type": "stream",
     "text": [
      "Epoch 1: 100%|█████████████████████████████████████████████████████████████████████| 2719/2719 [14:34<00:00,  3.11it/s]\n"
     ]
    },
    {
     "name": "stdout",
     "output_type": "stream",
     "text": [
      "Epoch 1 Loss 3346.9280103743076 Accuracy 61.432529054061824\n"
     ]
    },
    {
     "name": "stderr",
     "output_type": "stream",
     "text": [
      "Epoch 2: 100%|█████████████████████████████████████████████████████████████████████| 2719/2719 [17:48<00:00,  2.54it/s]\n"
     ]
    },
    {
     "name": "stdout",
     "output_type": "stream",
     "text": [
      "Epoch 2 Loss 1123.3659368418157 Accuracy 85.96553745703677\n"
     ]
    },
    {
     "name": "stderr",
     "output_type": "stream",
     "text": [
      "Epoch 3: 100%|█████████████████████████████████████████████████████████████████████| 2719/2719 [15:32<00:00,  2.92it/s]\n"
     ]
    },
    {
     "name": "stdout",
     "output_type": "stream",
     "text": [
      "Epoch 3 Loss 748.4953538719565 Accuracy 90.58774843952962\n"
     ]
    },
    {
     "name": "stderr",
     "output_type": "stream",
     "text": [
      "Epoch 4: 100%|█████████████████████████████████████████████████████████████████████| 2719/2719 [14:32<00:00,  3.12it/s]\n"
     ]
    },
    {
     "name": "stdout",
     "output_type": "stream",
     "text": [
      "Epoch 4 Loss 574.290421388112 Accuracy 92.93851229409263\n"
     ]
    },
    {
     "name": "stderr",
     "output_type": "stream",
     "text": [
      "Epoch 5: 100%|█████████████████████████████████████████████████████████████████████| 2719/2719 [16:44<00:00,  2.71it/s]\n"
     ]
    },
    {
     "name": "stdout",
     "output_type": "stream",
     "text": [
      "Epoch 5 Loss 479.80907236551866 Accuracy 94.02135804030209\n"
     ]
    },
    {
     "name": "stderr",
     "output_type": "stream",
     "text": [
      "Epoch 6: 100%|█████████████████████████████████████████████████████████████████████| 2719/2719 [16:57<00:00,  2.67it/s]\n"
     ]
    },
    {
     "name": "stdout",
     "output_type": "stream",
     "text": [
      "Epoch 6 Loss 426.33724119421095 Accuracy 94.90993528214914\n"
     ]
    },
    {
     "name": "stderr",
     "output_type": "stream",
     "text": [
      "Epoch 7: 100%|█████████████████████████████████████████████████████████████████████| 2719/2719 [17:09<00:00,  2.64it/s]\n"
     ]
    },
    {
     "name": "stdout",
     "output_type": "stream",
     "text": [
      "Epoch 7 Loss 372.5256852913881 Accuracy 95.49618934856828\n"
     ]
    },
    {
     "name": "stderr",
     "output_type": "stream",
     "text": [
      "Epoch 8: 100%|█████████████████████████████████████████████████████████████████████| 2719/2719 [15:58<00:00,  2.84it/s]\n"
     ]
    },
    {
     "name": "stdout",
     "output_type": "stream",
     "text": [
      "Epoch 8 Loss 357.9827943854034 Accuracy 95.77552216845034\n"
     ]
    },
    {
     "name": "stderr",
     "output_type": "stream",
     "text": [
      "Epoch 9: 100%|█████████████████████████████████████████████████████████████████████| 2719/2719 [18:05<00:00,  2.50it/s]\n"
     ]
    },
    {
     "name": "stdout",
     "output_type": "stream",
     "text": [
      "Epoch 9 Loss 322.0011728534082 Accuracy 96.30774889933673\n"
     ]
    },
    {
     "name": "stderr",
     "output_type": "stream",
     "text": [
      "Epoch 10: 100%|████████████████████████████████████████████████████████████████████| 2719/2719 [16:23<00:00,  2.77it/s]\n"
     ]
    },
    {
     "name": "stdout",
     "output_type": "stream",
     "text": [
      "Epoch 10 Loss 300.0712702376768 Accuracy 96.50661547480831\n",
      "Most common predictions: [(0, 1), (1, 1), (2, 1), (3, 1), (4, 1)]\n",
      "Labels in test set: [0, 1, 2, 3, 4, 5, 6, 7, 8, 9, 10, 11, 12, 13, 14, 15, 16, 17, 18, 19, 20, 21, 22, 23, 24, 25, 27, 28]\n",
      "\n",
      "Classification Report\n",
      "              precision    recall  f1-score   support\n",
      "\n",
      "           A       1.00      1.00      1.00         1\n",
      "           B       1.00      1.00      1.00         1\n",
      "           C       1.00      1.00      1.00         1\n",
      "           D       1.00      1.00      1.00         1\n",
      "           E       1.00      1.00      1.00         1\n",
      "           F       1.00      1.00      1.00         1\n",
      "           G       1.00      1.00      1.00         1\n",
      "           H       1.00      1.00      1.00         1\n",
      "           I       1.00      1.00      1.00         1\n",
      "           J       1.00      1.00      1.00         1\n",
      "           K       1.00      1.00      1.00         1\n",
      "           L       1.00      1.00      1.00         1\n",
      "           M       1.00      1.00      1.00         1\n",
      "           N       1.00      1.00      1.00         1\n",
      "           O       1.00      1.00      1.00         1\n",
      "           P       1.00      1.00      1.00         1\n",
      "           Q       1.00      1.00      1.00         1\n",
      "           R       1.00      1.00      1.00         1\n",
      "           S       1.00      1.00      1.00         1\n",
      "           T       1.00      1.00      1.00         1\n",
      "           U       1.00      1.00      1.00         1\n",
      "           V       1.00      1.00      1.00         1\n",
      "           W       1.00      1.00      1.00         1\n",
      "           X       1.00      1.00      1.00         1\n",
      "           Y       1.00      1.00      1.00         1\n",
      "           Z       1.00      1.00      1.00         1\n",
      "         del       0.00      0.00      0.00         0\n",
      "     nothing       1.00      1.00      1.00         1\n",
      "       space       1.00      1.00      1.00         1\n",
      "\n",
      "    accuracy                           1.00        28\n",
      "   macro avg       0.97      0.97      0.97        28\n",
      "weighted avg       1.00      1.00      1.00        28\n",
      "\n"
     ]
    },
    {
     "data": {
      "image/png": "[encoded data removed]",
      "text/plain": [
       "<Figure size 1500x900 with 2 Axes>"
      ]
     },
     "metadata": {},
     "output_type": "display_data"
    },
    {
     "data": {
      "image/png": "[encoded data removed]",
      "text/plain": [
       "<Figure size 640x480 with 1 Axes>"
      ]
     },
     "metadata": {},
     "output_type": "display_data"
    }
   ],
   "source": [
    "import os\n",
    "import numpy as np\n",
    "import torch\n",
    "import torch.nn as nn\n",
    "import torch.nn.functional as F\n",
    "import torchvision.transforms as T\n",
    "import torchvision\n",
    "from torch.utils.data import DataLoader, Dataset\n",
    "from sklearn.metrics import classification_report, confusion_matrix\n",
    "import matplotlib.pyplot as plt\n",
    "from PIL import Image\n",
    "from tqdm import tqdm\n",
    "from collections import Counter\n",
    "\n",
    "traindir = r\"C:\\Users\\Dell\\Desktop\\asl_alphabet_train\"\n",
    "testdir = r\"C:\\Users\\Dell\\Desktop\\asl_alphabet_test\"\n",
    "\n",
    "transform = T.Compose([\n",
    "    T.Resize((100, 100)),\n",
    "    T.ToTensor()\n",
    "])\n",
    "\n",
    "trainds = torchvision.datasets.ImageFolder(root = traindir, transform = transform)\n",
    "classes = trainds.classes\n",
    "lbl2idx = {lbl.upper(): i for i, lbl in enumerate(classes)}\n",
    "idx2lbl = {i: lbl for lbl, i in lbl2idx.items()}\n",
    "\n",
    "class ASLTestDS(Dataset):\n",
    "    def __init__(self, folder, transform = None):\n",
    "        self.path = folder\n",
    "        self.tf = transform\n",
    "        self.files = [f for f in os.listdir(folder)\n",
    "                      if f.lower().endswith(('.jpg', '.png')) and f.split('_')[0].upper() in lbl2idx]\n",
    "        self.labels = [self.get_lbl(f) for f in self.files]\n",
    "\n",
    "    def get_lbl(self, fname):\n",
    "        lbl = fname.split('_')[0].upper()\n",
    "        return lbl2idx[lbl]\n",
    "\n",
    "    def __len__(self):\n",
    "        return len(self.files)\n",
    "\n",
    "    def __getitem__(self, i):\n",
    "        img = Image.open(os.path.join(self.path, self.files[i])).convert(\"RGB\")\n",
    "        lbl = self.labels[i]\n",
    "        if self.tf:\n",
    "            img = self.tf(img)\n",
    "        return img, lbl\n",
    "\n",
    "testds = ASLTestDS(testdir, transform)\n",
    "train_dl = DataLoader(trainds, batch_size = 32, shuffle = True, num_workers = 2)\n",
    "test_dl = DataLoader(testds, batch_size = 32, shuffle = False)\n",
    "\n",
    "class ASLNet(nn.Module):\n",
    "    def __init__(self):\n",
    "        super().__init__()\n",
    "        self.c1 = nn.Conv2d(3, 27, 5)\n",
    "        self.p1 = nn.MaxPool2d(4, 4)\n",
    "        self.c2 = nn.Conv2d(27, 27, 5)\n",
    "        self.p2 = nn.MaxPool2d(2, 2)\n",
    "        with torch.no_grad():\n",
    "            dummy = torch.zeros(1, 3, 100, 100)\n",
    "            dummy = self.p1(F.relu(self.c1(dummy)))\n",
    "            dummy = self.p2(F.relu(self.c2(dummy)))\n",
    "            self.flat_dim = dummy.view(1, -1).shape[1]\n",
    "        self.f1 = nn.Linear(self.flat_dim, 270)\n",
    "        self.drop = nn.Dropout(0.5)\n",
    "        self.f2 = nn.Linear(270, len(classes))\n",
    "\n",
    "    def forward(self, x):\n",
    "        x = F.relu(self.c1(x))\n",
    "        x = self.p1(x)\n",
    "        x = F.relu(self.c2(x))\n",
    "        x = self.p2(x)\n",
    "        x = x.view(x.size(0), -1)\n",
    "        x = self.drop(self.f1(x))\n",
    "        return self.f2(x)\n",
    "\n",
    "dev = torch.device(\"cuda\" if torch.cuda.is_available() else \"cpu\")\n",
    "model = ASLNet().to(dev)\n",
    "loss_fn = nn.CrossEntropyLoss()\n",
    "opt = torch.optim.Adam(model.parameters(), lr = 0.001)\n",
    "\n",
    "for ep in range(10):\n",
    "    model.train()\n",
    "    total = 0\n",
    "    correct = 0\n",
    "    run_loss = 0\n",
    "    for x, y in tqdm(train_dl, desc = \"Epoch \" + str(ep + 1)):\n",
    "        x, y = x.to(dev), y.to(dev)\n",
    "        out = model(x)\n",
    "        loss = loss_fn(out, y)\n",
    "        opt.zero_grad()\n",
    "        loss.backward()\n",
    "        opt.step()\n",
    "        run_loss = run_loss + loss.item()\n",
    "        preds = out.argmax(dim = 1)\n",
    "        total = total + y.size(0)\n",
    "        correct = correct + (preds == y).sum().item()\n",
    "    acc = 100 * correct / total\n",
    "    print(\"Epoch\", ep + 1, \"Loss\", run_loss, \"Accuracy\", acc)\n",
    "\n",
    "model.eval()\n",
    "y_true = []\n",
    "y_pred = []\n",
    "with torch.no_grad():\n",
    "    for x, y in test_dl:\n",
    "        x = x.to(dev)\n",
    "        out = model(x)\n",
    "        preds = out.argmax(dim = 1)\n",
    "        y_true = y_true + y.numpy().tolist()\n",
    "        y_pred = y_pred + preds.cpu().numpy().tolist()\n",
    "\n",
    "print(\"Most common predictions:\", Counter(y_pred).most_common(5))\n",
    "print(\"Labels in test set:\", sorted(set(y_true)))\n",
    "\n",
    "print(\"\\nClassification Report\")\n",
    "print(classification_report(\n",
    "    y_true,\n",
    "    y_pred,\n",
    "    labels = list(range(len(classes))),\n",
    "    target_names = classes,\n",
    "    zero_division = 0\n",
    "))\n",
    "\n",
    "confmat = confusion_matrix(\n",
    "    y_true,\n",
    "    y_pred,\n",
    "    labels = list(range(len(classes)))\n",
    ")\n",
    "\n",
    "plt.figure(figsize = (15, 9))\n",
    "plt.imshow(confmat, interpolation = 'nearest', cmap = 'BuGn')\n",
    "plt.title('Confusion Matrix')\n",
    "plt.colorbar()\n",
    "ticks = np.arange(len(classes))\n",
    "plt.xticks(ticks, classes, rotation = 90)\n",
    "plt.yticks(ticks, classes)\n",
    "\n",
    "thresh = confmat.max() / 2\n",
    "for i in range(len(classes)):\n",
    "    for j in range(len(classes)):\n",
    "        plt.text(j, i, format(confmat[i, j], 'd'),\n",
    "                 ha = \"center\", va = \"center\",\n",
    "                 fontsize = 8,\n",
    "                 fontweight = 'bold',\n",
    "                 color = \"white\" if confmat[i, j] > thresh else \"black\")\n",
    "\n",
    "plt.ylabel('True')\n",
    "plt.xlabel('Predicted')\n",
    "plt.savefig(\"conf_matrix.png\")\n",
    "plt.show()\n",
    "\n",
    "class GradCAM:\n",
    "    def __init__(self, model, target_layer):\n",
    "        self.model = model\n",
    "        self.layer = target_layer\n",
    "        self.grad = None\n",
    "        self.act = None\n",
    "        self.layer.register_forward_hook(self.save_act)\n",
    "        self.layer.register_full_backward_hook(self.save_grad)\n",
    "\n",
    "    def save_act(self, module, inp, out):\n",
    "        self.act = out\n",
    "\n",
    "    def save_grad(self, module, grad_in, grad_out):\n",
    "        self.grad = grad_out[0]\n",
    "\n",
    "    def generate(self, x, cls_idx):\n",
    "        self.model.eval()\n",
    "        x.requires_grad_()\n",
    "        self.model.zero_grad()\n",
    "        out = self.model(x)\n",
    "        out[0, cls_idx].backward()\n",
    "        grad = self.grad[0]\n",
    "        act = self.act[0]\n",
    "        wts = torch.mean(grad, dim = [1, 2])\n",
    "        for i in range(act.size(0)):\n",
    "            act[i] = act[i] * wts[i]\n",
    "        heat = torch.mean(act, dim = 0).detach().cpu().numpy()\n",
    "        heat = np.maximum(heat, 0)\n",
    "        heat = heat / np.max(heat)\n",
    "        return heat\n",
    "\n",
    "img, lbl = testds[0]\n",
    "inp = img.unsqueeze(0).to(dev)\n",
    "pred = model(inp).argmax().item()\n",
    "cam = GradCAM(model, model.c2)\n",
    "heatmap = cam.generate(inp, pred)\n",
    "\n",
    "plt.imshow(np.transpose(img.numpy(), (1, 2, 0)))\n",
    "plt.imshow(heatmap, cmap = 'jet', alpha = 0.5)\n",
    "plt.title(\"Grad-CAM \" + idx2lbl[pred])\n",
    "plt.axis('off')\n",
    "plt.savefig(\"gradcam.png\")\n",
    "plt.show()"
   ]
  },
  {
   "cell_type": "code",
   "execution_count": null,
   "id": "e3f3e547-2ae8-4b59-80e2-b2a9f517b582",
   "metadata": {},
   "outputs": [],
   "source": []
  }
 ],
 "metadata": {
  "kernelspec": {
   "display_name": "Python 3 (ipykernel)",
   "language": "python",
   "name": "python3"
  },
  "language_info": {
   "codemirror_mode": {
    "name": "ipython",
    "version": 3
   },
   "file_extension": ".py",
   "mimetype": "text/x-python",
   "name": "python",
   "nbconvert_exporter": "python",
   "pygments_lexer": "ipython3",
   "version": "3.12.7"
  }
 },
 "nbformat": 4,
 "nbformat_minor": 5
}
