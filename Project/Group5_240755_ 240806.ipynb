{
 "cells": [
  {
   "cell_type": "markdown",
   "id": "a54dcdca-6743-47e7-a083-2c8f12fd2706",
   "metadata": {},
   "source": [
    "<h3>Importing Libraries</h3>"
   ]
  },
  {
   "cell_type": "code",
   "execution_count": 2,
   "id": "757811dc",
   "metadata": {},
   "outputs": [],
   "source": [
    "import torch\n",
    "import numpy as np\n",
    "from tqdm import tqdm\n",
    "import numpy as np\n",
    "import pandas as pd"
   ]
  },
  {
   "cell_type": "markdown",
   "id": "9e8a197b-eb1a-4599-9106-47536164ca75",
   "metadata": {},
   "source": [
    "<h3> Device Selection for Model Training</h3>"
   ]
  },
  {
   "cell_type": "code",
   "execution_count": 3,
   "id": "b451bd79",
   "metadata": {},
   "outputs": [
    {
     "name": "stdout",
     "output_type": "stream",
     "text": [
      "Using device: cpu\n"
     ]
    }
   ],
   "source": [
    "device = torch.device('cuda' if torch.cuda.is_available() else 'cpu')\n",
    "print(f\"Using device: {device}\")"
   ]
  },
  {
   "cell_type": "markdown",
   "id": "2aef0459-7eeb-417e-89d5-2448004e3dd6",
   "metadata": {},
   "source": [
    "<h3>Data Preprocessing : Image Resizing and Transformation </h3>"
   ]
  },
  {
   "cell_type": "code",
   "execution_count": 4,
   "id": "885167c5",
   "metadata": {},
   "outputs": [],
   "source": [
    "from torchvision import transforms\n",
    "from torchvision.datasets import ImageFolder\n",
    "from torch.utils.data import DataLoader, Subset\n",
    "# Define image transformations\n",
    "transform = transforms.Compose([\n",
    "    transforms.Resize((64, 64)),\n",
    "    transforms.ToTensor()\n",
    "])"
   ]
  },
  {
   "cell_type": "markdown",
   "id": "03585219-afc9-4c5c-8a6d-d60379ff7efb",
   "metadata": {},
   "source": [
    "<h3>Loading Testing and Training Images from the Folder using Kaggle ASL Data Set</h3>"
   ]
  },
  {
   "cell_type": "code",
   "execution_count": 5,
   "id": "9fc3516e-7da1-49be-8854-7d0308c6b714",
   "metadata": {},
   "outputs": [
    {
     "name": "stdout",
     "output_type": "stream",
     "text": [
      "Classes: ['A', 'B', 'C', 'D', 'E', 'F', 'G', 'H', 'I', 'J', 'K', 'L', 'M', 'N', 'O', 'P', 'Q', 'R', 'S', 'T', 'U', 'V', 'W', 'X', 'Y', 'Z', 'nothing', 'space']\n"
     ]
    }
   ],
   "source": [
    "# Load dataset\n",
    "train_dataset_path = r\"/Users/prabhanshu/Desktop/👨🏻‍💻/Projects ML/SignVision/Final_Project/asl_alphabet_train\"\n",
    "test_dataset_path = r\"/Users/prabhanshu/Desktop/👨🏻‍💻/Projects ML/SignVision/Final_Project/asl_alphabet_test1\"\n",
    "train_ds = ImageFolder(root=train_dataset_path, transform=transform)\n",
    "test_ds = ImageFolder(root=test_dataset_path, transform=transform)\n",
    "\n",
    "# Create dataloaders\n",
    "batch_size = 64\n",
    "train_loader = DataLoader(train_ds, batch_size=batch_size, shuffle=True)\n",
    "test_loader = DataLoader(test_ds, batch_size=batch_size)\n",
    "\n",
    "# View class labels\n",
    "class_names = train_ds.classes\n",
    "print(f\"Classes: {class_names}\")\n"
   ]
  },
  {
   "cell_type": "code",
   "execution_count": 6,
   "id": "2e28f372-73fc-4fbe-b4ea-3531640bc358",
   "metadata": {},
   "outputs": [
    {
     "name": "stdout",
     "output_type": "stream",
     "text": [
      "Number of Classes : 28\n",
      "Number of Images is Testing Dataset : 84000\n",
      "Number of Images is Testing Dataset : 28\n",
      "Number of images per class in Training Set: 3000\n",
      "Number of images per class in Test Set: 1\n"
     ]
    }
   ],
   "source": [
    "print(f\"Number of Classes : {len(class_names)}\")\n",
    "print(f\"Number of Images is Testing Dataset : {len(train_ds)}\")\n",
    "print(f\"Number of Images is Testing Dataset : {len(test_ds)}\")\n",
    "number_of_images_per_class_train = train_ds.targets.count(0)\n",
    "print(f\"Number of images per class in Training Set: {number_of_images_per_class_train}\")\n",
    "number_of_images_per_class_test = test_ds.targets.count(0)\n",
    "print(f\"Number of images per class in Test Set: {number_of_images_per_class_test}\")"
   ]
  },
  {
   "cell_type": "markdown",
   "id": "e177e37c-5dea-48b9-90ba-81bf8e8f133f",
   "metadata": {},
   "source": [
    "<h3>Defining the CNN Model using Pytorch</h3>"
   ]
  },
  {
   "cell_type": "code",
   "execution_count": 7,
   "id": "272b6c70",
   "metadata": {},
   "outputs": [
    {
     "name": "stdout",
     "output_type": "stream",
     "text": [
      "ASLClassifier(\n",
      "  (net): Sequential(\n",
      "    (0): Conv2d(3, 32, kernel_size=(3, 3), stride=(1, 1), padding=(1, 1))\n",
      "    (1): ReLU()\n",
      "    (2): Conv2d(32, 32, kernel_size=(3, 3), stride=(1, 1), padding=(1, 1))\n",
      "    (3): ReLU()\n",
      "    (4): MaxPool2d(kernel_size=2, stride=2, padding=0, dilation=1, ceil_mode=False)\n",
      "    (5): Conv2d(32, 64, kernel_size=(3, 3), stride=(1, 1), padding=(1, 1))\n",
      "    (6): ReLU()\n",
      "    (7): Conv2d(64, 64, kernel_size=(3, 3), stride=(1, 1), padding=(1, 1))\n",
      "    (8): ReLU()\n",
      "    (9): MaxPool2d(kernel_size=2, stride=2, padding=0, dilation=1, ceil_mode=False)\n",
      "    (10): Flatten(start_dim=1, end_dim=-1)\n",
      "    (11): Linear(in_features=16384, out_features=512, bias=True)\n",
      "    (12): ReLU()\n",
      "    (13): Linear(in_features=512, out_features=28, bias=True)\n",
      "  )\n",
      ")\n"
     ]
    }
   ],
   "source": [
    "import torch.nn as nn\n",
    "\n",
    "class ASLClassifier(nn.Module):\n",
    "    def __init__(self, num_classes):\n",
    "        super(ASLClassifier, self).__init__()\n",
    "        self.net = nn.Sequential(\n",
    "            nn.Conv2d(3, 32, kernel_size=3, padding=1),  # input: (3, 64, 64)\n",
    "            nn.ReLU(),\n",
    "            nn.Conv2d(32, 32, kernel_size=3, padding=1),  # input: (3, 64, 64)\n",
    "            nn.ReLU(),\n",
    "            nn.MaxPool2d(2),                            # output: (32, 32, 32)\n",
    "            nn.Conv2d(32, 64, kernel_size=3, padding=1),\n",
    "            nn.ReLU(),\n",
    "            nn.Conv2d(64, 64, kernel_size=3, padding=1),\n",
    "            nn.ReLU(),\n",
    "            nn.MaxPool2d(2),                            # output: (64, 16, 16)\n",
    "            nn.Flatten(),\n",
    "            nn.Linear(64*16*16, 512),\n",
    "            nn.ReLU(),\n",
    "            nn.Linear(512, num_classes)\n",
    "        )\n",
    "\n",
    "    def forward(self, x):\n",
    "        return self.net(x)\n",
    "\n",
    "model = ASLClassifier(num_classes=len(class_names)).to(device)\n",
    "print(model)\n"
   ]
  },
  {
   "cell_type": "markdown",
   "id": "2ca8678f-be74-47b0-bd91-b8fef3cd2d25",
   "metadata": {},
   "source": [
    "<h3>Defining Loss Function and Optimizer</h3>"
   ]
  },
  {
   "cell_type": "code",
   "execution_count": 8,
   "id": "81bcd109",
   "metadata": {},
   "outputs": [],
   "source": [
    "loss_fn = nn.CrossEntropyLoss()\n",
    "optimizer = torch.optim.Adam(model.parameters(), lr=0.001)\n"
   ]
  },
  {
   "cell_type": "markdown",
   "id": "912ac8d2-52a3-40aa-9bc0-7bf43c291575",
   "metadata": {},
   "source": [
    "<h3>Training the Model</h3>"
   ]
  },
  {
   "cell_type": "code",
   "execution_count": 9,
   "id": "21002854",
   "metadata": {},
   "outputs": [
    {
     "name": "stderr",
     "output_type": "stream",
     "text": [
      "Epoch 1/10 [Training]: 100%|██████████| 1313/1313 [09:03<00:00,  2.41it/s]\n"
     ]
    },
    {
     "name": "stdout",
     "output_type": "stream",
     "text": [
      "Epoch [1/10] | Train Loss: 0.7731 | Test Loss: 0.0124\n"
     ]
    },
    {
     "name": "stderr",
     "output_type": "stream",
     "text": [
      "Epoch 2/10 [Training]: 100%|██████████| 1313/1313 [19:01<00:00,  1.15it/s]   \n"
     ]
    },
    {
     "name": "stdout",
     "output_type": "stream",
     "text": [
      "Epoch [2/10] | Train Loss: 0.1098 | Test Loss: 0.0456\n"
     ]
    },
    {
     "name": "stderr",
     "output_type": "stream",
     "text": [
      "Epoch 3/10 [Training]: 100%|██████████| 1313/1313 [08:56<00:00,  2.45it/s]\n"
     ]
    },
    {
     "name": "stdout",
     "output_type": "stream",
     "text": [
      "Epoch [3/10] | Train Loss: 0.0542 | Test Loss: 0.0116\n"
     ]
    },
    {
     "name": "stderr",
     "output_type": "stream",
     "text": [
      "Epoch 4/10 [Training]: 100%|██████████| 1313/1313 [09:03<00:00,  2.42it/s]\n"
     ]
    },
    {
     "name": "stdout",
     "output_type": "stream",
     "text": [
      "Epoch [4/10] | Train Loss: 0.0395 | Test Loss: 0.0006\n"
     ]
    },
    {
     "name": "stderr",
     "output_type": "stream",
     "text": [
      "Epoch 5/10 [Training]: 100%|██████████| 1313/1313 [08:59<00:00,  2.43it/s]\n"
     ]
    },
    {
     "name": "stdout",
     "output_type": "stream",
     "text": [
      "Epoch [5/10] | Train Loss: 0.0302 | Test Loss: 0.0002\n"
     ]
    },
    {
     "name": "stderr",
     "output_type": "stream",
     "text": [
      "Epoch 6/10 [Training]: 100%|██████████| 1313/1313 [08:59<00:00,  2.43it/s]\n"
     ]
    },
    {
     "name": "stdout",
     "output_type": "stream",
     "text": [
      "Epoch [6/10] | Train Loss: 0.0265 | Test Loss: 0.0017\n"
     ]
    },
    {
     "name": "stderr",
     "output_type": "stream",
     "text": [
      "Epoch 7/10 [Training]: 100%|██████████| 1313/1313 [13:20<00:00,  1.64it/s]  \n"
     ]
    },
    {
     "name": "stdout",
     "output_type": "stream",
     "text": [
      "Epoch [7/10] | Train Loss: 0.0223 | Test Loss: 0.0000\n"
     ]
    },
    {
     "name": "stderr",
     "output_type": "stream",
     "text": [
      "Epoch 8/10 [Training]: 100%|██████████| 1313/1313 [08:56<00:00,  2.45it/s]\n"
     ]
    },
    {
     "name": "stdout",
     "output_type": "stream",
     "text": [
      "Epoch [8/10] | Train Loss: 0.0166 | Test Loss: 0.0000\n"
     ]
    },
    {
     "name": "stderr",
     "output_type": "stream",
     "text": [
      "Epoch 9/10 [Training]: 100%|██████████| 1313/1313 [08:48<00:00,  2.48it/s]\n"
     ]
    },
    {
     "name": "stdout",
     "output_type": "stream",
     "text": [
      "Epoch [9/10] | Train Loss: 0.0169 | Test Loss: 0.0000\n"
     ]
    },
    {
     "name": "stderr",
     "output_type": "stream",
     "text": [
      "Epoch 10/10 [Training]: 100%|██████████| 1313/1313 [08:53<00:00,  2.46it/s]"
     ]
    },
    {
     "name": "stdout",
     "output_type": "stream",
     "text": [
      "Epoch [10/10] | Train Loss: 0.0128 | Test Loss: 0.0422\n"
     ]
    },
    {
     "name": "stderr",
     "output_type": "stream",
     "text": [
      "\n"
     ]
    }
   ],
   "source": [
    "epochs = 10\n",
    "train_loss_history = []\n",
    "test_loss_history = []\n",
    "epoch_count = []\n",
    "\n",
    "for epoch in range(epochs):\n",
    "    model.train()\n",
    "    running_train_loss = 0\n",
    "\n",
    "    # Training phase\n",
    "    for images, labels in tqdm(train_loader, desc=f\"Epoch {epoch+1}/{epochs} [Training]\"):\n",
    "        images, labels = images.to(device), labels.to(device)\n",
    "\n",
    "        # Forward pass\n",
    "        outputs = model(images)\n",
    "        loss = loss_fn(outputs, labels)\n",
    "\n",
    "        # Backward and optimize\n",
    "        optimizer.zero_grad()\n",
    "        loss.backward()\n",
    "        optimizer.step()\n",
    "\n",
    "        running_train_loss += loss.item()\n",
    "\n",
    "    avg_train_loss = running_train_loss / len(train_loader)\n",
    "    train_loss_history.append(avg_train_loss)\n",
    "\n",
    "    # Evaluation phase\n",
    "    model.eval()\n",
    "    running_test_loss = 0\n",
    "    with torch.no_grad():\n",
    "        for images, labels in test_loader:\n",
    "            images, labels = images.to(device), labels.to(device)\n",
    "\n",
    "            outputs = model(images)\n",
    "            test_loss = loss_fn(outputs, labels)\n",
    "            running_test_loss += test_loss.item()\n",
    "\n",
    "    avg_test_loss = running_test_loss / len(test_loader)\n",
    "    test_loss_history.append(avg_test_loss)\n",
    "\n",
    "    # Record epoch\n",
    "    epoch_count.append(epoch + 1)\n",
    "\n",
    "    # Print\n",
    "    print(f\"Epoch [{epoch+1}/{epochs}] | Train Loss: {avg_train_loss:.4f} | Test Loss: {avg_test_loss:.4f}\")\n"
   ]
  },
  {
   "cell_type": "markdown",
   "id": "af78aa5e-ad09-454b-96cb-65bb9f43f0dd",
   "metadata": {},
   "source": [
    "<h3>Evaluating the trained Model using Test Dataset</h3>"
   ]
  },
  {
   "cell_type": "code",
   "execution_count": 10,
   "id": "c12e0343",
   "metadata": {},
   "outputs": [],
   "source": [
    "def evaluate(model, data_loader, class_names, device):\n",
    "    model.eval()\n",
    "    y_true = []\n",
    "    y_pred = []\n",
    "\n",
    "    with torch.no_grad():\n",
    "        for images, labels in data_loader:\n",
    "            images = images.to(device)\n",
    "            labels = labels.to(device)\n",
    "\n",
    "            outputs = model(images)\n",
    "            _, predicted = torch.max(outputs, 1)\n",
    "\n",
    "            y_true.extend(labels.cpu().numpy())\n",
    "            y_pred.extend(predicted.cpu().numpy())\n",
    "\n",
    "    y_true = np.array(y_true)\n",
    "    y_pred = np.array(y_pred)\n",
    "\n",
    "    num_classes = len(class_names)\n",
    "\n",
    "    # Per-class TP/FP/FN\n",
    "    TP_per_class = np.zeros(num_classes, dtype=int)\n",
    "    FP_per_class = np.zeros(num_classes, dtype=int)\n",
    "    FN_per_class = np.zeros(num_classes, dtype=int)\n",
    "\n",
    "    for c in range(num_classes):\n",
    "        TP = np.sum((y_pred == c) & (y_true == c))\n",
    "        FP = np.sum((y_pred == c) & (y_true != c))\n",
    "        FN = np.sum((y_pred != c) & (y_true == c))\n",
    "\n",
    "        TP_per_class[c] = TP\n",
    "        FP_per_class[c] = FP\n",
    "        FN_per_class[c] = FN\n",
    "\n",
    "    # Precision, Recall, F1\n",
    "    precision_per_class = []\n",
    "    recall_per_class = []\n",
    "    f1_per_class = []\n",
    "\n",
    "    for c in range(num_classes):\n",
    "        TP = TP_per_class[c]\n",
    "        FP = FP_per_class[c]\n",
    "        FN = FN_per_class[c]\n",
    "\n",
    "        precision = TP / (TP + FP) if (TP + FP) > 0 else 0\n",
    "        recall = TP / (TP + FN) if (TP + FN) > 0 else 0\n",
    "        f1 = (2 * precision * recall) / (precision + recall) if (precision + recall) > 0 else 0\n",
    "\n",
    "        precision_per_class.append(precision)\n",
    "        recall_per_class.append(recall)\n",
    "        f1_per_class.append(f1)\n",
    "\n",
    "    # Macro-averaged\n",
    "    precision_macro = np.mean(precision_per_class)\n",
    "    recall_macro = np.mean(recall_per_class)\n",
    "    f1_macro = np.mean(f1_per_class)\n",
    "\n",
    "    # Accuracy\n",
    "    accuracy = np.sum(y_true == y_pred) / len(y_true)\n",
    "\n",
    "    print(f\"Accuracy: {accuracy:.4f}\")\n",
    "    print(f\"Macro Precision: {precision_macro:.4f}\")\n",
    "    print(f\"Macro Recall:    {recall_macro:.4f}\")\n",
    "    print(f\"Macro F1 Score:  {f1_macro:.4f}\")\n"
   ]
  },
  {
   "cell_type": "code",
   "execution_count": 11,
   "id": "8e05ad6c",
   "metadata": {},
   "outputs": [
    {
     "name": "stdout",
     "output_type": "stream",
     "text": [
      "\n",
      "--- Training Set Evaluation ---\n",
      "Accuracy: 0.9964\n",
      "Macro Precision: 0.9965\n",
      "Macro Recall:    0.9964\n",
      "Macro F1 Score:  0.9964\n",
      "\n",
      "--- Test Set Evaluation ---\n",
      "Accuracy: 0.9643\n",
      "Macro Precision: 0.9464\n",
      "Macro Recall:    0.9643\n",
      "Macro F1 Score:  0.9524\n"
     ]
    }
   ],
   "source": [
    "print(\"\\n--- Training Set Evaluation ---\")\n",
    "evaluate(model, train_loader, class_names, device)\n",
    "\n",
    "print(\"\\n--- Test Set Evaluation ---\")\n",
    "evaluate(model, test_loader, class_names, device)\n"
   ]
  },
  {
   "cell_type": "markdown",
   "id": "81c25351-95b0-45cd-8bc5-748300049b42",
   "metadata": {},
   "source": [
    "<h3>PLotting Confusion Matrix</h3>"
   ]
  },
  {
   "cell_type": "code",
   "execution_count": 12,
   "id": "2653f81e",
   "metadata": {},
   "outputs": [],
   "source": [
    "import matplotlib.pyplot as plt\n",
    "import seaborn as sns\n",
    "from sklearn.metrics import confusion_matrix\n",
    "\n",
    "def plot_confusion(y_true, y_pred, class_names, title=\"Confusion Matrix\"):\n",
    "    cm = confusion_matrix(y_true, y_pred)\n",
    "    plt.figure(figsize=(12,10))\n",
    "    sns.heatmap(cm,\n",
    "                annot=True,\n",
    "                fmt=\"d\",\n",
    "                cmap=\"Blues\",\n",
    "                xticklabels=class_names,\n",
    "                yticklabels=class_names)\n",
    "    plt.xlabel(\"Predicted Label\")\n",
    "    plt.ylabel(\"True Label\")\n",
    "    plt.title(title)\n",
    "    plt.tight_layout()\n",
    "    plt.show()"
   ]
  },
  {
   "cell_type": "code",
   "execution_count": 14,
   "id": "4e91b296",
   "metadata": {},
   "outputs": [
    {
     "data": {
      "image/png": "[encoded data removed]",
      "text/plain": [
       "<Figure size 1200x1000 with 2 Axes>"
      ]
     },
     "metadata": {},
     "output_type": "display_data"
    },
    {
     "name": "stdout",
     "output_type": "stream",
     "text": [
      "Expected Labels : [0, 1, 2, 3, 4, 5, 6, 7, 8, 9, 10, 11, 12, 13, 14, 15, 16, 17, 18, 19, 20, 21, 22, 23, 24, 25, 26, 27]\n",
      "Predicted Labels : [0, 1, 2, 3, 4, 5, 6, 7, 8, 9, 10, 11, 12, 13, 14, 15, 16, 17, 18, 19, 20, 21, 22, 23, 27, 25, 26, 27]\n"
     ]
    }
   ],
   "source": [
    "# Run predictions and collect labels\n",
    "model.eval()\n",
    "y_true = []\n",
    "y_pred = []\n",
    "\n",
    "with torch.no_grad():\n",
    "    for images, labels in test_loader:\n",
    "        images, labels = images.to(device), labels.to(device)\n",
    "\n",
    "        outputs = model(images)\n",
    "        _, predicted = torch.max(outputs, 1)\n",
    "\n",
    "        y_true.extend(labels.cpu().numpy())\n",
    "        y_pred.extend(predicted.cpu().numpy())\n",
    "\n",
    "# Plot confusion matrix\n",
    "plot_confusion(y_true, y_pred, class_names, title=\"Confusion Matrix (Test Data)\")\n",
    "print(f\"Expected Labels : {y_true}\")\n",
    "print(f\"Predicted Labels : {y_pred}\")\n"
   ]
  },
  {
   "cell_type": "code",
   "execution_count": null,
   "id": "411c760e",
   "metadata": {},
   "outputs": [],
   "source": []
  }
 ],
 "metadata": {
  "kernelspec": {
   "display_name": "base",
   "language": "python",
   "name": "python3"
  },
  "language_info": {
   "codemirror_mode": {
    "name": "ipython",
    "version": 3
   },
   "file_extension": ".py",
   "mimetype": "text/x-python",
   "name": "python",
   "nbconvert_exporter": "python",
   "pygments_lexer": "ipython3",
   "version": "3.12.7"
  }
 },
 "nbformat": 4,
 "nbformat_minor": 5
}
