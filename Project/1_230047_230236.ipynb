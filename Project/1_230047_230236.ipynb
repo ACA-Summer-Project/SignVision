{
  "nbformat": 4,
  "nbformat_minor": 0,
  "metadata": {
    "colab": {
      "provenance": [],
      "gpuType": "T4"
    },
    "kernelspec": {
      "name": "python3",
      "display_name": "Python 3"
    },
    "language_info": {
      "name": "python"
    },
    "accelerator": "GPU"
  },
  "cells": [
    {
      "cell_type": "markdown",
      "source": [
        "**Importing dependencies**"
      ],
      "metadata": {
        "id": "-v16e-4oRmU7"
      }
    },
    {
      "cell_type": "code",
      "execution_count": 1,
      "metadata": {
        "id": "xGPin4hHPOxW"
      },
      "outputs": [],
      "source": [
        "import os\n",
        "import torch\n",
        "import torchvision.transforms as transforms\n",
        "import torchvision.datasets as datasets\n",
        "from torch.utils.data import DataLoader\n",
        "import torch.nn as nn\n",
        "import torch.optim as optim\n",
        "import matplotlib.pyplot as plt\n",
        "from sklearn.metrics import classification_report, confusion_matrix\n",
        "import seaborn as sns\n",
        "import numpy as np\n"
      ]
    },
    {
      "cell_type": "code",
      "source": [
        "from google.colab import drive\n",
        "drive.mount('/content/drive')\n"
      ],
      "metadata": {
        "colab": {
          "base_uri": "https://localhost:8080/"
        },
        "id": "qRp7Rab0SuTn",
        "outputId": "a17f91c6-e63c-4da9-93fe-91ccda30ce95"
      },
      "execution_count": 3,
      "outputs": [
        {
          "output_type": "stream",
          "name": "stdout",
          "text": [
            "Mounted at /content/drive\n"
          ]
        }
      ]
    },
    {
      "cell_type": "markdown",
      "source": [
        "Unzip the File"
      ],
      "metadata": {
        "id": "k0-9tlEOeJoe"
      }
    },
    {
      "cell_type": "code",
      "source": [
        "import zipfile\n",
        "\n",
        "zip_path = \"/content/drive/MyDrive/asl_alphabet_train.zip\"  # adjust if it's in a subfolder\n",
        "extract_path = \"/content/asl_data\"\n",
        "\n",
        "with zipfile.ZipFile(zip_path, 'r') as zip_ref:\n",
        "    zip_ref.extractall(extract_path)\n"
      ],
      "metadata": {
        "id": "mW4dPxg_Xe1x"
      },
      "execution_count": 4,
      "outputs": []
    },
    {
      "cell_type": "markdown",
      "source": [
        "Set Device"
      ],
      "metadata": {
        "id": "o1JsS0MzeSXV"
      }
    },
    {
      "cell_type": "code",
      "source": [
        "device = torch.device(\"cuda\" if torch.cuda.is_available() else \"cpu\")\n"
      ],
      "metadata": {
        "id": "EKd967U3ZHU7"
      },
      "execution_count": 5,
      "outputs": []
    },
    {
      "cell_type": "markdown",
      "source": [
        ". Data Preprocessing"
      ],
      "metadata": {
        "id": "nDd164LKeV3k"
      }
    },
    {
      "cell_type": "code",
      "source": [
        "transform = transforms.Compose([\n",
        "    transforms.Resize((64, 64)),\n",
        "    transforms.ToTensor(),\n",
        "    transforms.Normalize(mean=[0.5], std=[0.5])\n",
        "])\n",
        "\n",
        "# Update the path as needed\n",
        "train_dataset = datasets.ImageFolder(root=\"/content/asl_data/asl_alphabet_train\", transform=transform)\n",
        "train_size = int(0.8 * len(train_dataset))\n",
        "val_size = len(train_dataset) - train_size\n",
        "\n",
        "train_dataset, val_dataset = torch.utils.data.random_split(train_dataset, [train_size, val_size])\n",
        "train_loader = DataLoader(train_dataset, batch_size=64, shuffle=True)\n",
        "val_loader = DataLoader(val_dataset, batch_size=64, shuffle=False)\n",
        "\n",
        "classes = train_dataset.dataset.classes\n"
      ],
      "metadata": {
        "id": "fKOpXtHAX8W4"
      },
      "execution_count": 6,
      "outputs": []
    },
    {
      "cell_type": "markdown",
      "source": [
        "Model Architecture"
      ],
      "metadata": {
        "id": "8Vy2ierUeaMQ"
      }
    },
    {
      "cell_type": "code",
      "source": [
        "class ASLClassifier(nn.Module):\n",
        "    def __init__(self):\n",
        "        super(ASLClassifier, self).__init__()\n",
        "        self.conv = nn.Sequential(\n",
        "            nn.Conv2d(3, 32, 3, padding=1), nn.ReLU(), nn.MaxPool2d(2),\n",
        "            nn.Conv2d(32, 64, 3, padding=1), nn.ReLU(), nn.MaxPool2d(2),\n",
        "            nn.Conv2d(64, 128, 3, padding=1), nn.ReLU(), nn.MaxPool2d(2)\n",
        "        )\n",
        "        self.fc = nn.Sequential(\n",
        "            nn.Flatten(),\n",
        "            nn.Linear(128 * 8 * 8, 512), nn.ReLU(),\n",
        "            nn.Linear(512, len(classes))\n",
        "        )\n",
        "\n",
        "    def forward(self, x):\n",
        "        x = self.conv(x)\n",
        "        x = self.fc(x)\n",
        "        return x\n",
        "\n",
        "model = ASLClassifier().to(device)\n"
      ],
      "metadata": {
        "id": "GMBqZZnUZc73"
      },
      "execution_count": 7,
      "outputs": []
    },
    {
      "cell_type": "markdown",
      "source": [
        "Training Setup"
      ],
      "metadata": {
        "id": "YOmUEF8KeeL8"
      }
    },
    {
      "cell_type": "code",
      "source": [
        "criterion = nn.CrossEntropyLoss()\n",
        "optimizer = optim.Adam(model.parameters(), lr=0.001)\n"
      ],
      "metadata": {
        "id": "jp5F5_ygZhoF"
      },
      "execution_count": 8,
      "outputs": []
    },
    {
      "cell_type": "markdown",
      "source": [
        "Training Loop"
      ],
      "metadata": {
        "id": "5HplDjxZeihR"
      }
    },
    {
      "cell_type": "code",
      "source": [
        "num_epochs = 10\n",
        "for epoch in range(num_epochs):\n",
        "    model.train()\n",
        "    total_loss = 0\n",
        "    for images, labels in train_loader:\n",
        "        images, labels = images.to(device), labels.to(device)\n",
        "\n",
        "        outputs = model(images)\n",
        "        loss = criterion(outputs, labels)\n",
        "\n",
        "        optimizer.zero_grad()\n",
        "        loss.backward()\n",
        "        optimizer.step()\n",
        "        total_loss += loss.item()\n",
        "\n",
        "    print(f\"Epoch {epoch+1}/{num_epochs}, Loss: {total_loss:.4f}\")\n"
      ],
      "metadata": {
        "colab": {
          "base_uri": "https://localhost:8080/"
        },
        "id": "M22h8sg2Zke-",
        "outputId": "eb406cd9-ac80-469a-9654-49abc4d49d21"
      },
      "execution_count": 9,
      "outputs": [
        {
          "output_type": "stream",
          "name": "stdout",
          "text": [
            "Epoch 1/10, Loss: 560.4134\n",
            "Epoch 2/10, Loss: 55.5019\n",
            "Epoch 3/10, Loss: 35.6028\n",
            "Epoch 4/10, Loss: 26.9572\n",
            "Epoch 5/10, Loss: 19.6837\n",
            "Epoch 6/10, Loss: 19.8991\n",
            "Epoch 7/10, Loss: 15.6059\n",
            "Epoch 8/10, Loss: 15.4714\n",
            "Epoch 9/10, Loss: 14.8224\n",
            "Epoch 10/10, Loss: 6.1710\n"
          ]
        }
      ]
    },
    {
      "cell_type": "markdown",
      "source": [
        "Evaluation"
      ],
      "metadata": {
        "id": "HQtgYKJAeqZY"
      }
    },
    {
      "cell_type": "code",
      "source": [
        "from sklearn.metrics import classification_report, confusion_matrix, accuracy_score, precision_score, recall_score, f1_score\n",
        "import matplotlib.pyplot as plt\n",
        "import seaborn as sns\n",
        "\n",
        "model.eval()\n",
        "y_true = []\n",
        "y_pred = []\n",
        "\n",
        "with torch.no_grad():\n",
        "    for images, labels in val_loader:\n",
        "        images, labels = images.to(device), labels.to(device)\n",
        "        outputs = model(images)\n",
        "        _, preds = torch.max(outputs, 1)\n",
        "\n",
        "        y_true.extend(labels.cpu().numpy())\n",
        "        y_pred.extend(preds.cpu().numpy())\n",
        "\n",
        "#  Classification Report\n",
        "print(\"\\nClassification Report:\")\n",
        "print(classification_report(y_true, y_pred, target_names=classes))\n",
        "\n",
        "# Individual Metric Scores\n",
        "accuracy = accuracy_score(y_true, y_pred)\n",
        "precision = precision_score(y_true, y_pred, average='macro')\n",
        "recall = recall_score(y_true, y_pred, average='macro')\n",
        "f1 = f1_score(y_true, y_pred, average='macro')\n",
        "\n",
        "print(f\"\\nAccuracy:  {accuracy:.4f}\")\n",
        "print(f\"Precision: {precision:.4f}\")\n",
        "print(f\"Recall:    {recall:.4f}\")\n",
        "print(f\"F1 Score:  {f1:.4f}\")\n",
        "\n",
        "#  Confusion Matrix Plot\n",
        "cm = confusion_matrix(y_true, y_pred)\n",
        "plt.figure(figsize=(12, 10))\n",
        "sns.heatmap(cm, xticklabels=classes, yticklabels=classes, annot=False, cmap='Blues', fmt='g')\n",
        "plt.xlabel(\"Predicted\")\n",
        "plt.ylabel(\"True\")\n",
        "plt.title(\"Confusion Matrix\")\n",
        "plt.show()\n"
      ],
      "metadata": {
        "colab": {
          "base_uri": "https://localhost:8080/",
          "height": 1000
        },
        "id": "4F2QCdJdfh3E",
        "outputId": "b8bdbec5-7b58-49fb-9ed3-9677cdb0f9d0"
      },
      "execution_count": 11,
      "outputs": [
        {
          "output_type": "stream",
          "name": "stdout",
          "text": [
            "\n",
            "Classification Report:\n",
            "              precision    recall  f1-score   support\n",
            "\n",
            "           A       1.00      1.00      1.00       580\n",
            "           B       1.00      1.00      1.00       604\n",
            "           C       1.00      1.00      1.00       550\n",
            "           D       1.00      1.00      1.00       637\n",
            "           E       1.00      1.00      1.00       615\n",
            "           F       1.00      1.00      1.00       622\n",
            "           G       1.00      0.99      1.00       584\n",
            "           H       1.00      1.00      1.00       588\n",
            "           I       1.00      1.00      1.00       590\n",
            "           J       1.00      1.00      1.00       601\n",
            "           K       1.00      0.94      0.97       590\n",
            "           L       1.00      1.00      1.00       606\n",
            "           M       1.00      1.00      1.00       579\n",
            "           N       0.99      1.00      1.00       624\n",
            "           O       1.00      1.00      1.00       611\n",
            "           P       1.00      1.00      1.00       594\n",
            "           Q       0.99      1.00      0.99       589\n",
            "           R       0.95      0.97      0.96       588\n",
            "           S       1.00      0.98      0.99       612\n",
            "           T       1.00      1.00      1.00       610\n",
            "           U       0.96      1.00      0.98       558\n",
            "           V       1.00      0.97      0.99       601\n",
            "           W       0.98      1.00      0.99       597\n",
            "           X       0.99      1.00      1.00       615\n",
            "           Y       1.00      1.00      1.00       588\n",
            "           Z       1.00      1.00      1.00       618\n",
            "         del       1.00      1.00      1.00       642\n",
            "     nothing       1.00      1.00      1.00       610\n",
            "       space       1.00      1.00      1.00       597\n",
            "\n",
            "    accuracy                           0.99     17400\n",
            "   macro avg       0.99      0.99      0.99     17400\n",
            "weighted avg       0.99      0.99      0.99     17400\n",
            "\n",
            "\n",
            "Accuracy:  0.9945\n",
            "Precision: 0.9945\n",
            "Recall:    0.9945\n",
            "F1 Score:  0.9945\n"
          ]
        },
        {
          "output_type": "display_data",
          "data": {
            "text/plain": [
              "<Figure size 1200x1000 with 2 Axes>"
            ],
            "image/png": "[encoded data removed]"
          },
          "metadata": {}
        }
      ]
    },
    {
      "cell_type": "code",
      "source": [],
      "metadata": {
        "id": "G5jCZhdOdp8u"
      },
      "execution_count": null,
      "outputs": []
    }
  ]
}