{
 "cells": [
  {
   "cell_type": "code",
   "execution_count": 16,
   "id": "8877e807-55f9-4be3-bbd7-c1be0cd54cd8",
   "metadata": {},
   "outputs": [
    {
     "name": "stdout",
     "output_type": "stream",
     "text": [
      "Requirement already satisfied: torch in c:\\users\\khan2\\anaconda3\\lib\\site-packages (2.7.1)\n",
      "Requirement already satisfied: filelock in c:\\users\\khan2\\anaconda3\\lib\\site-packages (from torch) (3.13.1)\n",
      "Requirement already satisfied: typing-extensions>=4.10.0 in c:\\users\\khan2\\anaconda3\\lib\\site-packages (from torch) (4.11.0)\n",
      "Requirement already satisfied: sympy>=1.13.3 in c:\\users\\khan2\\anaconda3\\lib\\site-packages (from torch) (1.14.0)\n",
      "Requirement already satisfied: networkx in c:\\users\\khan2\\anaconda3\\lib\\site-packages (from torch) (3.2.1)\n",
      "Requirement already satisfied: jinja2 in c:\\users\\khan2\\anaconda3\\lib\\site-packages (from torch) (3.1.4)\n",
      "Requirement already satisfied: fsspec in c:\\users\\khan2\\anaconda3\\lib\\site-packages (from torch) (2024.3.1)\n",
      "Requirement already satisfied: setuptools in c:\\users\\khan2\\anaconda3\\lib\\site-packages (from torch) (69.5.1)\n",
      "Requirement already satisfied: mpmath<1.4,>=1.1.0 in c:\\users\\khan2\\anaconda3\\lib\\site-packages (from sympy>=1.13.3->torch) (1.3.0)\n",
      "Requirement already satisfied: MarkupSafe>=2.0 in c:\\users\\khan2\\anaconda3\\lib\\site-packages (from jinja2->torch) (2.1.3)\n"
     ]
    }
   ],
   "source": [
    "!pip install torch"
   ]
  },
  {
   "cell_type": "code",
   "execution_count": 23,
   "id": "6a18cb7d-f013-49ed-b5c1-25cda93c2e07",
   "metadata": {},
   "outputs": [
    {
     "name": "stdout",
     "output_type": "stream",
     "text": [
      "Requirement already satisfied: torchvision in c:\\users\\khan2\\anaconda3\\lib\\site-packages (0.22.1)\n",
      "Requirement already satisfied: numpy in c:\\users\\khan2\\appdata\\roaming\\python\\python312\\site-packages (from torchvision) (1.26.4)\n",
      "Requirement already satisfied: torch==2.7.1 in c:\\users\\khan2\\anaconda3\\lib\\site-packages (from torchvision) (2.7.1)\n",
      "Requirement already satisfied: pillow!=8.3.*,>=5.3.0 in c:\\users\\khan2\\appdata\\roaming\\python\\python312\\site-packages (from torchvision) (11.2.1)\n",
      "Requirement already satisfied: filelock in c:\\users\\khan2\\anaconda3\\lib\\site-packages (from torch==2.7.1->torchvision) (3.13.1)\n",
      "Requirement already satisfied: typing-extensions>=4.10.0 in c:\\users\\khan2\\anaconda3\\lib\\site-packages (from torch==2.7.1->torchvision) (4.11.0)\n",
      "Requirement already satisfied: sympy>=1.13.3 in c:\\users\\khan2\\anaconda3\\lib\\site-packages (from torch==2.7.1->torchvision) (1.14.0)\n",
      "Requirement already satisfied: networkx in c:\\users\\khan2\\anaconda3\\lib\\site-packages (from torch==2.7.1->torchvision) (3.2.1)\n",
      "Requirement already satisfied: jinja2 in c:\\users\\khan2\\anaconda3\\lib\\site-packages (from torch==2.7.1->torchvision) (3.1.4)\n",
      "Requirement already satisfied: fsspec in c:\\users\\khan2\\anaconda3\\lib\\site-packages (from torch==2.7.1->torchvision) (2024.3.1)\n",
      "Requirement already satisfied: setuptools in c:\\users\\khan2\\anaconda3\\lib\\site-packages (from torch==2.7.1->torchvision) (69.5.1)\n",
      "Requirement already satisfied: mpmath<1.4,>=1.1.0 in c:\\users\\khan2\\anaconda3\\lib\\site-packages (from sympy>=1.13.3->torch==2.7.1->torchvision) (1.3.0)\n",
      "Requirement already satisfied: MarkupSafe>=2.0 in c:\\users\\khan2\\anaconda3\\lib\\site-packages (from jinja2->torch==2.7.1->torchvision) (2.1.3)\n"
     ]
    }
   ],
   "source": [
    "!pip install torchvision"
   ]
  },
  {
   "cell_type": "code",
   "execution_count": 18,
   "id": "ebbc45c1-c120-46fb-b350-03a3b9e5d85b",
   "metadata": {},
   "outputs": [
    {
     "name": "stderr",
     "output_type": "stream",
     "text": [
      "Epoch 1: 100%|█████████████████████████████████████████████████████████████████████| 2719/2719 [13:01<00:00,  3.48it/s]\n"
     ]
    },
    {
     "name": "stdout",
     "output_type": "stream",
     "text": [
      "Epoch 1 | Loss: 4296.0475 | Accuracy: 52.24%\n"
     ]
    },
    {
     "name": "stderr",
     "output_type": "stream",
     "text": [
      "Epoch 2: 100%|█████████████████████████████████████████████████████████████████████| 2719/2719 [07:05<00:00,  6.39it/s]\n"
     ]
    },
    {
     "name": "stdout",
     "output_type": "stream",
     "text": [
      "Epoch 2 | Loss: 1846.6611 | Accuracy: 77.63%\n"
     ]
    },
    {
     "name": "stderr",
     "output_type": "stream",
     "text": [
      "Epoch 3: 100%|█████████████████████████████████████████████████████████████████████| 2719/2719 [06:18<00:00,  7.19it/s]\n"
     ]
    },
    {
     "name": "stdout",
     "output_type": "stream",
     "text": [
      "Epoch 3 | Loss: 1289.8572 | Accuracy: 83.97%\n"
     ]
    },
    {
     "name": "stderr",
     "output_type": "stream",
     "text": [
      "Epoch 4: 100%|█████████████████████████████████████████████████████████████████████| 2719/2719 [04:46<00:00,  9.48it/s]\n"
     ]
    },
    {
     "name": "stdout",
     "output_type": "stream",
     "text": [
      "Epoch 4 | Loss: 1046.0783 | Accuracy: 86.92%\n"
     ]
    },
    {
     "name": "stderr",
     "output_type": "stream",
     "text": [
      "Epoch 5: 100%|█████████████████████████████████████████████████████████████████████| 2719/2719 [04:42<00:00,  9.62it/s]\n"
     ]
    },
    {
     "name": "stdout",
     "output_type": "stream",
     "text": [
      "Epoch 5 | Loss: 905.8752 | Accuracy: 88.51%\n"
     ]
    },
    {
     "name": "stderr",
     "output_type": "stream",
     "text": [
      "Epoch 6: 100%|█████████████████████████████████████████████████████████████████████| 2719/2719 [04:41<00:00,  9.67it/s]\n"
     ]
    },
    {
     "name": "stdout",
     "output_type": "stream",
     "text": [
      "Epoch 6 | Loss: 780.6658 | Accuracy: 90.12%\n"
     ]
    },
    {
     "name": "stderr",
     "output_type": "stream",
     "text": [
      "Epoch 7: 100%|█████████████████████████████████████████████████████████████████████| 2719/2719 [04:43<00:00,  9.57it/s]\n"
     ]
    },
    {
     "name": "stdout",
     "output_type": "stream",
     "text": [
      "Epoch 7 | Loss: 712.1221 | Accuracy: 91.04%\n"
     ]
    },
    {
     "name": "stderr",
     "output_type": "stream",
     "text": [
      "Epoch 8: 100%|█████████████████████████████████████████████████████████████████████| 2719/2719 [07:04<00:00,  6.41it/s]\n"
     ]
    },
    {
     "name": "stdout",
     "output_type": "stream",
     "text": [
      "Epoch 8 | Loss: 666.8642 | Accuracy: 91.72%\n"
     ]
    },
    {
     "name": "stderr",
     "output_type": "stream",
     "text": [
      "Epoch 9: 100%|█████████████████████████████████████████████████████████████████████| 2719/2719 [04:41<00:00,  9.67it/s]\n"
     ]
    },
    {
     "name": "stdout",
     "output_type": "stream",
     "text": [
      "Epoch 9 | Loss: 613.9011 | Accuracy: 92.37%\n"
     ]
    },
    {
     "name": "stderr",
     "output_type": "stream",
     "text": [
      "Epoch 10: 100%|████████████████████████████████████████████████████████████████████| 2719/2719 [06:10<00:00,  7.33it/s]\n"
     ]
    },
    {
     "name": "stdout",
     "output_type": "stream",
     "text": [
      "Epoch 10 | Loss: 582.8890 | Accuracy: 92.73%\n"
     ]
    },
    {
     "name": "stderr",
     "output_type": "stream",
     "text": [
      "Epoch 11: 100%|████████████████████████████████████████████████████████████████████| 2719/2719 [04:44<00:00,  9.55it/s]\n"
     ]
    },
    {
     "name": "stdout",
     "output_type": "stream",
     "text": [
      "Epoch 11 | Loss: 567.1129 | Accuracy: 93.14%\n"
     ]
    },
    {
     "name": "stderr",
     "output_type": "stream",
     "text": [
      "Epoch 12: 100%|████████████████████████████████████████████████████████████████████| 2719/2719 [04:48<00:00,  9.41it/s]\n"
     ]
    },
    {
     "name": "stdout",
     "output_type": "stream",
     "text": [
      "Epoch 12 | Loss: 520.6080 | Accuracy: 93.62%\n"
     ]
    },
    {
     "name": "stderr",
     "output_type": "stream",
     "text": [
      "Epoch 13: 100%|████████████████████████████████████████████████████████████████████| 2719/2719 [05:35<00:00,  8.09it/s]\n"
     ]
    },
    {
     "name": "stdout",
     "output_type": "stream",
     "text": [
      "Epoch 13 | Loss: 527.3973 | Accuracy: 93.54%\n"
     ]
    },
    {
     "name": "stderr",
     "output_type": "stream",
     "text": [
      "Epoch 14: 100%|████████████████████████████████████████████████████████████████████| 2719/2719 [04:47<00:00,  9.47it/s]\n"
     ]
    },
    {
     "name": "stdout",
     "output_type": "stream",
     "text": [
      "Epoch 14 | Loss: 486.7278 | Accuracy: 93.99%\n"
     ]
    },
    {
     "name": "stderr",
     "output_type": "stream",
     "text": [
      "Epoch 15: 100%|████████████████████████████████████████████████████████████████████| 2719/2719 [04:46<00:00,  9.50it/s]\n"
     ]
    },
    {
     "name": "stdout",
     "output_type": "stream",
     "text": [
      "Epoch 15 | Loss: 482.3217 | Accuracy: 94.20%\n"
     ]
    },
    {
     "name": "stderr",
     "output_type": "stream",
     "text": [
      "Epoch 16: 100%|████████████████████████████████████████████████████████████████████| 2719/2719 [04:47<00:00,  9.47it/s]\n"
     ]
    },
    {
     "name": "stdout",
     "output_type": "stream",
     "text": [
      "Epoch 16 | Loss: 439.2299 | Accuracy: 94.63%\n"
     ]
    },
    {
     "name": "stderr",
     "output_type": "stream",
     "text": [
      "Epoch 17: 100%|████████████████████████████████████████████████████████████████████| 2719/2719 [04:43<00:00,  9.59it/s]\n"
     ]
    },
    {
     "name": "stdout",
     "output_type": "stream",
     "text": [
      "Epoch 17 | Loss: 442.4835 | Accuracy: 94.70%\n"
     ]
    },
    {
     "name": "stderr",
     "output_type": "stream",
     "text": [
      "Epoch 18: 100%|████████████████████████████████████████████████████████████████████| 2719/2719 [04:43<00:00,  9.57it/s]\n"
     ]
    },
    {
     "name": "stdout",
     "output_type": "stream",
     "text": [
      "Epoch 18 | Loss: 423.5896 | Accuracy: 94.97%\n"
     ]
    },
    {
     "name": "stderr",
     "output_type": "stream",
     "text": [
      "Epoch 19: 100%|██████████████████████████████████████████████████████████████████| 2719/2719 [5:20:34<00:00,  7.07s/it]\n"
     ]
    },
    {
     "name": "stdout",
     "output_type": "stream",
     "text": [
      "Epoch 19 | Loss: 397.9809 | Accuracy: 95.25%\n"
     ]
    },
    {
     "name": "stderr",
     "output_type": "stream",
     "text": [
      "Epoch 20: 100%|████████████████████████████████████████████████████████████████████| 2719/2719 [10:02<00:00,  4.51it/s]\n"
     ]
    },
    {
     "name": "stdout",
     "output_type": "stream",
     "text": [
      "Epoch 20 | Loss: 399.7879 | Accuracy: 95.37%\n"
     ]
    },
    {
     "name": "stderr",
     "output_type": "stream",
     "text": [
      "Epoch 21: 100%|████████████████████████████████████████████████████████████████████| 2719/2719 [08:32<00:00,  5.31it/s]\n"
     ]
    },
    {
     "name": "stdout",
     "output_type": "stream",
     "text": [
      "Epoch 21 | Loss: 387.2553 | Accuracy: 95.46%\n"
     ]
    },
    {
     "name": "stderr",
     "output_type": "stream",
     "text": [
      "Epoch 22: 100%|████████████████████████████████████████████████████████████████████| 2719/2719 [14:04<00:00,  3.22it/s]\n"
     ]
    },
    {
     "name": "stdout",
     "output_type": "stream",
     "text": [
      "Epoch 22 | Loss: 371.7061 | Accuracy: 95.76%\n"
     ]
    },
    {
     "name": "stderr",
     "output_type": "stream",
     "text": [
      "Epoch 23: 100%|████████████████████████████████████████████████████████████████████| 2719/2719 [05:33<00:00,  8.16it/s]\n"
     ]
    },
    {
     "name": "stdout",
     "output_type": "stream",
     "text": [
      "Epoch 23 | Loss: 363.9353 | Accuracy: 95.86%\n"
     ]
    },
    {
     "name": "stderr",
     "output_type": "stream",
     "text": [
      "Epoch 24: 100%|████████████████████████████████████████████████████████████████████| 2719/2719 [03:39<00:00, 12.36it/s]\n"
     ]
    },
    {
     "name": "stdout",
     "output_type": "stream",
     "text": [
      "Epoch 24 | Loss: 347.7640 | Accuracy: 96.05%\n"
     ]
    },
    {
     "name": "stderr",
     "output_type": "stream",
     "text": [
      "Epoch 25: 100%|████████████████████████████████████████████████████████████████████| 2719/2719 [06:33<00:00,  6.92it/s]\n"
     ]
    },
    {
     "name": "stdout",
     "output_type": "stream",
     "text": [
      "Epoch 25 | Loss: 342.2100 | Accuracy: 96.18%\n"
     ]
    },
    {
     "name": "stderr",
     "output_type": "stream",
     "text": [
      "Epoch 26: 100%|████████████████████████████████████████████████████████████████████| 2719/2719 [07:24<00:00,  6.12it/s]\n"
     ]
    },
    {
     "name": "stdout",
     "output_type": "stream",
     "text": [
      "Epoch 26 | Loss: 335.3326 | Accuracy: 96.25%\n"
     ]
    },
    {
     "name": "stderr",
     "output_type": "stream",
     "text": [
      "Epoch 27: 100%|████████████████████████████████████████████████████████████████████| 2719/2719 [06:48<00:00,  6.66it/s]\n"
     ]
    },
    {
     "name": "stdout",
     "output_type": "stream",
     "text": [
      "Epoch 27 | Loss: 318.3696 | Accuracy: 96.42%\n"
     ]
    },
    {
     "name": "stderr",
     "output_type": "stream",
     "text": [
      "Epoch 28: 100%|████████████████████████████████████████████████████████████████████| 2719/2719 [03:33<00:00, 12.71it/s]\n"
     ]
    },
    {
     "name": "stdout",
     "output_type": "stream",
     "text": [
      "Epoch 28 | Loss: 308.5082 | Accuracy: 96.57%\n"
     ]
    },
    {
     "name": "stderr",
     "output_type": "stream",
     "text": [
      "Epoch 29: 100%|████████████████████████████████████████████████████████████████████| 2719/2719 [05:41<00:00,  7.97it/s]\n"
     ]
    },
    {
     "name": "stdout",
     "output_type": "stream",
     "text": [
      "Epoch 29 | Loss: 320.8921 | Accuracy: 96.51%\n"
     ]
    },
    {
     "name": "stderr",
     "output_type": "stream",
     "text": [
      "Epoch 30: 100%|████████████████████████████████████████████████████████████████████| 2719/2719 [13:26<00:00,  3.37it/s]\n"
     ]
    },
    {
     "name": "stdout",
     "output_type": "stream",
     "text": [
      "Epoch 30 | Loss: 311.3947 | Accuracy: 96.66%\n"
     ]
    },
    {
     "name": "stderr",
     "output_type": "stream",
     "text": [
      "Epoch 31: 100%|████████████████████████████████████████████████████████████████████| 2719/2719 [07:03<00:00,  6.42it/s]\n"
     ]
    },
    {
     "name": "stdout",
     "output_type": "stream",
     "text": [
      "Epoch 31 | Loss: 299.7340 | Accuracy: 96.84%\n"
     ]
    },
    {
     "name": "stderr",
     "output_type": "stream",
     "text": [
      "Epoch 32: 100%|████████████████████████████████████████████████████████████████████| 2719/2719 [05:06<00:00,  8.88it/s]\n"
     ]
    },
    {
     "name": "stdout",
     "output_type": "stream",
     "text": [
      "Epoch 32 | Loss: 308.9714 | Accuracy: 96.82%\n"
     ]
    },
    {
     "name": "stderr",
     "output_type": "stream",
     "text": [
      "Epoch 33: 100%|████████████████████████████████████████████████████████████████████| 2719/2719 [03:33<00:00, 12.71it/s]\n"
     ]
    },
    {
     "name": "stdout",
     "output_type": "stream",
     "text": [
      "Epoch 33 | Loss: 292.9063 | Accuracy: 96.90%\n"
     ]
    },
    {
     "name": "stderr",
     "output_type": "stream",
     "text": [
      "Epoch 34: 100%|████████████████████████████████████████████████████████████████████| 2719/2719 [11:04<00:00,  4.09it/s]\n"
     ]
    },
    {
     "name": "stdout",
     "output_type": "stream",
     "text": [
      "Epoch 34 | Loss: 300.7728 | Accuracy: 96.88%\n"
     ]
    },
    {
     "name": "stderr",
     "output_type": "stream",
     "text": [
      "Epoch 35: 100%|████████████████████████████████████████████████████████████████████| 2719/2719 [06:49<00:00,  6.64it/s]\n"
     ]
    },
    {
     "name": "stdout",
     "output_type": "stream",
     "text": [
      "Epoch 35 | Loss: 278.5949 | Accuracy: 97.14%\n"
     ]
    },
    {
     "name": "stderr",
     "output_type": "stream",
     "text": [
      "Epoch 36: 100%|████████████████████████████████████████████████████████████████████| 2719/2719 [05:54<00:00,  7.68it/s]\n"
     ]
    },
    {
     "name": "stdout",
     "output_type": "stream",
     "text": [
      "Epoch 36 | Loss: 279.7953 | Accuracy: 97.15%\n"
     ]
    },
    {
     "name": "stderr",
     "output_type": "stream",
     "text": [
      "Epoch 37: 100%|████████████████████████████████████████████████████████████████████| 2719/2719 [06:06<00:00,  7.41it/s]\n"
     ]
    },
    {
     "name": "stdout",
     "output_type": "stream",
     "text": [
      "Epoch 37 | Loss: 288.8808 | Accuracy: 97.09%\n"
     ]
    },
    {
     "name": "stderr",
     "output_type": "stream",
     "text": [
      "Epoch 38: 100%|████████████████████████████████████████████████████████████████████| 2719/2719 [05:31<00:00,  8.21it/s]\n"
     ]
    },
    {
     "name": "stdout",
     "output_type": "stream",
     "text": [
      "Epoch 38 | Loss: 271.8932 | Accuracy: 97.28%\n"
     ]
    },
    {
     "name": "stderr",
     "output_type": "stream",
     "text": [
      "Epoch 39: 100%|██████████████████████████████████████████████████████████████████| 2719/2719 [1:45:42<00:00,  2.33s/it]\n"
     ]
    },
    {
     "name": "stdout",
     "output_type": "stream",
     "text": [
      "Epoch 39 | Loss: 265.4220 | Accuracy: 97.43%\n"
     ]
    },
    {
     "name": "stderr",
     "output_type": "stream",
     "text": [
      "Epoch 40: 100%|████████████████████████████████████████████████████████████████████| 2719/2719 [12:54<00:00,  3.51it/s]\n"
     ]
    },
    {
     "name": "stdout",
     "output_type": "stream",
     "text": [
      "Epoch 40 | Loss: 283.5751 | Accuracy: 97.24%\n"
     ]
    },
    {
     "name": "stderr",
     "output_type": "stream",
     "text": [
      "Epoch 41: 100%|████████████████████████████████████████████████████████████████████| 2719/2719 [06:33<00:00,  6.91it/s]\n"
     ]
    },
    {
     "name": "stdout",
     "output_type": "stream",
     "text": [
      "Epoch 41 | Loss: 275.6379 | Accuracy: 97.41%\n"
     ]
    },
    {
     "name": "stderr",
     "output_type": "stream",
     "text": [
      "Epoch 42: 100%|████████████████████████████████████████████████████████████████████| 2719/2719 [05:03<00:00,  8.95it/s]\n"
     ]
    },
    {
     "name": "stdout",
     "output_type": "stream",
     "text": [
      "Epoch 42 | Loss: 271.5881 | Accuracy: 97.29%\n"
     ]
    },
    {
     "name": "stderr",
     "output_type": "stream",
     "text": [
      "Epoch 43: 100%|████████████████████████████████████████████████████████████████████| 2719/2719 [49:55<00:00,  1.10s/it]\n"
     ]
    },
    {
     "name": "stdout",
     "output_type": "stream",
     "text": [
      "Epoch 43 | Loss: 262.5224 | Accuracy: 97.46%\n"
     ]
    },
    {
     "name": "stderr",
     "output_type": "stream",
     "text": [
      "Epoch 44:  63%|██████████████████████████████████████████▋                         | 1706/2719 [07:04<04:14,  3.97it/s]IOPub message rate exceeded.\n",
      "The Jupyter server will temporarily stop sending output\n",
      "to the client in order to avoid crashing it.\n",
      "To change this limit, set the config variable\n",
      "`--ServerApp.iopub_msg_rate_limit`.\n",
      "\n",
      "Current values:\n",
      "ServerApp.iopub_msg_rate_limit=1000.0 (msgs/sec)\n",
      "ServerApp.rate_limit_window=3.0 (secs)\n",
      "\n",
      "Epoch 50: 100%|████████████████████████████████████████████████████████████████████| 2719/2719 [09:46<00:00,  4.64it/s]\n"
     ]
    },
    {
     "name": "stdout",
     "output_type": "stream",
     "text": [
      "Epoch 50 | Loss: 255.3198 | Accuracy: 97.76%\n",
      "Most common predictions: [(0, 1), (1, 1), (2, 1), (3, 1), (4, 1)]\n",
      "Labels in test set: [0, 1, 2, 3, 4, 5, 6, 7, 8, 9, 10, 11, 12, 13, 14, 15, 16, 17, 18, 19, 20, 21, 22, 23, 24, 25, 27, 28]\n",
      "\n",
      "Classification Report\n",
      "              precision    recall  f1-score   support\n",
      "\n",
      "           A       1.00      1.00      1.00         1\n",
      "           B       1.00      1.00      1.00         1\n",
      "           C       1.00      1.00      1.00         1\n",
      "           D       1.00      1.00      1.00         1\n",
      "           E       1.00      1.00      1.00         1\n",
      "           F       1.00      1.00      1.00         1\n",
      "           G       1.00      1.00      1.00         1\n",
      "           H       1.00      1.00      1.00         1\n",
      "           I       1.00      1.00      1.00         1\n",
      "           J       1.00      1.00      1.00         1\n",
      "           K       1.00      1.00      1.00         1\n",
      "           L       1.00      1.00      1.00         1\n",
      "           M       1.00      1.00      1.00         1\n",
      "           N       1.00      1.00      1.00         1\n",
      "           O       1.00      1.00      1.00         1\n",
      "           P       1.00      1.00      1.00         1\n",
      "           Q       1.00      1.00      1.00         1\n",
      "           R       1.00      1.00      1.00         1\n",
      "           S       1.00      1.00      1.00         1\n",
      "           T       1.00      1.00      1.00         1\n",
      "           U       1.00      1.00      1.00         1\n",
      "           V       1.00      1.00      1.00         1\n",
      "           W       1.00      1.00      1.00         1\n",
      "           X       1.00      1.00      1.00         1\n",
      "           Y       1.00      1.00      1.00         1\n",
      "           Z       1.00      1.00      1.00         1\n",
      "         del       0.00      0.00      0.00         0\n",
      "     nothing       1.00      1.00      1.00         1\n",
      "       space       1.00      1.00      1.00         1\n",
      "\n",
      "   micro avg       1.00      1.00      1.00        28\n",
      "   macro avg       0.97      0.97      0.97        28\n",
      "weighted avg       1.00      1.00      1.00        28\n",
      "\n"
     ]
    },
    {
     "data": {
      "image/png": "[encoded data removed]",
      "text/plain": [
       "<Figure size 1500x900 with 2 Axes>"
      ]
     },
     "metadata": {},
     "output_type": "display_data"
    },
    {
     "data": {
      "image/png": "[encoded data removed]",
      "text/plain": [
       "<Figure size 640x480 with 1 Axes>"
      ]
     },
     "metadata": {},
     "output_type": "display_data"
    },
    {
     "data": {
      "image/png": "[encoded data removed]",
      "text/plain": [
       "<Figure size 1500x1250 with 27 Axes>"
      ]
     },
     "metadata": {},
     "output_type": "display_data"
    }
   ],
   "source": [
    "# --------- Import Required Libraries ---------\n",
    "import os\n",
    "import numpy as np\n",
    "import torch\n",
    "import torch.nn as nn\n",
    "import torch.nn.functional as F\n",
    "import torchvision.transforms as T\n",
    "import torchvision\n",
    "from torch.utils.data import DataLoader, Dataset\n",
    "from sklearn.metrics import classification_report, confusion_matrix\n",
    "import matplotlib.pyplot as plt\n",
    "from PIL import Image\n",
    "from tqdm import tqdm\n",
    "from collections import Counter\n",
    "\n",
    "# --------- Data Directories ---------\n",
    "traindir = r\"C:\\Users\\khan2\\OneDrive - IIT Kanpur\\Intern Prep\\SignVision\\dataset\\asl_alphabet_train\\asl_alphabet_train\"\n",
    "testdir = r\"C:\\Users\\khan2\\OneDrive - IIT Kanpur\\Intern Prep\\SignVision\\dataset\\asl_alphabet_test\\asl_alphabet_test\"\n",
    "\n",
    "# --------- Preprocessing Pipeline ---------\n",
    "transform = T.Compose([\n",
    "    T.Resize((100, 100)),\n",
    "    T.ToTensor()\n",
    "])\n",
    "\n",
    "# --------- Load Training Dataset ---------\n",
    "trainds = torchvision.datasets.ImageFolder(root=traindir, transform=transform)\n",
    "classes = trainds.classes\n",
    "lbl2idx = {lbl.upper(): i for i, lbl in enumerate(classes)}\n",
    "idx2lbl = {i: lbl for lbl, i in lbl2idx.items()}\n",
    "\n",
    "# --------- Custom Dataset for Test Images ---------\n",
    "class ASLTestDS(Dataset):\n",
    "    def __init__(self, folder, transform=None):\n",
    "        self.path = folder\n",
    "        self.tf = transform\n",
    "        self.files = [f for f in os.listdir(folder)\n",
    "                      if f.lower().endswith(('.jpg', '.png')) and f.split('_')[0].upper() in lbl2idx]\n",
    "        self.labels = [self.get_lbl(f) for f in self.files]\n",
    "\n",
    "    def get_lbl(self, fname):\n",
    "        lbl = fname.split('_')[0].upper()\n",
    "        return lbl2idx[lbl]\n",
    "\n",
    "    def __len__(self):\n",
    "        return len(self.files)\n",
    "\n",
    "    def __getitem__(self, i):\n",
    "        img = Image.open(os.path.join(self.path, self.files[i])).convert(\"RGB\")\n",
    "        lbl = self.labels[i]\n",
    "        if self.tf:\n",
    "            img = self.tf(img)\n",
    "        return img, lbl\n",
    "\n",
    "# --------- Create Dataloaders ---------\n",
    "testds = ASLTestDS(testdir, transform)\n",
    "train_dl = DataLoader(trainds, batch_size=32, shuffle=True, num_workers=2)\n",
    "test_dl = DataLoader(testds, batch_size=32, shuffle=False)\n",
    "\n",
    "# --------- CNN Model Definition ---------\n",
    "class ASLNet(nn.Module):\n",
    "    def __init__(self):\n",
    "        super().__init__()\n",
    "        self.c1 = nn.Conv2d(3, 27, 5)\n",
    "        self.p1 = nn.MaxPool2d(4, 4)\n",
    "        self.c2 = nn.Conv2d(27, 27, 5)\n",
    "        self.p2 = nn.MaxPool2d(2, 2)\n",
    "\n",
    "        # Compute flattened size after convolution for FC layer\n",
    "        with torch.no_grad():\n",
    "            dummy = torch.zeros(1, 3, 100, 100)\n",
    "            dummy = self.p1(F.relu(self.c1(dummy)))\n",
    "            dummy = self.p2(F.relu(self.c2(dummy)))\n",
    "            self.flat_dim = dummy.view(1, -1).shape[1]\n",
    "\n",
    "        self.f1 = nn.Linear(self.flat_dim, 270)\n",
    "        self.drop = nn.Dropout(0.5)\n",
    "        self.f2 = nn.Linear(270, len(classes))\n",
    "\n",
    "    def forward(self, x):\n",
    "        x = F.relu(self.c1(x))\n",
    "        x = self.p1(x)\n",
    "        x = F.relu(self.c2(x))\n",
    "        x = self.p2(x)\n",
    "        x = x.view(x.size(0), -1)\n",
    "        x = self.drop(self.f1(x))\n",
    "        return self.f2(x)\n",
    "\n",
    "# --------- Set Device and Initialize Model ---------\n",
    "dev = torch.device(\"cuda\" if torch.cuda.is_available() else \"cpu\")\n",
    "model = ASLNet().to(dev)\n",
    "loss_fn = nn.CrossEntropyLoss()\n",
    "opt = torch.optim.Adam(model.parameters(), lr=0.001)\n",
    "\n",
    "# --------- Training Loop (50 Epochs) ---------\n",
    "for ep in range(50):\n",
    "    model.train()\n",
    "    total = 0\n",
    "    correct = 0\n",
    "    run_loss = 0\n",
    "\n",
    "    for x, y in tqdm(train_dl, desc=\"Epoch \" + str(ep + 1)):\n",
    "        x, y = x.to(dev), y.to(dev)\n",
    "        out = model(x)\n",
    "        loss = loss_fn(out, y)\n",
    "        opt.zero_grad()\n",
    "        loss.backward()\n",
    "        opt.step()\n",
    "\n",
    "        run_loss += loss.item()\n",
    "        preds = out.argmax(dim=1)\n",
    "        total += y.size(0)\n",
    "        correct += (preds == y).sum().item()\n",
    "\n",
    "    acc = 100 * correct / total\n",
    "    print(f\"Epoch {ep + 1} | Loss: {run_loss:.4f} | Accuracy: {acc:.2f}%\")\n",
    "\n",
    "# --------- Evaluation on Test Data ---------\n",
    "model.eval()\n",
    "y_true = []\n",
    "y_pred = []\n",
    "\n",
    "with torch.no_grad():\n",
    "    for x, y in test_dl:\n",
    "        x = x.to(dev)\n",
    "        out = model(x)\n",
    "        preds = out.argmax(dim=1)\n",
    "        y_true.extend(y.numpy().tolist())\n",
    "        y_pred.extend(preds.cpu().numpy().tolist())\n",
    "\n",
    "print(\"Most common predictions:\", Counter(y_pred).most_common(5))\n",
    "print(\"Labels in test set:\", sorted(set(y_true)))\n",
    "\n",
    "# --------- Classification Report and Confusion Matrix ---------\n",
    "print(\"\\nClassification Report\")\n",
    "print(classification_report(\n",
    "    y_true,\n",
    "    y_pred,\n",
    "    labels=list(range(len(classes))),\n",
    "    target_names=classes,\n",
    "    zero_division=0\n",
    "))\n",
    "\n",
    "confmat = confusion_matrix(\n",
    "    y_true,\n",
    "    y_pred,\n",
    "    labels=list(range(len(classes)))\n",
    ")\n",
    "\n",
    "# --------- Plot Confusion Matrix ---------\n",
    "plt.figure(figsize=(15, 9))\n",
    "plt.imshow(confmat, interpolation='nearest', cmap='BuGn')\n",
    "plt.title('Confusion Matrix')\n",
    "plt.colorbar()\n",
    "ticks = np.arange(len(classes))\n",
    "plt.xticks(ticks, classes, rotation=90)\n",
    "plt.yticks(ticks, classes)\n",
    "\n",
    "thresh = confmat.max() / 2\n",
    "for i in range(len(classes)):\n",
    "    for j in range(len(classes)):\n",
    "        plt.text(j, i, format(confmat[i, j], 'd'),\n",
    "                 ha=\"center\", va=\"center\",\n",
    "                 fontsize=8,\n",
    "                 fontweight='bold',\n",
    "                 color=\"white\" if confmat[i, j] > thresh else \"black\")\n",
    "\n",
    "plt.ylabel('True')\n",
    "plt.xlabel('Predicted')\n",
    "plt.tight_layout()\n",
    "plt.savefig(\"conf_matrix.png\")\n",
    "plt.show()\n",
    "\n",
    "# --------- Grad-CAM Visualization for Interpretability ---------\n",
    "class GradCAM:\n",
    "    def __init__(self, model, target_layer):\n",
    "        self.model = model\n",
    "        self.layer = target_layer\n",
    "        self.grad = None\n",
    "        self.act = None\n",
    "        self.layer.register_forward_hook(self.save_act)\n",
    "        self.layer.register_full_backward_hook(self.save_grad)\n",
    "\n",
    "    def save_act(self, module, inp, out):\n",
    "        self.act = out\n",
    "\n",
    "    def save_grad(self, module, grad_in, grad_out):\n",
    "        self.grad = grad_out[0]\n",
    "\n",
    "    def generate(self, x, cls_idx):\n",
    "        self.model.eval()\n",
    "        x.requires_grad_()\n",
    "        self.model.zero_grad()\n",
    "        out = self.model(x)\n",
    "        out[0, cls_idx].backward()\n",
    "        grad = self.grad[0]\n",
    "        act = self.act[0]\n",
    "        wts = torch.mean(grad, dim=[1, 2])\n",
    "        for i in range(act.size(0)):\n",
    "            act[i] *= wts[i]\n",
    "        heat = torch.mean(act, dim=0).detach().cpu().numpy()\n",
    "        heat = np.maximum(heat, 0)\n",
    "        heat = heat / np.max(heat)\n",
    "        return heat\n",
    "\n",
    "# --------- Visualize Grad-CAM for First Test Image ---------\n",
    "img, lbl = testds[0]\n",
    "inp = img.unsqueeze(0).to(dev)\n",
    "pred = model(inp).argmax().item()\n",
    "cam = GradCAM(model, model.c2)\n",
    "heatmap = cam.generate(inp, pred)\n",
    "\n",
    "# --------- Overlay Heatmap on Input Image ---------\n",
    "plt.imshow(np.transpose(img.numpy(), (1, 2, 0)))\n",
    "plt.imshow(heatmap, cmap='jet', alpha=0.5)\n",
    "plt.title(\"Grad-CAM: \" + idx2lbl[pred])\n",
    "plt.axis('off')\n",
    "plt.savefig(\"gradcam.png\")\n",
    "plt.show()\n",
    "\n",
    "# --------- Visualize Full Activation Maps from c2 Layer ---------\n",
    "def plot_activation_maps(model, input_tensor, target_layer, idx2lbl, pred_label):\n",
    "    activations = []\n",
    "\n",
    "    def hook_fn(module, input, output):\n",
    "        activations.append(output.detach().cpu())\n",
    "\n",
    "    handle = target_layer.register_forward_hook(hook_fn)\n",
    "\n",
    "    model.eval()\n",
    "    with torch.no_grad():\n",
    "        _ = model(input_tensor)\n",
    "\n",
    "    handle.remove()\n",
    "    act_maps = activations[0][0]  # Shape: [channels, H, W]\n",
    "\n",
    "    num_maps = act_maps.shape[0]\n",
    "    cols = 6\n",
    "    rows = int(np.ceil(num_maps / cols))\n",
    "\n",
    "    plt.figure(figsize=(2.5 * cols, 2.5 * rows))\n",
    "    for i in range(num_maps):\n",
    "        plt.subplot(rows, cols, i + 1)\n",
    "        plt.imshow(act_maps[i], cmap='viridis')\n",
    "        plt.axis('off')\n",
    "        plt.title(f\"F{i+1}\", fontsize=8)\n",
    "\n",
    "    plt.suptitle(f\"Activation Maps from c2 Layer (Predicted: {idx2lbl[pred_label]})\", fontsize=14)\n",
    "    plt.tight_layout(rect=[0, 0, 1, 0.95])\n",
    "    plt.savefig(\"activation_maps.png\")\n",
    "    plt.show()\n",
    "\n",
    "# --------- Call function to plot activations ---------\n",
    "plot_activation_maps(model, inp, model.c2, idx2lbl, pred)\n"
   ]
  },
  {
   "cell_type": "code",
   "execution_count": null,
   "id": "3610ae17-12e6-4b74-8e8d-db1aac1f3379",
   "metadata": {},
   "outputs": [],
   "source": []
  },
  {
   "cell_type": "code",
   "execution_count": null,
   "id": "cf751b17-13c2-492f-80e3-27998b8588ef",
   "metadata": {},
   "outputs": [],
   "source": []
  }
 ],
 "metadata": {
  "kernelspec": {
   "display_name": "Python 3 (ipykernel)",
   "language": "python",
   "name": "python3"
  },
  "language_info": {
   "codemirror_mode": {
    "name": "ipython",
    "version": 3
   },
   "file_extension": ".py",
   "mimetype": "text/x-python",
   "name": "python",
   "nbconvert_exporter": "python",
   "pygments_lexer": "ipython3",
   "version": "3.12.4"
  }
 },
 "nbformat": 4,
 "nbformat_minor": 5
}
